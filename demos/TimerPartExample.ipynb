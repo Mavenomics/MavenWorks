{
 "cells": [
  {
   "cell_type": "code",
   "execution_count": 1,
   "metadata": {},
   "outputs": [],
   "source": [
    "import pandas as pd\n",
    "import numpy as np\n",
    "\n",
    "def randomTable(*args):\n",
    "    df = pd.DataFrame(np.random.randint(0,100,size=(100, 4)), columns=list('ABCD'))\n",
    "    df[\"Rand\"] = df[\"A\"].map(lambda x: args[0] if len(args) > 0 else None)\n",
    "    return df"
   ]
  },
  {
   "cell_type": "code",
   "execution_count": 2,
   "metadata": {
    "showinviewer": "true"
   },
   "outputs": [
    {
     "data": {
      "application/vnd.maven.layout+json": {
       "globals": [],
       "layout": {
        "attachedProperties": [
         {
          "Fixed Size (px)": 35,
          "Stretch": null
         },
         {
          "Fixed Size (px)": null,
          "Stretch": 1
         },
         {
          "Fixed Size (px)": 1,
          "Stretch": null
         }
        ],
        "children": [
         {
          "guid": "c0a07b30-7333-4b6a-ae7d-02d84e46ce8f",
          "properties": {
           "caption": "DropdownPart",
           "fixedSize.px": 35,
           "showTitle": false
          },
          "typeName": 1,
          "uuid": "aaefea66-9394-451d-914b-fef1e3ee12da"
         },
         {
          "guid": "aef73f97-a8bd-43b0-93e2-b62964cf4e6f",
          "properties": {
           "caption": "SlickGrid",
           "flexSize": 1,
           "showTitle": false
          },
          "typeName": 1,
          "uuid": "a83a12f3-cfca-4fc0-8465-749543467e26"
         },
         {
          "guid": "e301c107-7e3c-45a3-95f4-523a7bdfe49a",
          "properties": {
           "caption": "TimerPart",
           "fixedSize.px": 1,
           "showRegion": false,
           "showTitle": false
          },
          "typeName": 1,
          "uuid": "34da5429-b273-4517-822a-f4a565c2b23d"
         }
        ],
        "properties": {
         "flexSize": 1
        },
        "typeName": 0,
        "uuid": "dbcd3ed3-0654-44c0-b9ab-70ad017d6670"
       },
       "localParts": {},
       "metadata": {},
       "parts": {
        "aef73f97-a8bd-43b0-93e2-b62964cf4e6f": {
         "application/vnd.maven.part+json": {
          "id": "aef73f97-a8bd-43b0-93e2-b62964cf4e6f",
          "name": "SlickGrid",
          "options": {
           "Formatting": {
            "typeName": "String",
            "value": "{\"A\": {\"ChangeHighlighting.Enabled\": \"True\"}}"
           },
           "Input Table": {
            "expr": "randomTable(@rand)",
            "globals": [
             "rand"
            ],
            "type": "Eval"
           }
          }
         },
         "text/plain": "VisualEditorPart"
        },
        "c0a07b30-7333-4b6a-ae7d-02d84e46ce8f": {
         "application/vnd.maven.part+json": {
          "id": "c0a07b30-7333-4b6a-ae7d-02d84e46ce8f",
          "name": "DropdownPart",
          "options": {
           "options": {
            "expr": "dropdown_options",
            "type": "Global"
           },
           "value": {
            "expr": "selected",
            "type": "Global"
           }
          }
         },
         "text/plain": "VisualEditorPart"
        },
        "e301c107-7e3c-45a3-95f4-523a7bdfe49a": {
         "application/vnd.maven.part+json": {
          "id": "e301c107-7e3c-45a3-95f4-523a7bdfe49a",
          "name": "TimerPart",
          "options": {
           "enabled": {
            "expr": "@selected==\"On\"",
            "globals": [
             "selected"
            ],
            "type": "Eval"
           },
           "rand": {
            "expr": "rand",
            "type": "Global"
           }
          }
         },
         "text/plain": "VisualEditorPart"
        }
       },
       "visual": true
      }
     },
     "metadata": {},
     "output_type": "display_data"
    }
   ],
   "source": [
    "# Auto-generated code, do not edit!\n",
    "_json = __import__(\"json\")\n",
    "display(_json.loads(\"{\\\"application/vnd.maven.layout+json\\\": {\\\"layout\\\":{\\\"properties\\\":{\\\"flexSize\\\":1},\\\"typeName\\\":0,\\\"uuid\\\":\\\"dbcd3ed3-0654-44c0-b9ab-70ad017d6670\\\",\\\"attachedProperties\\\":[{\\\"Fixed Size (px)\\\":35,\\\"Stretch\\\":null},{\\\"Fixed Size (px)\\\":null,\\\"Stretch\\\":1},{\\\"Fixed Size (px)\\\":1,\\\"Stretch\\\":null}],\\\"children\\\":[{\\\"properties\\\":{\\\"fixedSize.px\\\":35,\\\"showTitle\\\":false,\\\"caption\\\":\\\"DropdownPart\\\"},\\\"typeName\\\":1,\\\"uuid\\\":\\\"aaefea66-9394-451d-914b-fef1e3ee12da\\\",\\\"guid\\\":\\\"c0a07b30-7333-4b6a-ae7d-02d84e46ce8f\\\"},{\\\"properties\\\":{\\\"flexSize\\\":1,\\\"showTitle\\\":false,\\\"caption\\\":\\\"SlickGrid\\\"},\\\"typeName\\\":1,\\\"uuid\\\":\\\"a83a12f3-cfca-4fc0-8465-749543467e26\\\",\\\"guid\\\":\\\"aef73f97-a8bd-43b0-93e2-b62964cf4e6f\\\"},{\\\"properties\\\":{\\\"fixedSize.px\\\":1,\\\"showRegion\\\":false,\\\"showTitle\\\":false,\\\"caption\\\":\\\"TimerPart\\\"},\\\"typeName\\\":1,\\\"uuid\\\":\\\"34da5429-b273-4517-822a-f4a565c2b23d\\\",\\\"guid\\\":\\\"e301c107-7e3c-45a3-95f4-523a7bdfe49a\\\"}]},\\\"parts\\\":{\\\"aef73f97-a8bd-43b0-93e2-b62964cf4e6f\\\":{\\\"application/vnd.maven.part+json\\\":{\\\"name\\\":\\\"SlickGrid\\\",\\\"id\\\":\\\"aef73f97-a8bd-43b0-93e2-b62964cf4e6f\\\",\\\"options\\\":{\\\"Input Table\\\":{\\\"type\\\":\\\"Eval\\\",\\\"expr\\\":\\\"randomTable(@rand)\\\",\\\"globals\\\":[\\\"rand\\\"]},\\\"Formatting\\\":{\\\"typeName\\\":\\\"String\\\",\\\"value\\\":\\\"{\\\\\\\"A\\\\\\\": {\\\\\\\"ChangeHighlighting.Enabled\\\\\\\": \\\\\\\"True\\\\\\\"}}\\\"}}},\\\"text/plain\\\":\\\"VisualEditorPart\\\"},\\\"c0a07b30-7333-4b6a-ae7d-02d84e46ce8f\\\":{\\\"application/vnd.maven.part+json\\\":{\\\"name\\\":\\\"DropdownPart\\\",\\\"id\\\":\\\"c0a07b30-7333-4b6a-ae7d-02d84e46ce8f\\\",\\\"options\\\":{\\\"value\\\":{\\\"type\\\":\\\"Global\\\",\\\"expr\\\":\\\"selected\\\"},\\\"options\\\":{\\\"type\\\":\\\"Global\\\",\\\"expr\\\":\\\"dropdown_options\\\"}}},\\\"text/plain\\\":\\\"VisualEditorPart\\\"},\\\"e301c107-7e3c-45a3-95f4-523a7bdfe49a\\\":{\\\"application/vnd.maven.part+json\\\":{\\\"name\\\":\\\"TimerPart\\\",\\\"id\\\":\\\"e301c107-7e3c-45a3-95f4-523a7bdfe49a\\\",\\\"options\\\":{\\\"rand\\\":{\\\"type\\\":\\\"Global\\\",\\\"expr\\\":\\\"rand\\\"},\\\"enabled\\\":{\\\"type\\\":\\\"Eval\\\",\\\"expr\\\":\\\"@selected==\\\\\\\"On\\\\\\\"\\\",\\\"globals\\\":[\\\"selected\\\"]}}},\\\"text/plain\\\":\\\"VisualEditorPart\\\"}},\\\"metadata\\\":{},\\\"globals\\\":[{\\\"name\\\":\\\"rand\\\",\\\"type\\\":\\\"Any\\\",\\\"value\\\":0.02100283739633313},{\\\"name\\\":\\\"dropdown_options\\\",\\\"type\\\":\\\"Array\\\",\\\"value\\\":[{\\\"typeName\\\":\\\"String\\\",\\\"value\\\":\\\"On\\\"},{\\\"typeName\\\":\\\"String\\\",\\\"value\\\":\\\"Off\\\"}]},{\\\"name\\\":\\\"selected\\\",\\\"type\\\":\\\"Any\\\",\\\"value\\\":\\\"Off\\\"}],\\\"localParts\\\":{},\\\"visual\\\":true}}\"), raw=True)\n",
    "del _json"
   ]
  },
  {
   "cell_type": "code",
   "execution_count": null,
   "metadata": {},
   "outputs": [],
   "source": []
  }
 ],
 "metadata": {
  "kernelspec": {
   "display_name": "Python 3",
   "language": "python",
   "name": "python3"
  },
  "language_info": {
   "codemirror_mode": {
    "name": "ipython",
    "version": 3
   },
   "file_extension": ".py",
   "mimetype": "text/x-python",
   "name": "python",
   "nbconvert_exporter": "python",
   "pygments_lexer": "ipython3",
   "version": "3.7.1"
  }
 },
 "nbformat": 4,
 "nbformat_minor": 2
}
