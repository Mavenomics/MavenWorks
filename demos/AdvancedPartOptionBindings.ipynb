{
 "cells": [
  {
   "cell_type": "markdown",
   "metadata": {},
   "source": [
    "# Advanced Bindings\n",
    "\n",
    "In MavenWorks, there are 3 types of bindings: GlobalBinds, EvalBinds, and Callback Binds.\n",
    "\n",
    "GlobalBinds bind an option to a single global- they're very simple and easy to understand.\n",
    "\n",
    "Callback Binds bind an option to a callback- you give it a list of globals to subscribe to, and a Python function as a callback. The option will be bound to the value of the callback.\n",
    "\n",
    "EvalBinds work similarly to CallbackBinds, except they take in a Python expression as a string. Globals are referenced with a preceeding at-sign."
   ]
  },
  {
   "cell_type": "code",
   "execution_count": 2,
   "metadata": {},
   "outputs": [],
   "source": [
    "import mavenworks\n",
    "import math"
   ]
  },
  {
   "cell_type": "code",
   "execution_count": 1,
   "metadata": {},
   "outputs": [],
   "source": [
    "def formatTwiceLen(length):\n",
    "    return f\"@Length * 2 = {length * 2}\""
   ]
  },
  {
   "cell_type": "code",
   "execution_count": 3,
   "metadata": {
    "showinviewer": "true"
   },
   "outputs": [
    {
     "data": {
      "application/vnd.maven.layout+json": {
       "layout": {
        "children": [],
        "properties": {
         "flexSize": 1
        },
        "typeName": 0,
        "uuid": "901fe7ac-5f6b-409b-8c54-6284add4474a"
       },
       "metadata": {},
       "parts": {},
       "visual": true
      }
     },
     "metadata": {},
     "output_type": "display_data"
    }
   ],
   "source": [
    "# Auto-generated code, do not edit!\n",
    "_json = __import__(\"json\")\n",
    "display(_json.loads(\"{\\\"application/vnd.maven.layout+json\\\": {\\\"layout\\\":{\\\"properties\\\":{\\\"flexSize\\\":1},\\\"typeName\\\":0,\\\"uuid\\\":\\\"901fe7ac-5f6b-409b-8c54-6284add4474a\\\",\\\"attachedProperties\\\":[{\\\"Fixed Size (px)\\\":null,\\\"Stretch\\\":1.1169354838709677},{\\\"Fixed Size (px)\\\":null,\\\"Stretch\\\":0.8830645161290323}],\\\"children\\\":[{\\\"properties\\\":{\\\"prunable\\\":true,\\\"horizontal\\\":true},\\\"typeName\\\":0,\\\"uuid\\\":\\\"c140f572-4ddc-4cde-bcab-828034351cbc\\\",\\\"attachedProperties\\\":[{\\\"Fixed Size (px)\\\":null,\\\"Stretch\\\":1},{\\\"Fixed Size (px)\\\":null,\\\"Stretch\\\":1}],\\\"children\\\":[{\\\"properties\\\":{\\\"showTitle\\\":false},\\\"typeName\\\":1,\\\"uuid\\\":\\\"1c461815-3daa-4389-8a1a-e512b055c860\\\",\\\"guid\\\":\\\"878f24eb-2efe-4168-9317-0dab04d00863\\\"},{\\\"properties\\\":{\\\"showRegion\\\":true,\\\"showTitle\\\":false},\\\"typeName\\\":1,\\\"uuid\\\":\\\"a36b743c-ee4f-40d1-956f-3dc71f7fcb5f\\\",\\\"guid\\\":\\\"534df8ef-f68d-458d-8c6b-f106a56ab286\\\"}]},{\\\"properties\\\":{\\\"showTitle\\\":false},\\\"typeName\\\":1,\\\"uuid\\\":\\\"03ab4b44-88e2-42c6-873c-8ac3521db00a\\\",\\\"guid\\\":\\\"40e67cb7-dbbe-430e-a8f1-aae79d2606db\\\"}]},\\\"parts\\\":{\\\"878f24eb-2efe-4168-9317-0dab04d00863\\\":{\\\"application/vnd.maven.part+json\\\":{\\\"name\\\":\\\"LabelPart\\\",\\\"id\\\":\\\"878f24eb-2efe-4168-9317-0dab04d00863\\\",\\\"options\\\":{\\\"Value\\\":{\\\"type\\\":\\\"Eval\\\",\\\"expr\\\":\\\"formatTwiceLen(@Length)\\\",\\\"globals\\\":[\\\"Length\\\"]},\\\"Caption\\\":{\\\"typeName\\\":\\\"String\\\",\\\"value\\\":\\\"Python method call\\\"}}},\\\"text/plain\\\":\\\"VisualEditorPart\\\"},\\\"534df8ef-f68d-458d-8c6b-f106a56ab286\\\":{\\\"application/vnd.maven.part+json\\\":{\\\"name\\\":\\\"LabelPart\\\",\\\"id\\\":\\\"534df8ef-f68d-458d-8c6b-f106a56ab286\\\",\\\"options\\\":{\\\"Value\\\":{\\\"type\\\":\\\"Eval\\\",\\\"expr\\\":\\\"\\\\\\\"@Length ^ 2 = \\\\\\\" + str(math.pow(@Length, 2))\\\",\\\"globals\\\":[\\\"Length\\\",\\\"Length\\\"]},\\\"Caption\\\":{\\\"typeName\\\":\\\"String\\\",\\\"value\\\":\\\"Expression\\\"}}},\\\"text/plain\\\":\\\"VisualEditorPart\\\"},\\\"40e67cb7-dbbe-430e-a8f1-aae79d2606db\\\":{\\\"application/vnd.maven.part+json\\\":{\\\"name\\\":\\\"SliderPart\\\",\\\"id\\\":\\\"40e67cb7-dbbe-430e-a8f1-aae79d2606db\\\",\\\"options\\\":{\\\"Value\\\":{\\\"type\\\":\\\"Global\\\",\\\"expr\\\":\\\"Length\\\",\\\"globals\\\":[\\\"Length\\\"]},\\\"Min\\\":{\\\"typeName\\\":\\\"Number\\\",\\\"value\\\":100},\\\"Max\\\":{\\\"typeName\\\":\\\"Number\\\",\\\"value\\\":500},\\\"Step\\\":{\\\"typeName\\\":\\\"Number\\\",\\\"value\\\":50}}},\\\"text/plain\\\":\\\"VisualEditorPart\\\"}},\\\"metadata\\\":{},\\\"globals\\\":[{\\\"name\\\":\\\"Length\\\",\\\"type\\\":\\\"Number\\\",\\\"value\\\":300}],\\\"localParts\\\":{},\\\"visual\\\":true}}\"), raw=True)\n",
    "del _json"
   ]
  },
  {
   "cell_type": "code",
   "execution_count": null,
   "metadata": {},
   "outputs": [],
   "source": []
  }
 ],
 "metadata": {
  "kernelspec": {
   "display_name": "Python 3",
   "language": "python",
   "name": "python3"
  },
  "language_info": {
   "codemirror_mode": {
    "name": "ipython",
    "version": 3
   },
   "file_extension": ".py",
   "mimetype": "text/x-python",
   "name": "python",
   "nbconvert_exporter": "python",
   "pygments_lexer": "ipython3",
   "version": "3.7.3"
  }
 },
 "nbformat": 4,
 "nbformat_minor": 4
}
