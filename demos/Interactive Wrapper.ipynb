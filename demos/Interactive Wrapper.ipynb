{
 "cells": [
  {
   "cell_type": "code",
   "execution_count": 1,
   "metadata": {},
   "outputs": [],
   "source": [
    "from mavenworks import wrap\n",
    "from IPython.display import Markdown\n",
    "import datetime\n",
    "import pandas as pd\n",
    "df = pd.read_csv(\"./fake_volume_data.csv\")"
   ]
  },
  {
   "cell_type": "code",
   "execution_count": 2,
   "metadata": {},
   "outputs": [],
   "source": [
    "def get_kitten(use_color, size_x, size_y, annotation, time_of, table):\n",
    "    return Markdown(f\"\"\"Hello, world!\n",
    "\n",
    "![kitten](//placekitten.com{'/' if use_color else '/g/'}{size_x}/{size_y})\n",
    "\n",
    "Today's date: {time_of.isoformat()}\n",
    "\n",
    "$\\Delta {annotation}$\n",
    "\n",
    "{\"|\".join([i for i in table.columns]) + \"|\"}\n",
    "{\"|\".join([\"---\" for i in table.columns]) + \"|\"}\n",
    "{\"|\".join([str(i) for i in table.iloc[0]]) + \"|\"}\n",
    "{\"|\".join([str(i) for i in table.iloc[1]]) + \"|\"}\n",
    "\"\"\")"
   ]
  },
  {
   "cell_type": "code",
   "execution_count": 4,
   "metadata": {
    "showinviewer": "true"
   },
   "outputs": [
    {
     "data": {
      "application/vnd.maven.layout+json": {
       "globals": [
        {
         "name": "arg0",
         "type": "Boolean",
         "value": true
        },
        {
         "name": "arg1",
         "type": "Number",
         "value": 200
        },
        {
         "name": "arg2",
         "type": "Number",
         "value": 200
        },
        {
         "name": "arg3",
         "type": "String",
         "value": "V"
        },
        {
         "name": "arg4",
         "type": "DateTime",
         "value": "2019-06-06T21:44:07.129005"
        },
        {
         "name": "arg5",
         "type": "Table",
         "value": {
          "arrow": true,
          "data": "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\n"
         }
        }
       ],
       "layout": {
        "children": [
         {
          "guid": "29d46712-c37d-4871-89dc-aafbfc72f40a",
          "properties": {
           "caption": "Arg0"
          },
          "typeName": 1,
          "uuid": "ed80bd15-c93f-4e28-9d56-c8b72803066f"
         },
         {
          "guid": "c17124d3-5ed1-4f2a-be90-dac3d0b2b72e",
          "properties": {
           "caption": "Arg1"
          },
          "typeName": 1,
          "uuid": "a9f7103a-adae-485b-8a98-af2b9749fcc0"
         },
         {
          "guid": "e7ff07ad-a112-473c-8b85-f330db66ec18",
          "properties": {
           "caption": "Arg2"
          },
          "typeName": 1,
          "uuid": "0dc27ebf-17ab-4de9-a103-3b1f54cdbbb3"
         },
         {
          "guid": "df008c21-bca2-46d6-afad-0cd2723a5120",
          "properties": {
           "caption": "Arg3"
          },
          "typeName": 1,
          "uuid": "54762f66-7988-46f8-bc5a-5037e2bf6f8c"
         },
         {
          "guid": "dfd41f84-f580-4fb8-8d8d-e21004c4a6d0",
          "properties": {
           "caption": "Arg4"
          },
          "typeName": 1,
          "uuid": "a3b27c06-df3b-4f5d-a89d-436dbe36bebb"
         },
         {
          "guid": "568cf2a9-d372-4ca8-b99c-5b7a8e6e7b3e",
          "properties": {
           "caption": "Arg5"
          },
          "typeName": 1,
          "uuid": "d2c19640-80ea-4f41-94bb-b53123b7b9f0"
         },
         {
          "guid": "10b6ec10-fb35-43a0-9d22-2478d05ede03",
          "properties": {
           "caption": "Output"
          },
          "typeName": 1,
          "uuid": "e82425d0-8ed9-4f0e-9819-df1d0de28c3a"
         }
        ],
        "properties": {},
        "typeName": 0,
        "uuid": "root"
       },
       "parts": {
        "10b6ec10-fb35-43a0-9d22-2478d05ede03": {
         "application/vnd.maven.part+json": {
          "name": "__autogenerated_38ac9848-237d-40cd-a028-af5f100473af",
          "options": {
           "arg0": {
            "expr": "arg0",
            "globals": [
             "arg0"
            ],
            "type": "Global"
           },
           "arg1": {
            "expr": "arg1",
            "globals": [
             "arg1"
            ],
            "type": "Global"
           },
           "arg2": {
            "expr": "arg2",
            "globals": [
             "arg2"
            ],
            "type": "Global"
           },
           "arg3": {
            "expr": "arg3",
            "globals": [
             "arg3"
            ],
            "type": "Global"
           },
           "arg4": {
            "expr": "arg4",
            "globals": [
             "arg4"
            ],
            "type": "Global"
           },
           "arg5": {
            "expr": "arg5",
            "globals": [
             "arg5"
            ],
            "type": "Global"
           }
          }
         }
        },
        "29d46712-c37d-4871-89dc-aafbfc72f40a": {
         "application/vnd.maven.part+json": {
          "name": "CheckboxPart",
          "options": {
           "Checked": {
            "expr": "arg0",
            "globals": [
             "arg0"
            ],
            "type": "Global"
           }
          }
         }
        },
        "568cf2a9-d372-4ca8-b99c-5b7a8e6e7b3e": {
         "application/vnd.maven.part+json": {
          "name": "TableEditor",
          "options": {
           "Input Data": {
            "expr": "arg5",
            "globals": [
             "arg5"
            ],
            "type": "Global"
           }
          }
         }
        },
        "c17124d3-5ed1-4f2a-be90-dac3d0b2b72e": {
         "application/vnd.maven.part+json": {
          "name": "SliderPart",
          "options": {
           "Max": {
            "typeName": "Number",
            "value": 500
           },
           "Min": {
            "typeName": "Number",
            "value": 0
           },
           "Step": {
            "typeName": "Number",
            "value": 10
           },
           "Value": {
            "expr": "arg1",
            "globals": [
             "arg1"
            ],
            "type": "Global"
           }
          }
         }
        },
        "df008c21-bca2-46d6-afad-0cd2723a5120": {
         "application/vnd.maven.part+json": {
          "name": "TextAreaPart",
          "options": {
           "Value": {
            "expr": "arg3",
            "globals": [
             "arg3"
            ],
            "type": "Global"
           }
          }
         }
        },
        "dfd41f84-f580-4fb8-8d8d-e21004c4a6d0": {
         "application/vnd.maven.part+json": {
          "name": "DatePickerPart",
          "options": {
           "Value": {
            "expr": "arg4",
            "globals": [
             "arg4"
            ],
            "type": "Global"
           }
          }
         }
        },
        "e7ff07ad-a112-473c-8b85-f330db66ec18": {
         "application/vnd.maven.part+json": {
          "name": "SliderPart",
          "options": {
           "Max": {
            "typeName": "Number",
            "value": 500
           },
           "Min": {
            "typeName": "Number",
            "value": 0
           },
           "Step": {
            "typeName": "Number",
            "value": 10
           },
           "Value": {
            "expr": "arg2",
            "globals": [
             "arg2"
            ],
            "type": "Global"
           }
          }
         }
        }
       }
      }
     },
     "metadata": {},
     "output_type": "display_data"
    }
   ],
   "source": [
    "wrap(get_kitten, True, 200, 200, \"V\", datetime.datetime.now(), df.iloc[0:10])"
   ]
  },
  {
   "cell_type": "code",
   "execution_count": null,
   "metadata": {},
   "outputs": [],
   "source": []
  }
 ],
 "metadata": {
  "kernelspec": {
   "display_name": "Python 3",
   "language": "python",
   "name": "python3"
  },
  "language_info": {
   "codemirror_mode": {
    "name": "ipython",
    "version": 3
   },
   "file_extension": ".py",
   "mimetype": "text/x-python",
   "name": "python",
   "nbconvert_exporter": "python",
   "pygments_lexer": "ipython3",
   "version": "3.7.1"
  }
 },
 "nbformat": 4,
 "nbformat_minor": 2
}
