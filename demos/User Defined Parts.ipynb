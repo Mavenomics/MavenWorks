{
 "cells": [
  {
   "cell_type": "markdown",
   "metadata": {},
   "source": [
    "# User Defined Parts\n",
    "\n",
    "User Defined Parts are managed parts that are served from a central server (as opposed to being loaded as a code library). For now, UDPs are only implemented as isolated IFrameParts, which derive off JavascriptParts.\n",
    "\n",
    "JS UDPs allow users to define HTML, CSS, and JS code all in one package.\n",
    "\n",
    "This dashboard assumes the client is configured to connect to a config server, and has the following parts available:\n",
    "\n",
    " - GetKittenPart\n",
    " - Dropdown - Generic"
   ]
  },
  {
   "cell_type": "code",
   "execution_count": 1,
   "metadata": {},
   "outputs": [],
   "source": [
    "from mavenworks import Part, Dashboard, Bind, StackPanel\n",
    "from IPython.display import Markdown\n",
    "from ipywidgets import ToggleButton"
   ]
  },
  {
   "cell_type": "code",
   "execution_count": 2,
   "metadata": {
    "showinviewer": "true"
   },
   "outputs": [
    {
     "data": {
      "application/vnd.maven.layout+json": {
       "globals": [
        {
         "name": "UseColor",
         "type": "Boolean",
         "value": {
          "typeName": "Boolean",
          "value": true
         }
        },
        {
         "name": "SelectedItems",
         "type": "Array",
         "value": {
          "typeName": "Array",
          "value": []
         }
        }
       ],
       "layout": {
        "attachedProperties": [
         {},
         {},
         {
          "Fixed Size (px)": 100
         }
        ],
        "children": [
         {
          "attachedProperties": [
           {},
           {}
          ],
          "children": [
           {
            "guid": "990feaef-ae39-4c7e-b89c-c0930bcff83e",
            "id": "1a371158-9670-4d58-86dd-bf1575d884a5",
            "properties": {},
            "typeName": 1,
            "uuid": "3ec63e37-7069-46f6-9d93-600614731e35"
           },
           {
            "guid": "b39170b4-41e7-4ac2-8e65-0064baba0453",
            "id": "349225e1-33f2-4b6d-ab7a-95c871d8aad9",
            "properties": {},
            "typeName": 1,
            "uuid": "0d3c977c-2764-4a9e-84b2-5cf847566c78"
           }
          ],
          "properties": {
           "horizontal": true
          },
          "typeName": 0,
          "uuid": "4398eba7-9906-47de-a4b7-7ddca17661c7"
         },
         {
          "guid": "ab8d39b0-b35a-481a-9f75-aee9dad7f258",
          "id": "6ec57153-2cb1-4283-b55f-09daddde01bf",
          "properties": {},
          "typeName": 1,
          "uuid": "526a8f38-45c0-4964-a549-0755f7a5aeb2"
         },
         {
          "guid": "5902bea9-30b9-4351-9bbb-24a41fc027af",
          "id": "c16f916a-cc45-406f-8bea-f9318db5d947",
          "properties": {},
          "typeName": 1,
          "uuid": "5c3f5b38-3897-45ad-965e-0d584201ebd7"
         }
        ],
        "properties": {},
        "typeName": 0,
        "uuid": "e541482b-cb17-4421-ab62-47ba8b489c47"
       },
       "metadata": {},
       "parts": {
        "5902bea9-30b9-4351-9bbb-24a41fc027af": {
         "application/vnd.maven.part+json": {
          "id": "5902bea9-30b9-4351-9bbb-24a41fc027af",
          "name": "MavenTitlePart",
          "options": {
           "Name": {
            "__detect_globals": true,
            "expr": "f'UseColor: {repr(@UseColor)}, SelectedItems: {repr(@SelectedItems)}'",
            "globals": [
             "UseColor",
             "SelectedItems"
            ],
            "type": "Eval"
           }
          }
         },
         "text/plain": "MavenTitlePart Part Model"
        },
        "990feaef-ae39-4c7e-b89c-c0930bcff83e": {
         "application/vnd.maven.part+json": {
          "id": "990feaef-ae39-4c7e-b89c-c0930bcff83e",
          "name": "GetKittenPart",
          "options": {
           "Color": {
            "__detect_globals": true,
            "expr": "UseColor",
            "globals": [
             "UseColor"
            ],
            "type": "Global"
           },
           "x": {
            "typeName": "Number",
            "value": 200
           },
           "y": {
            "typeName": "Number",
            "value": 200
           }
          }
         },
         "text/plain": "GetKittenPart Part Model"
        },
        "ab8d39b0-b35a-481a-9f75-aee9dad7f258": {
         "application/vnd.maven.part+json": {
          "id": "ab8d39b0-b35a-481a-9f75-aee9dad7f258",
          "name": "GenericDropdownPart",
          "options": {
           "Available": {
            "typeName": "Array",
            "value": [
             {
              "typeName": "String",
              "value": "Category A"
             },
             {
              "typeName": "String",
              "value": "Category B"
             },
             {
              "typeName": "String",
              "value": "Category C"
             }
            ]
           },
           "Selected": {
            "__detect_globals": true,
            "expr": "SelectedItems",
            "globals": [
             "SelectedItems"
            ],
            "type": "Global"
           }
          }
         },
         "text/plain": "GenericDropdownPart Part Model"
        },
        "b39170b4-41e7-4ac2-8e65-0064baba0453": {
         "application/vnd.maven.part+json": {
          "id": "b39170b4-41e7-4ac2-8e65-0064baba0453",
          "name": "CheckboxPart",
          "options": {
           "Checked": {
            "__detect_globals": true,
            "expr": "UseColor",
            "globals": [
             "UseColor"
            ],
            "type": "Global"
           },
           "Label": {
            "typeName": "String",
            "value": "Use Color?"
           }
          }
         },
         "text/plain": "CheckboxPart Part Model"
        }
       },
       "visual": false
      },
      "text/plain": [
       "Dashboard Layout (if you see this, check your  plugin install!)"
      ]
     },
     "metadata": {},
     "output_type": "display_data"
    }
   ],
   "source": [
    "dash = Dashboard()\n",
    "\n",
    "dash.add_global(\"UseColor\", \"Boolean\", True)\n",
    "dash.add_global(\"SelectedItems\", \"Array\", [])\n",
    "\n",
    "stack = StackPanel(horizontal=True)\n",
    "\n",
    "stack.add(\n",
    "    Part(\"GetKittenPart\", {\"x\": 200, \"y\": 200, \"Color\": Bind.Global(\"UseColor\")}),\n",
    "    Part(\"CheckboxPart\", {\"Label\": \"Use Color?\", \"Checked\": Bind.Global(\"UseColor\")})\n",
    ")\n",
    "\n",
    "dash.root.add(\n",
    "    stack,\n",
    "    Part(\"GenericDropdownPart\", {\n",
    "        \"Available\": [\"Category A\", \"Category B\", \"Category C\"],\n",
    "        \"Selected\": Bind.Global(\"SelectedItems\")\n",
    "    }),\n",
    "    Part(\"MavenTitlePart\", {\n",
    "        \"Name\": Bind.Py(\"f'UseColor: {repr(@UseColor)}, SelectedItems: {repr(@SelectedItems)}'\")\n",
    "    }, Stack_FixedSize=100)\n",
    ")\n",
    "\n",
    "display(dash)"
   ]
  },
  {
   "cell_type": "code",
   "execution_count": null,
   "metadata": {},
   "outputs": [],
   "source": []
  }
 ],
 "metadata": {
  "kernelspec": {
   "display_name": "Python 3",
   "language": "python",
   "name": "python3"
  },
  "language_info": {
   "codemirror_mode": {
    "name": "ipython",
    "version": 3
   },
   "file_extension": ".py",
   "mimetype": "text/x-python",
   "name": "python",
   "nbconvert_exporter": "python",
   "pygments_lexer": "ipython3",
   "version": "3.7.3"
  }
 },
 "nbformat": 4,
 "nbformat_minor": 4
}
