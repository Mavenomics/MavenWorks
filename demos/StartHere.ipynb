{
 "cells": [
  {
   "cell_type": "markdown",
   "metadata": {
    "mavenGuid": "09d1b43a-3bc1-a0dc-3e0a-b7615218be5e",
    "showinviewer": "true"
   },
   "source": [
    "# Mavenomics MavenWorks\n",
    "\n",
    "MavenWorks enables Notebook developers to quickly and easily turn Notebooks into Applications. Using a proven approach to dashboarding, MavenWorks brings rapid iteration cycles and easily maintainable parts that can be re-used across an organization.\n",
    "\n",
    "MavenWorks Core consists of:\n",
    "\n",
    " - Dashboarding\n",
    " - Parts\n",
    " - Globals\n",
    "\n",
    "These three concepts are expanded upon below by examples and demos that show how they work.\n",
    "\n",
    "MavenWorks is in early alpha and under heavy development, so the demos below might break from time to time. Please let us know what you think!"
   ]
  },
  {
   "cell_type": "markdown",
   "metadata": {
    "mavenGuid": "834ccb8b-c1b6-6c97-e609-851b6e48e88c",
    "showinviewer": "true"
   },
   "source": [
    "## MavenWorks Dashboarding\n",
    "\n",
    "Dashboards are a central part of the MavenWorks experience. Dashboards can be created using either a drag-n-drop designer, or a convenient Python API. You can put anything you want inside Dashboards, such as matplotlib plots and IPyWidgets, but for a better experience we recommend using Parts\n",
    "\n",
    " - [Python Cell Dashboards](./Python%20Cell%20Dashboards.ipynb): Demonstrates the use of the experimental Python API\n",
    " - [Volatility 3D Explorer](./Volatility%203D%20Explorer.ipynb): A comprehensive demo with plot.ly graphs and financial data\n",
    " - [MBTA Realtime Statistics](./MBTA%20Realtime%20Statistics.ipynb): A real-time dashboard showing the current status of Boston's transit network, updating every 2 minutes\n",
    " - [Rocket Motors Dashboard](./Rocket%20Motors%20Dashboard.ipynb): A whimsical mission-planning dashboard that calculates how many consumer rocket motors you must duct tape together to reach another planet\n",
    " - [Stock Ticker Demo](./Stock%20Ticker.dashboard): Stand-alone dashboard showing how to use the Perspective pivot grid"
   ]
  },
  {
   "cell_type": "markdown",
   "metadata": {
    "mavenGuid": "58b98f91-3805-6ca1-1790-c89013f28b91",
    "showinviewer": "true"
   },
   "source": [
    "## MavenWorks Parts\n",
    "\n",
    "Parts are reusable, interactive components of Dashboards. They communicate via a set of Options, which they can both read from and write to. Parts are an easy yet powerful way to abstract some part of your notebook into a portable, reusable, self-contained component.\n",
    "\n",
    " - [Python Parts](./Python%20Parts.ipynb): The Python Part API can be used to take your notebook code and make it interactive\n",
    " - [Javascript Parts](./Javascript%20Parts.ipynb): Javascript Parts are recommended for enhanced interactivity\n",
    " - [User Defined Parts](./User%20Defined%20Parts.ipynb): UDPs are Javascript Parts that can be shared just like notebooks, and even have their own editor\n",
    " - [Advanced Part Option Bindings](./AdvancedPartOptionBindings.ipynb): Bindings are how a Part communicates with other parts and the wider notebook.\n",
    " - [Interactive Wrapper](./Interactive%20Wrapper): Auto-generate a dashboard given a Python function, somewhat like `ipywidgets.interact`."
   ]
  },
  {
   "cell_type": "markdown",
   "metadata": {
    "showinviewer": "true"
   },
   "source": [
    "## MavenWorks Framework\n",
    "\n",
    "The MavenWorks Framework provides a number of interactions to help Parts get better visualizations without limiting them to a given dashboard or approach.\n",
    "\n",
    " - [Dashboard Hovers](./DetailHovers.ipynb): Hover over a Zip Code region in the Seattle area to see a scatter plot of houce prices in that region\n",
    " - [VizDetailHover](./VizDetailHover.ipynb): accompanies Dashboard Hovers\n",
    " - [Input Parts Playground](./Input%20Parts%20Playground.dashboard): A small dashboard showing off all the input parts provided by default.\n",
    " - [Displaying arbitrary data in layouts](./DisplayHandlePart.ipynb): This approach allows you to take existing code and make it interactive with little effort\n",
    " - [Binding Playground](./Binding%20Playground.dashboard): Demonstrates the various types of bindings and how the framework infers global references from them\n",
    " - [MQL and JS Bindings](./MqlAndJavaScriptBindings.ipynb): A small dashboard that shows off MQL and MQLJS bindings"
   ]
  },
  {
   "cell_type": "code",
   "execution_count": null,
   "metadata": {},
   "outputs": [],
   "source": []
  }
 ],
 "metadata": {
  "kernelspec": {
   "display_name": "Python 3",
   "language": "python",
   "name": "python3"
  },
  "language_info": {
   "codemirror_mode": {
    "name": "ipython",
    "version": 3
   },
   "file_extension": ".py",
   "mimetype": "text/x-python",
   "name": "python",
   "nbconvert_exporter": "python",
   "pygments_lexer": "ipython3",
   "version": "3.7.3"
  }
 },
 "nbformat": 4,
 "nbformat_minor": 4
}
