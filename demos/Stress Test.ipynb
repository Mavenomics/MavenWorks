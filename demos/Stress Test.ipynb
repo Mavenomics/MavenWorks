{
 "cells": [
  {
   "cell_type": "code",
   "execution_count": 28,
   "metadata": {},
   "outputs": [],
   "source": [
    "import pandas as pd\n",
    "\n",
    "def make_table(n_rows):\n",
    "    return pd.DataFrame([[i, 'foo', 'foo' + str(i)] for i in range(0, n_rows)])"
   ]
  },
  {
   "cell_type": "code",
   "execution_count": null,
   "metadata": {},
   "outputs": [],
   "source": []
  },
  {
   "cell_type": "code",
   "execution_count": 29,
   "metadata": {
    "showinviewer": "true"
   },
   "outputs": [
    {
     "data": {
      "application/vnd.maven.layout+json": {
       "layout": {
        "children": [],
        "properties": {
         "flexSize": 1
        },
        "typeName": 0,
        "uuid": "5c873b14-fb1a-4de5-b93a-facb255bcb66"
       },
       "metadata": {},
       "parts": {},
       "visual": true
      }
     },
     "metadata": {},
     "output_type": "display_data"
    }
   ],
   "source": [
    "# Auto-generated code, do not edit!\n",
    "_json = __import__(\"json\")\n",
    "display(_json.loads(\"{\\\"application/vnd.maven.layout+json\\\": {\\\"layout\\\":{\\\"properties\\\":{\\\"flexSize\\\":1},\\\"typeName\\\":0,\\\"uuid\\\":\\\"5c873b14-fb1a-4de5-b93a-facb255bcb66\\\",\\\"attachedProperties\\\":[{\\\"Fixed Size (px)\\\":null,\\\"Stretch\\\":1},{\\\"Fixed Size (px)\\\":null,\\\"Stretch\\\":1}],\\\"children\\\":[{\\\"properties\\\":{},\\\"typeName\\\":1,\\\"uuid\\\":\\\"cfa1e063-739c-4b8c-94ee-9b96e8aad496\\\",\\\"guid\\\":\\\"fe465021-91a7-4569-97e3-10154066a3cb\\\"},{\\\"properties\\\":{},\\\"typeName\\\":1,\\\"uuid\\\":\\\"f07fba6c-7cec-4e08-918b-5d9480606256\\\",\\\"guid\\\":\\\"b9105f93-303a-4d27-b24e-cddc75c567b9\\\"}]},\\\"parts\\\":{\\\"fe465021-91a7-4569-97e3-10154066a3cb\\\":{\\\"application/vnd.maven.part+json\\\":{\\\"name\\\":\\\"SlickGrid\\\",\\\"id\\\":\\\"fe465021-91a7-4569-97e3-10154066a3cb\\\",\\\"options\\\":{\\\"Input Table\\\":{\\\"type\\\":\\\"Eval\\\",\\\"expr\\\":\\\"make_table(@nRows)\\\",\\\"globals\\\":[\\\"nRows\\\"]}}},\\\"text/plain\\\":\\\"VisualEditorPart\\\"},\\\"b9105f93-303a-4d27-b24e-cddc75c567b9\\\":{\\\"application/vnd.maven.part+json\\\":{\\\"name\\\":\\\"SliderPart\\\",\\\"id\\\":\\\"b9105f93-303a-4d27-b24e-cddc75c567b9\\\",\\\"options\\\":{\\\"Value\\\":{\\\"type\\\":\\\"Global\\\",\\\"expr\\\":\\\"nRows\\\",\\\"globals\\\":[\\\"nRows\\\"]},\\\"Max\\\":{\\\"typeName\\\":\\\"Number\\\",\\\"value\\\":10000000},\\\"Step\\\":{\\\"typeName\\\":\\\"Number\\\",\\\"value\\\":10000}}},\\\"text/plain\\\":\\\"VisualEditorPart\\\"}},\\\"metadata\\\":{},\\\"globals\\\":[{\\\"name\\\":\\\"nRows\\\",\\\"type\\\":\\\"Number\\\",\\\"value\\\":100000}],\\\"localParts\\\":{},\\\"visual\\\":true}}\"), raw=True)\n",
    "del _json"
   ]
  }
 ],
 "metadata": {
  "kernelspec": {
   "display_name": "Python 3",
   "language": "python",
   "name": "python3"
  },
  "language_info": {
   "codemirror_mode": {
    "name": "ipython",
    "version": 3
   },
   "file_extension": ".py",
   "mimetype": "text/x-python",
   "name": "python",
   "nbconvert_exporter": "python",
   "pygments_lexer": "ipython3",
   "version": "3.7.1"
  }
 },
 "nbformat": 4,
 "nbformat_minor": 2
}
