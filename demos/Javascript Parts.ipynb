{
 "cells": [
  {
   "cell_type": "markdown",
   "metadata": {
    "showinviewer": "true"
   },
   "source": [
    "# Javascript Parts\n",
    "\n",
    "Javascript Parts are written in Javascript or Typescript, and can be setup using the MavenWorks Python API. Bindings work as they do for PythonParts, and they can be inserted into layouts like any other part."
   ]
  },
  {
   "cell_type": "code",
   "execution_count": 1,
   "metadata": {},
   "outputs": [],
   "source": [
    "import mavenworks\n",
    "import locale\n",
    "locale.setlocale( locale.LC_ALL, '' )\n",
    "import pandas as pd\n",
    "import json\n",
    "data = pd.read_csv(\"./kc_house_data.csv\")"
   ]
  },
  {
   "cell_type": "code",
   "execution_count": 2,
   "metadata": {},
   "outputs": [
    {
     "data": {
      "text/plain": [
       "'1,000'"
      ]
     },
     "execution_count": 2,
     "metadata": {},
     "output_type": "execute_result"
    }
   ],
   "source": [
    "locale.format_string(\"%0.f\", 1000, grouping=True)"
   ]
  },
  {
   "cell_type": "code",
   "execution_count": 3,
   "metadata": {
    "jupyter": {
     "source_hidden": true
    },
    "showinviewer": "true"
   },
   "outputs": [
    {
     "data": {
      "application/vnd.maven.layout+json": {
       "globals": [
        {
         "name": "SelectedPoint",
         "type": "Any",
         "value": {
          "id": "sqft_living",
          "index": 926,
          "name": "sqft_living",
          "value": 3250,
          "x": 951000
         }
        }
       ],
       "layout": {
        "attachedProperties": [
         {
          "Fixed Size (px)": null,
          "Stretch": 1.439516129032258
         },
         {
          "Fixed Size (px)": null,
          "Stretch": 0.5604838709677419
         }
        ],
        "children": [
         {
          "guid": "fa3deb69-70af-499e-9e33-2a32446a376d",
          "properties": {
           "caption": "Seattle House Prices by Interior Size, 2014-2016",
           "showTitle": true
          },
          "typeName": 1,
          "uuid": "2bc35b23-7795-46bd-aded-5c8083ae9218"
         },
         {
          "attachedProperties": [
           {
            "Fixed Size (px)": null,
            "Stretch": 1
           },
           {
            "Fixed Size (px)": null,
            "Stretch": 1
           }
          ],
          "children": [
           {
            "guid": "51a83632-f7c3-45c5-95da-0ce8a72d6d79",
            "properties": {
             "showTitle": false
            },
            "typeName": 1,
            "uuid": "5b287974-e25d-46da-9e4e-b95bf4dc1f7e"
           },
           {
            "guid": "b6584c33-4bf0-4c51-ac43-61ce5f956142",
            "properties": {
             "showRegion": true,
             "showTitle": false
            },
            "typeName": 1,
            "uuid": "db81e319-f5c0-4927-ae9a-50aefe82d46b"
           }
          ],
          "properties": {
           "horizontal": true,
           "prunable": true
          },
          "typeName": 0,
          "uuid": "eb5ea2e3-e37c-4e94-a8be-8b2474b889d9"
         }
        ],
        "properties": {
         "flexSize": 1
        },
        "typeName": 0,
        "uuid": "23ab1954-e7ee-4ee0-841b-36dac7ed4442"
       },
       "localParts": {},
       "metadata": {},
       "parts": {
        "51a83632-f7c3-45c5-95da-0ce8a72d6d79": {
         "application/vnd.maven.part+json": {
          "id": "51a83632-f7c3-45c5-95da-0ce8a72d6d79",
          "name": "LabelPart",
          "options": {
           "Caption": {
            "typeName": "String",
            "value": "Price of selected house"
           },
           "Value": {
            "expr": "locale.currency(@SelectedPoint['x'], grouping=True)",
            "globals": [
             "SelectedPoint"
            ],
            "type": "Eval"
           }
          }
         },
         "text/plain": "VisualEditorPart"
        },
        "b6584c33-4bf0-4c51-ac43-61ce5f956142": {
         "application/vnd.maven.part+json": {
          "id": "b6584c33-4bf0-4c51-ac43-61ce5f956142",
          "name": "LabelPart",
          "options": {
           "Caption": {
            "typeName": "String",
            "value": "Size of selected house, in sq. ft."
           },
           "Value": {
            "expr": "locale.format_string(\"%0.f\", @SelectedPoint['value'], grouping=True)",
            "globals": [
             "SelectedPoint"
            ],
            "type": "Eval"
           }
          }
         },
         "text/plain": "VisualEditorPart"
        },
        "fa3deb69-70af-499e-9e33-2a32446a376d": {
         "application/vnd.maven.part+json": {
          "id": "fa3deb69-70af-499e-9e33-2a32446a376d",
          "name": "JSScatterPart",
          "options": {
           "Data": {
            "expr": "data[[\"price\", \"sqft_living\"]].iloc[0:1000]",
            "globals": [],
            "type": "Eval"
           },
           "Selected Point": {
            "expr": "SelectedPoint",
            "globals": [
             "SelectedPoint"
            ],
            "type": "Global"
           },
           "X Column": {
            "typeName": "String",
            "value": "price"
           },
           "Y Column": {
            "typeName": "String",
            "value": "sqft_living"
           }
          }
         },
         "text/plain": "VisualEditorPart"
        }
       },
       "visual": true
      }
     },
     "metadata": {},
     "output_type": "display_data"
    }
   ],
   "source": [
    "# Auto-generated code, do not edit!\n",
    "_json = __import__(\"json\")\n",
    "display(_json.loads(\"{\\\"application/vnd.maven.layout+json\\\": {\\\"layout\\\":{\\\"properties\\\":{\\\"flexSize\\\":1},\\\"typeName\\\":0,\\\"uuid\\\":\\\"23ab1954-e7ee-4ee0-841b-36dac7ed4442\\\",\\\"attachedProperties\\\":[{\\\"Fixed Size (px)\\\":null,\\\"Stretch\\\":1.439516129032258},{\\\"Fixed Size (px)\\\":null,\\\"Stretch\\\":0.5604838709677419}],\\\"children\\\":[{\\\"properties\\\":{\\\"showTitle\\\":true,\\\"caption\\\":\\\"Seattle House Prices by Interior Size, 2014-2016\\\"},\\\"typeName\\\":1,\\\"uuid\\\":\\\"2bc35b23-7795-46bd-aded-5c8083ae9218\\\",\\\"guid\\\":\\\"fa3deb69-70af-499e-9e33-2a32446a376d\\\"},{\\\"properties\\\":{\\\"prunable\\\":true,\\\"horizontal\\\":true},\\\"typeName\\\":0,\\\"uuid\\\":\\\"eb5ea2e3-e37c-4e94-a8be-8b2474b889d9\\\",\\\"attachedProperties\\\":[{\\\"Fixed Size (px)\\\":null,\\\"Stretch\\\":1},{\\\"Fixed Size (px)\\\":null,\\\"Stretch\\\":1}],\\\"children\\\":[{\\\"properties\\\":{\\\"showTitle\\\":false,\\\"caption\\\":\\\"LabelPart\\\"},\\\"typeName\\\":1,\\\"uuid\\\":\\\"5b287974-e25d-46da-9e4e-b95bf4dc1f7e\\\",\\\"guid\\\":\\\"51a83632-f7c3-45c5-95da-0ce8a72d6d79\\\"},{\\\"properties\\\":{\\\"showTitle\\\":false,\\\"showRegion\\\":true,\\\"caption\\\":\\\"LabelPart\\\"},\\\"typeName\\\":1,\\\"uuid\\\":\\\"db81e319-f5c0-4927-ae9a-50aefe82d46b\\\",\\\"guid\\\":\\\"b6584c33-4bf0-4c51-ac43-61ce5f956142\\\"}]}]},\\\"parts\\\":{\\\"fa3deb69-70af-499e-9e33-2a32446a376d\\\":{\\\"application/vnd.maven.part+json\\\":{\\\"name\\\":\\\"JSScatterPart\\\",\\\"id\\\":\\\"fa3deb69-70af-499e-9e33-2a32446a376d\\\",\\\"options\\\":{\\\"Data\\\":{\\\"type\\\":\\\"Eval\\\",\\\"expr\\\":\\\"data[[\\\\\\\"price\\\\\\\", \\\\\\\"sqft_living\\\\\\\"]].iloc[0:1000]\\\",\\\"globals\\\":[]},\\\"X Column\\\":{\\\"typeName\\\":\\\"String\\\",\\\"value\\\":\\\"price\\\"},\\\"Y Column\\\":{\\\"typeName\\\":\\\"String\\\",\\\"value\\\":\\\"sqft_living\\\"},\\\"Selected Point\\\":{\\\"type\\\":\\\"Global\\\",\\\"expr\\\":\\\"SelectedPoint\\\",\\\"globals\\\":[\\\"SelectedPoint\\\"]}}},\\\"text/plain\\\":\\\"VisualEditorPart\\\"},\\\"51a83632-f7c3-45c5-95da-0ce8a72d6d79\\\":{\\\"application/vnd.maven.part+json\\\":{\\\"name\\\":\\\"LabelPart\\\",\\\"id\\\":\\\"51a83632-f7c3-45c5-95da-0ce8a72d6d79\\\",\\\"options\\\":{\\\"Value\\\":{\\\"type\\\":\\\"Eval\\\",\\\"expr\\\":\\\"locale.currency(@SelectedPoint['x'], grouping=True)\\\",\\\"globals\\\":[\\\"SelectedPoint\\\"]},\\\"Caption\\\":{\\\"typeName\\\":\\\"String\\\",\\\"value\\\":\\\"Price of selected house\\\"}}},\\\"text/plain\\\":\\\"VisualEditorPart\\\"},\\\"b6584c33-4bf0-4c51-ac43-61ce5f956142\\\":{\\\"application/vnd.maven.part+json\\\":{\\\"name\\\":\\\"LabelPart\\\",\\\"id\\\":\\\"b6584c33-4bf0-4c51-ac43-61ce5f956142\\\",\\\"options\\\":{\\\"Value\\\":{\\\"type\\\":\\\"Eval\\\",\\\"expr\\\":\\\"locale.format_string(\\\\\\\"%0.f\\\\\\\", @SelectedPoint['value'], grouping=True)\\\",\\\"globals\\\":[\\\"SelectedPoint\\\"]},\\\"Caption\\\":{\\\"typeName\\\":\\\"String\\\",\\\"value\\\":\\\"Size of selected house, in sq. ft.\\\"}}},\\\"text/plain\\\":\\\"VisualEditorPart\\\"}},\\\"metadata\\\":{},\\\"globals\\\":[{\\\"name\\\":\\\"SelectedPoint\\\",\\\"type\\\":\\\"Any\\\",\\\"value\\\":{\\\"x\\\":951000,\\\"value\\\":3250,\\\"id\\\":\\\"sqft_living\\\",\\\"index\\\":926,\\\"name\\\":\\\"sqft_living\\\"}}],\\\"localParts\\\":{},\\\"visual\\\":true}}\"), raw=True)\n",
    "del _json"
   ]
  },
  {
   "cell_type": "code",
   "execution_count": null,
   "metadata": {},
   "outputs": [],
   "source": []
  }
 ],
 "metadata": {
  "kernelspec": {
   "display_name": "Python 3",
   "language": "python",
   "name": "python3"
  },
  "language_info": {
   "codemirror_mode": {
    "name": "ipython",
    "version": 3
   },
   "file_extension": ".py",
   "mimetype": "text/x-python",
   "name": "python",
   "nbconvert_exporter": "python",
   "pygments_lexer": "ipython3",
   "version": "3.7.3"
  }
 },
 "nbformat": 4,
 "nbformat_minor": 4
}
