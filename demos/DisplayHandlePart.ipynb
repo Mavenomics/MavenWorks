{
 "cells": [
  {
   "cell_type": "markdown",
   "metadata": {},
   "source": [
    "# Display Handles\n",
    "\n",
    "Display Handles are built into Jupyter, and MavenWorks can leverage them inside dashboards. By assigning a \"name\" to a DisplayHandle, you can use these names in the Dashboard Editor."
   ]
  },
  {
   "cell_type": "code",
   "execution_count": 1,
   "metadata": {},
   "outputs": [],
   "source": [
    "from IPython.display import DisplayHandle\n",
    "from mavenworks import name_display_handle\n",
    "from matplotlib import pyplot as plt\n",
    "import pandas"
   ]
  },
  {
   "cell_type": "markdown",
   "metadata": {},
   "source": [
    "## Creating a DisplayHandle\n",
    "\n",
    "To name a `DisplayHandle`, call `name_display_handle`. The first argument is the name you want to see in the UI, and the second argument is the handle to name/"
   ]
  },
  {
   "cell_type": "code",
   "execution_count": 2,
   "metadata": {},
   "outputs": [],
   "source": [
    "output = DisplayHandle(\"foo\")\n",
    "name_display_handle(\"My Foo Handle\", output)"
   ]
  },
  {
   "cell_type": "markdown",
   "metadata": {},
   "source": [
    "## Seeing outputs\n",
    "\n",
    "We can see the output of a display handle by making it a cell output:"
   ]
  },
  {
   "cell_type": "code",
   "execution_count": 3,
   "metadata": {},
   "outputs": [
    {
     "data": {
      "text/markdown": [
       "\n",
       "Anything that _you_ can put into a **cell**, can also be put into a `DisplayHandle`!\n",
       "\n",
       "```sh\n",
       "export HELLO_WORLD=date\n",
       "echo \"It is $HELLO_WORLD. Hello!\"\n",
       "```\n",
       "\n",
       "----\n",
       "\n",
       "$f(x) = x^2 + \\sum_{n=0}^{100}{2^{-n}}$\n"
      ],
      "text/plain": [
       "<IPython.core.display.Markdown object>"
      ]
     },
     "metadata": {},
     "output_type": "display_data"
    }
   ],
   "source": [
    "output.display(\"foo\")"
   ]
  },
  {
   "cell_type": "markdown",
   "metadata": {},
   "source": [
    "## Updating\n",
    "\n",
    "We can update the display in-place, by calling `#update()`. The output we have above will update in-place"
   ]
  },
  {
   "cell_type": "code",
   "execution_count": 4,
   "metadata": {},
   "outputs": [],
   "source": [
    "output.update(\"bar\")"
   ]
  },
  {
   "cell_type": "markdown",
   "metadata": {},
   "source": [
    "## Practical Example\n",
    "\n",
    "Now let's see the display handle in action! Below is a visual dashboard, with our output."
   ]
  },
  {
   "cell_type": "code",
   "execution_count": 5,
   "metadata": {
    "showinviewer": "true"
   },
   "outputs": [
    {
     "data": {
      "application/vnd.maven.layout+json": {
       "globals": [],
       "layout": {
        "attachedProperties": [
         {
          "Fixed Size (px)": null,
          "Stretch": 1
         }
        ],
        "children": [
         {
          "guid": "24ecaa0e-3b3a-4abe-9f87-908a9e152fa9",
          "properties": {
           "caption": "Display Handle",
           "showTitle": true
          },
          "typeName": 1,
          "uuid": "e7e59545-c026-4d3f-b0b6-a30e7f652049"
         }
        ],
        "properties": {
         "flexSize": 1
        },
        "typeName": 0,
        "uuid": "7beac165-4682-45b5-bc39-c119111ac43d"
       },
       "localParts": {},
       "metadata": {
        "24ecaa0e-3b3a-4abe-9f87-908a9e152fa9": null
       },
       "parts": {
        "24ecaa0e-3b3a-4abe-9f87-908a9e152fa9": {
         "application/vnd.maven.display-handle+json": {
          "name": "My Foo Handle"
         }
        }
       },
       "visual": true
      }
     },
     "metadata": {},
     "output_type": "display_data"
    }
   ],
   "source": [
    "# Auto-generated code, do not edit!\n",
    "_json = __import__(\"json\")\n",
    "display(_json.loads(\"{\\\"application/vnd.maven.layout+json\\\": {\\\"layout\\\":{\\\"properties\\\":{\\\"flexSize\\\":1},\\\"typeName\\\":0,\\\"uuid\\\":\\\"7beac165-4682-45b5-bc39-c119111ac43d\\\",\\\"attachedProperties\\\":[{\\\"Fixed Size (px)\\\":null,\\\"Stretch\\\":1}],\\\"children\\\":[{\\\"properties\\\":{\\\"showTitle\\\":true,\\\"caption\\\":\\\"Display Handle\\\"},\\\"typeName\\\":1,\\\"uuid\\\":\\\"e7e59545-c026-4d3f-b0b6-a30e7f652049\\\",\\\"guid\\\":\\\"24ecaa0e-3b3a-4abe-9f87-908a9e152fa9\\\"}]},\\\"parts\\\":{\\\"24ecaa0e-3b3a-4abe-9f87-908a9e152fa9\\\":{\\\"application/vnd.maven.display-handle+json\\\":{\\\"name\\\":\\\"My Foo Handle\\\"}}},\\\"metadata\\\":{\\\"24ecaa0e-3b3a-4abe-9f87-908a9e152fa9\\\":null},\\\"globals\\\":[],\\\"localParts\\\":{},\\\"visual\\\":true}}\"), raw=True)\n",
    "del _json"
   ]
  },
  {
   "cell_type": "markdown",
   "metadata": {},
   "source": [
    "We can update that handle within the notebook..."
   ]
  },
  {
   "cell_type": "code",
   "execution_count": 6,
   "metadata": {},
   "outputs": [],
   "source": [
    "output.update([1, 2, 3])"
   ]
  },
  {
   "cell_type": "markdown",
   "metadata": {},
   "source": [
    "with various kinds of data..."
   ]
  },
  {
   "cell_type": "code",
   "execution_count": 7,
   "metadata": {},
   "outputs": [],
   "source": [
    "# Plots\n",
    "fig = plt.figure()\n",
    "plt.plot([1, 2, 1, 3])\n",
    "plt.close()\n",
    "\n",
    "output.update(fig)"
   ]
  },
  {
   "cell_type": "code",
   "execution_count": 8,
   "metadata": {},
   "outputs": [],
   "source": [
    "# DataFrames\n",
    "data = pandas.read_csv(\"./kc_house_data.csv\")\n",
    "output.update(data)"
   ]
  },
  {
   "cell_type": "code",
   "execution_count": 9,
   "metadata": {},
   "outputs": [],
   "source": [
    "# etc.\n",
    "from IPython.display import Markdown\n",
    "output.update(Markdown(r\"\"\"\n",
    "Anything that _you_ can put into a **cell**, can also be put into a `DisplayHandle`!\n",
    "\n",
    "```sh\n",
    "export HELLO_WORLD=date\n",
    "echo \"It is $HELLO_WORLD. Hello!\"\n",
    "```\n",
    "\n",
    "----\n",
    "\n",
    "$f(x) = x^2 + \\sum_{n=0}^{100}{2^{-n}}$\n",
    "\"\"\"))"
   ]
  },
  {
   "cell_type": "code",
   "execution_count": null,
   "metadata": {},
   "outputs": [],
   "source": []
  }
 ],
 "metadata": {
  "kernelspec": {
   "display_name": "Python 3",
   "language": "python",
   "name": "python3"
  },
  "language_info": {
   "codemirror_mode": {
    "name": "ipython",
    "version": 3
   },
   "file_extension": ".py",
   "mimetype": "text/x-python",
   "name": "python",
   "nbconvert_exporter": "python",
   "pygments_lexer": "ipython3",
   "version": "3.7.1"
  }
 },
 "nbformat": 4,
 "nbformat_minor": 2
}
