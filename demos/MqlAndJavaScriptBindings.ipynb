{
 "cells": [
  {
   "cell_type": "code",
   "execution_count": 4,
   "metadata": {},
   "outputs": [
    {
     "data": {
      "text/plain": []
     },
     "metadata": {},
     "output_type": "display_data"
    }
   ],
   "source": [
    "import mavenworks"
   ]
  },
  {
   "cell_type": "code",
   "execution_count": 5,
   "metadata": {
    "jupyter": {
     "source_hidden": true
    },
    "showinviewer": "true"
   },
   "outputs": [
    {
     "data": {
      "application/vnd.maven.layout+json": {
       "globals": [
        {
         "name": "x",
         "type": "Number",
         "value": 50
        },
        {
         "name": "y",
         "type": "Number",
         "value": 50
        }
       ],
       "layout": {
        "attachedProperties": [
         {
          "Fixed Size (px)": null,
          "Stretch": 1
         },
         {
          "Fixed Size (px)": null,
          "Stretch": 1
         }
        ],
        "children": [
         {
          "attachedProperties": [
           {
            "Fixed Size (px)": null,
            "Stretch": 1
           },
           {
            "Fixed Size (px)": null,
            "Stretch": 1
           }
          ],
          "children": [
           {
            "guid": "f4f55a0a-4eb6-4374-960c-178e4513c0ec",
            "properties": {
             "caption": "x"
            },
            "typeName": 1,
            "uuid": "1a3515a5-73c5-4768-bd25-03df22bbfc5d"
           },
           {
            "guid": "a4e1a3e1-eefe-43df-acec-2a1367d52cf1",
            "properties": {
             "caption": "y"
            },
            "typeName": 1,
            "uuid": "25cd84ab-7b59-4ef7-b20a-52b10afef43f"
           }
          ],
          "properties": {
           "horizontal": true
          },
          "typeName": 0,
          "uuid": "6168e863-900c-450a-ac37-7376b6089d8e"
         },
         {
          "attachedProperties": [
           {
            "Fixed Size (px)": null,
            "Stretch": 1
           },
           {
            "Fixed Size (px)": null,
            "Stretch": 1
           }
          ],
          "children": [
           {
            "guid": "cd1efa96-bfed-467e-954c-4f35ed7e493f",
            "properties": {
             "caption": "Mql"
            },
            "typeName": 1,
            "uuid": "2560e1d1-af6d-45a4-b781-8f8ef3b8e7a1"
           },
           {
            "guid": "0fee6f1e-43db-43ec-a733-6f2dc3ef11ec",
            "properties": {
             "caption": "Js"
            },
            "typeName": 1,
            "uuid": "22b6e4e7-7181-4b74-9720-7d6eefcc3732"
           }
          ],
          "properties": {
           "horizontal": true
          },
          "typeName": 0,
          "uuid": "ec6ee4ef-af2e-4421-ba5f-bdf76f54eb88"
         }
        ],
        "properties": {
         "flexSize": 1
        },
        "typeName": 0,
        "uuid": "f2e89070-a9c4-451b-8906-83fdf990ccf8"
       },
       "localParts": {},
       "metadata": {},
       "parts": {
        "0fee6f1e-43db-43ec-a733-6f2dc3ef11ec": {
         "application/vnd.maven.part+json": {
          "id": "0fee6f1e-43db-43ec-a733-6f2dc3ef11ec",
          "name": "SlickGrid",
          "options": {
           "Input Table": {
            "expr": "/* @x,@y */\nreturn TableHelper.fromObjectArray([{x:globals.x, y:globals.y}]);",
            "globals": [
             "x",
             "y"
            ],
            "type": "JavaScript"
           }
          }
         },
         "text/plain": "VisualEditorPart"
        },
        "a4e1a3e1-eefe-43df-acec-2a1367d52cf1": {
         "application/vnd.maven.part+json": {
          "id": "a4e1a3e1-eefe-43df-acec-2a1367d52cf1",
          "name": "IntSliderPart",
          "options": {
           "value": {
            "expr": "y",
            "globals": [
             "y"
            ],
            "type": "Global"
           }
          }
         },
         "text/plain": "VisualEditorPart"
        },
        "cd1efa96-bfed-467e-954c-4f35ed7e493f": {
         "application/vnd.maven.part+json": {
          "id": "cd1efa96-bfed-467e-954c-4f35ed7e493f",
          "name": "SlickGrid",
          "options": {
           "Input Table": {
            "expr": "/* @x,@y */SELECT @x * x, @y FROM Lattice('x = 1 to 10 step 1')",
            "globals": [
             "x",
             "y"
            ],
            "type": "Mql"
           }
          }
         },
         "text/plain": "VisualEditorPart"
        },
        "f4f55a0a-4eb6-4374-960c-178e4513c0ec": {
         "application/vnd.maven.part+json": {
          "id": "f4f55a0a-4eb6-4374-960c-178e4513c0ec",
          "name": "IntSliderPart",
          "options": {
           "value": {
            "expr": "x",
            "globals": [
             "x"
            ],
            "type": "Global"
           }
          }
         },
         "text/plain": "VisualEditorPart"
        }
       },
       "visual": true
      }
     },
     "metadata": {},
     "output_type": "display_data"
    }
   ],
   "source": [
    "# Auto-generated code, do not edit!\n",
    "_json = __import__(\"json\")\n",
    "display(_json.loads(\"{\\\"application/vnd.maven.layout+json\\\": {\\\"layout\\\":{\\\"properties\\\":{\\\"flexSize\\\":1},\\\"typeName\\\":0,\\\"uuid\\\":\\\"f2e89070-a9c4-451b-8906-83fdf990ccf8\\\",\\\"attachedProperties\\\":[{\\\"Fixed Size (px)\\\":null,\\\"Stretch\\\":1},{\\\"Fixed Size (px)\\\":null,\\\"Stretch\\\":1}],\\\"children\\\":[{\\\"properties\\\":{\\\"horizontal\\\":true},\\\"typeName\\\":0,\\\"uuid\\\":\\\"6168e863-900c-450a-ac37-7376b6089d8e\\\",\\\"attachedProperties\\\":[{\\\"Fixed Size (px)\\\":null,\\\"Stretch\\\":1},{\\\"Fixed Size (px)\\\":null,\\\"Stretch\\\":1}],\\\"children\\\":[{\\\"properties\\\":{\\\"caption\\\":\\\"x\\\"},\\\"typeName\\\":1,\\\"uuid\\\":\\\"1a3515a5-73c5-4768-bd25-03df22bbfc5d\\\",\\\"guid\\\":\\\"f4f55a0a-4eb6-4374-960c-178e4513c0ec\\\"},{\\\"properties\\\":{\\\"caption\\\":\\\"y\\\"},\\\"typeName\\\":1,\\\"uuid\\\":\\\"25cd84ab-7b59-4ef7-b20a-52b10afef43f\\\",\\\"guid\\\":\\\"a4e1a3e1-eefe-43df-acec-2a1367d52cf1\\\"}]},{\\\"properties\\\":{\\\"horizontal\\\":true},\\\"typeName\\\":0,\\\"uuid\\\":\\\"ec6ee4ef-af2e-4421-ba5f-bdf76f54eb88\\\",\\\"attachedProperties\\\":[{\\\"Fixed Size (px)\\\":null,\\\"Stretch\\\":1},{\\\"Fixed Size (px)\\\":null,\\\"Stretch\\\":1}],\\\"children\\\":[{\\\"properties\\\":{\\\"caption\\\":\\\"Mql\\\"},\\\"typeName\\\":1,\\\"uuid\\\":\\\"2560e1d1-af6d-45a4-b781-8f8ef3b8e7a1\\\",\\\"guid\\\":\\\"cd1efa96-bfed-467e-954c-4f35ed7e493f\\\"},{\\\"properties\\\":{\\\"caption\\\":\\\"Js\\\"},\\\"typeName\\\":1,\\\"uuid\\\":\\\"22b6e4e7-7181-4b74-9720-7d6eefcc3732\\\",\\\"guid\\\":\\\"0fee6f1e-43db-43ec-a733-6f2dc3ef11ec\\\"}]}]},\\\"parts\\\":{\\\"0fee6f1e-43db-43ec-a733-6f2dc3ef11ec\\\":{\\\"application/vnd.maven.part+json\\\":{\\\"name\\\":\\\"SlickGrid\\\",\\\"id\\\":\\\"0fee6f1e-43db-43ec-a733-6f2dc3ef11ec\\\",\\\"options\\\":{\\\"Input Table\\\":{\\\"type\\\":\\\"JavaScript\\\",\\\"expr\\\":\\\"/* @x,@y */\\\\nreturn TableHelper.fromObjectArray([{x:globals.x, y:globals.y}]);\\\",\\\"globals\\\":[\\\"x\\\",\\\"y\\\"]}}},\\\"text/plain\\\":\\\"VisualEditorPart\\\"},\\\"a4e1a3e1-eefe-43df-acec-2a1367d52cf1\\\":{\\\"application/vnd.maven.part+json\\\":{\\\"name\\\":\\\"IntSliderPart\\\",\\\"id\\\":\\\"a4e1a3e1-eefe-43df-acec-2a1367d52cf1\\\",\\\"options\\\":{\\\"value\\\":{\\\"type\\\":\\\"Global\\\",\\\"expr\\\":\\\"y\\\",\\\"globals\\\":[\\\"y\\\"]}}},\\\"text/plain\\\":\\\"VisualEditorPart\\\"},\\\"cd1efa96-bfed-467e-954c-4f35ed7e493f\\\":{\\\"application/vnd.maven.part+json\\\":{\\\"name\\\":\\\"SlickGrid\\\",\\\"id\\\":\\\"cd1efa96-bfed-467e-954c-4f35ed7e493f\\\",\\\"options\\\":{\\\"Input Table\\\":{\\\"type\\\":\\\"Mql\\\",\\\"expr\\\":\\\"/* @x,@y */SELECT @x * x, @y FROM Lattice('x = 1 to 10 step 1')\\\",\\\"globals\\\":[\\\"x\\\",\\\"y\\\"]}}},\\\"text/plain\\\":\\\"VisualEditorPart\\\"},\\\"f4f55a0a-4eb6-4374-960c-178e4513c0ec\\\":{\\\"application/vnd.maven.part+json\\\":{\\\"name\\\":\\\"IntSliderPart\\\",\\\"id\\\":\\\"f4f55a0a-4eb6-4374-960c-178e4513c0ec\\\",\\\"options\\\":{\\\"value\\\":{\\\"type\\\":\\\"Global\\\",\\\"expr\\\":\\\"x\\\",\\\"globals\\\":[\\\"x\\\"]}}},\\\"text/plain\\\":\\\"VisualEditorPart\\\"}},\\\"metadata\\\":{},\\\"globals\\\":[{\\\"name\\\":\\\"x\\\",\\\"type\\\":\\\"Number\\\",\\\"value\\\":50},{\\\"name\\\":\\\"y\\\",\\\"type\\\":\\\"Number\\\",\\\"value\\\":50}],\\\"localParts\\\":{},\\\"visual\\\":true}}\"), raw=True)\n",
    "del _json"
   ]
  },
  {
   "cell_type": "code",
   "execution_count": null,
   "metadata": {},
   "outputs": [],
   "source": []
  }
 ],
 "metadata": {
  "kernelspec": {
   "display_name": "Python 3",
   "language": "python",
   "name": "python3"
  },
  "language_info": {
   "codemirror_mode": {
    "name": "ipython",
    "version": 3
   },
   "file_extension": ".py",
   "mimetype": "text/x-python",
   "name": "python",
   "nbconvert_exporter": "python",
   "pygments_lexer": "ipython3",
   "version": "3.7.3"
  }
 },
 "nbformat": 4,
 "nbformat_minor": 4
}
