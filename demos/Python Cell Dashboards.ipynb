{
 "cells": [
  {
   "cell_type": "markdown",
   "metadata": {},
   "source": [
    "# <span><img src=\"./MavenomicsLogoNew.png\" alt=\"Mavenomics Logo\" style=\"margin-bottom:-15px\" />&nbsp;|&nbsp; Python Cell Dashboards</span>\n",
    "\n",
    "MavenWorks includes a Python API for authoring dashboards. This API uses code instead of the visual editors to create and iterate on dashboards. The example below walks you through the API, showing you how to write parts, containers, and bindings using Python."
   ]
  },
  {
   "cell_type": "code",
   "execution_count": 1,
   "metadata": {},
   "outputs": [],
   "source": [
    "from mavenworks import Dashboard, Part, StackPanel, Bind"
   ]
  },
  {
   "cell_type": "code",
   "execution_count": 2,
   "metadata": {},
   "outputs": [
    {
     "data": {
      "application/vnd.maven.layout+json": {
       "globals": [
        {
         "name": "MyValue",
         "type": "Number",
         "value": {
          "typeName": "Number",
          "value": 5
         }
        }
       ],
       "layout": {
        "attachedProperties": [
         {},
         {},
         {
          "Fixed Size (px)": 600
         }
        ],
        "children": [
         {
          "guid": "9e83a7b1-a9b7-4d34-9a9b-92a24573ea45",
          "id": "ad10f391-27ae-4ff9-83a1-0cee18604b29",
          "properties": {
           "caption": "hi world"
          },
          "typeName": 1,
          "uuid": "fd317e3e-9393-4dc0-b661-d51af3a820ae"
         },
         {
          "guid": "31248a71-a922-4491-a063-294234334665",
          "id": "9cbf43e2-9ce3-4ef9-acc5-8c15a76250ba",
          "properties": {
           "backgroundColor": "#ccc",
           "borderWidth.px": 2,
           "caption": "hi world 2"
          },
          "typeName": 1,
          "uuid": "8de8b44b-217d-48b6-874a-493591fef9db"
         },
         {
          "attachedProperties": [
           {
            "Fixed Size (px)": 200
           },
           {
            "Stretch": 1
           }
          ],
          "children": [
           {
            "guid": "60a2f3ff-1209-4328-a406-388e18dcce39",
            "id": "5d274137-7f2e-4d8d-b7a7-6ae13cd16357",
            "properties": {},
            "typeName": 1,
            "uuid": "ddd6bc56-55dc-49ae-99c9-f5243c4fcf66"
           },
           {
            "guid": "541531c7-2ef6-47b3-a2d2-55dc6afa6eaf",
            "id": "18e434f8-1cd2-463d-97f5-07d4e0090910",
            "properties": {},
            "typeName": 1,
            "uuid": "a1e27483-38f1-4787-80ec-3069e79261a7"
           }
          ],
          "properties": {},
          "typeName": 0,
          "uuid": "0c5f8f98-d876-409b-bd32-d16527f8bbe0"
         }
        ],
        "properties": {
         "horizontal": true
        },
        "typeName": 0,
        "uuid": "cf1d3fc5-e5f9-400d-a0b4-6e497e7636f0"
       },
       "metadata": {},
       "parts": {
        "31248a71-a922-4491-a063-294234334665": {
         "application/vnd.maven.part+json": {
          "id": "31248a71-a922-4491-a063-294234334665",
          "name": "SliderPart",
          "options": {
           "Max": {
            "typeName": "Number",
            "value": 6
           },
           "Min": {
            "typeName": "Number",
            "value": 3
           },
           "Value": {
            "__detect_globals": true,
            "expr": "MyValue",
            "globals": [
             "MyValue"
            ],
            "type": "Global"
           }
          }
         },
         "text/plain": "SliderPart Part Model"
        },
        "541531c7-2ef6-47b3-a2d2-55dc6afa6eaf": {
         "application/vnd.maven.part+json": {
          "id": "541531c7-2ef6-47b3-a2d2-55dc6afa6eaf",
          "name": "SlickGrid",
          "options": {
           "Input Table": {
            "__detect_globals": true,
            "expr": "\n            SELECT\n                x,\n                x * @MyValue\n            FROM\n                Lattice('x = 1 to 10 step 1')\n            ",
            "globals": [
             "MyValue"
            ],
            "type": "Mql"
           }
          }
         },
         "text/plain": "SlickGrid Part Model"
        },
        "60a2f3ff-1209-4328-a406-388e18dcce39": {
         "application/vnd.maven.part+json": {
          "id": "60a2f3ff-1209-4328-a406-388e18dcce39",
          "name": "LabelPart",
          "options": {
           "Caption": {
            "typeName": "String",
            "value": "My value here"
           },
           "Value": {
            "__detect_globals": true,
            "expr": "return globals.MyValue * Math.PI",
            "globals": [
             "MyValue"
            ],
            "type": "JavaScript"
           }
          }
         },
         "text/plain": "LabelPart Part Model"
        },
        "9e83a7b1-a9b7-4d34-9a9b-92a24573ea45": {
         "application/vnd.maven.part+json": {
          "id": "9e83a7b1-a9b7-4d34-9a9b-92a24573ea45",
          "name": "SliderPart",
          "options": {
           "Value": {
            "__detect_globals": true,
            "expr": "MyValue",
            "globals": [
             "MyValue"
            ],
            "type": "Global"
           }
          }
         },
         "text/plain": "SliderPart Part Model"
        }
       }
      },
      "text/plain": [
       "Dashboard Layout (if you see this, check your  plugin install!)"
      ]
     },
     "execution_count": 2,
     "metadata": {},
     "output_type": "execute_result"
    }
   ],
   "source": [
    "dash = Dashboard()\n",
    "\n",
    "dash.add_global(\"MyValue\", \"Number\", 5)\n",
    "\n",
    "dash.root.add(\n",
    "    Part(\"SliderPart\", {\n",
    "        \"Value\": Bind.Global(\"MyValue\")\n",
    "    }, caption=\"hi world\"),\n",
    "    Part(\"SliderPart\", {\n",
    "        \"Value\": Bind.Global(\"MyValue\"),\n",
    "        \"Min\": 3,\n",
    "        \"Max\": 6\n",
    "    }, caption=\"hi world 2\", background_color=\"#ccc\", border_width=2),\n",
    "    StackPanel(\n",
    "        Part(\"LabelPart\", {\n",
    "            \"Caption\": \"My value here\",\n",
    "            \"Value\": Bind.Js(\"return globals.MyValue * Math.PI\")\n",
    "        }, Stack_FixedSize=200),\n",
    "        Part(\"SlickGrid\", {\n",
    "            \"Input Table\": Bind.Mql(\"\"\"\n",
    "            SELECT\n",
    "                x,\n",
    "                x * @MyValue\n",
    "            FROM\n",
    "                Lattice('x = 1 to 10 step 1')\n",
    "            \"\"\")\n",
    "        }, Stack_Stretch=1),\n",
    "        Stack_FixedSize=600\n",
    "    )\n",
    ")\n",
    "\n",
    "dash.root.properties[\"horizontal\"] = True\n",
    "\n",
    "dash"
   ]
  },
  {
   "cell_type": "markdown",
   "metadata": {},
   "source": [
    "## Print-out\n",
    "\n",
    "If you run into issues with a cell dashboard, you can print out a debug string that should tell you a bit more about the underlying dashboard structure:"
   ]
  },
  {
   "cell_type": "code",
   "execution_count": 3,
   "metadata": {},
   "outputs": [
    {
     "name": "stdout",
     "output_type": "stream",
     "text": [
      "Dashboard <Maven.dashboard.dashboard.Dashboard object at 0x000000001845A5C0>\n",
      "\n",
      "Globals:\n",
      "\tMyValue (Number)\n",
      "Root Container:\n",
      "+ Child[1]:\t<Maven.dashboard.part.Part object at 0x000000001845A630>\n",
      "+ Child[2]:\t<Maven.dashboard.part.Part object at 0x000000001845A748>\n",
      "+ Child[3]:\tContainer:\n",
      "|\t+ Child[1]:\t<Maven.dashboard.part.Part object at 0x000000001845A7B8>\n",
      "|\t+ Child[2]:\t<Maven.dashboard.part.Part object at 0x000000001845A860>\n"
     ]
    }
   ],
   "source": [
    "print(dash)"
   ]
  }
 ],
 "metadata": {
  "kernelspec": {
   "display_name": "Python 3",
   "language": "python",
   "name": "python3"
  },
  "language_info": {
   "codemirror_mode": {
    "name": "ipython",
    "version": 3
   },
   "file_extension": ".py",
   "mimetype": "text/x-python",
   "name": "python",
   "nbconvert_exporter": "python",
   "pygments_lexer": "ipython3",
   "version": "3.7.3"
  }
 },
 "nbformat": 4,
 "nbformat_minor": 4
}
