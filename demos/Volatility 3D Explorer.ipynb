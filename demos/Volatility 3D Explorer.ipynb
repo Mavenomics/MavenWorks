{
 "cells": [
  {
   "cell_type": "code",
   "execution_count": 1,
   "metadata": {},
   "outputs": [
    {
     "data": {
      "text/html": [
       "<div>\n",
       "<style scoped>\n",
       "    .dataframe tbody tr th:only-of-type {\n",
       "        vertical-align: middle;\n",
       "    }\n",
       "\n",
       "    .dataframe tbody tr th {\n",
       "        vertical-align: top;\n",
       "    }\n",
       "\n",
       "    .dataframe thead th {\n",
       "        text-align: right;\n",
       "    }\n",
       "</style>\n",
       "<table border=\"1\" class=\"dataframe\">\n",
       "  <thead>\n",
       "    <tr style=\"text-align: right;\">\n",
       "      <th></th>\n",
       "      <th>Vendor</th>\n",
       "      <th>PutCall</th>\n",
       "      <th>Asset</th>\n",
       "      <th>Time</th>\n",
       "      <th>Moneyness</th>\n",
       "      <th>vol</th>\n",
       "      <th>value</th>\n",
       "    </tr>\n",
       "  </thead>\n",
       "  <tbody>\n",
       "    <tr>\n",
       "      <td>0</td>\n",
       "      <td>Vendor1</td>\n",
       "      <td>Put</td>\n",
       "      <td>USD/EUR</td>\n",
       "      <td>30</td>\n",
       "      <td>0.5</td>\n",
       "      <td>0.347831</td>\n",
       "      <td>0.2</td>\n",
       "    </tr>\n",
       "    <tr>\n",
       "      <td>1</td>\n",
       "      <td>Vendor1</td>\n",
       "      <td>Put</td>\n",
       "      <td>USD/EUR</td>\n",
       "      <td>30</td>\n",
       "      <td>0.6</td>\n",
       "      <td>0.286616</td>\n",
       "      <td>0.2</td>\n",
       "    </tr>\n",
       "    <tr>\n",
       "      <td>2</td>\n",
       "      <td>Vendor1</td>\n",
       "      <td>Put</td>\n",
       "      <td>USD/EUR</td>\n",
       "      <td>30</td>\n",
       "      <td>0.7</td>\n",
       "      <td>0.243236</td>\n",
       "      <td>0.2</td>\n",
       "    </tr>\n",
       "    <tr>\n",
       "      <td>3</td>\n",
       "      <td>Vendor1</td>\n",
       "      <td>Put</td>\n",
       "      <td>USD/EUR</td>\n",
       "      <td>30</td>\n",
       "      <td>0.8</td>\n",
       "      <td>0.217690</td>\n",
       "      <td>0.2</td>\n",
       "    </tr>\n",
       "    <tr>\n",
       "      <td>4</td>\n",
       "      <td>Vendor1</td>\n",
       "      <td>Put</td>\n",
       "      <td>USD/EUR</td>\n",
       "      <td>30</td>\n",
       "      <td>0.9</td>\n",
       "      <td>0.209979</td>\n",
       "      <td>0.2</td>\n",
       "    </tr>\n",
       "  </tbody>\n",
       "</table>\n",
       "</div>"
      ],
      "text/plain": [
       "    Vendor PutCall    Asset  Time  Moneyness       vol  value\n",
       "0  Vendor1     Put  USD/EUR    30        0.5  0.347831    0.2\n",
       "1  Vendor1     Put  USD/EUR    30        0.6  0.286616    0.2\n",
       "2  Vendor1     Put  USD/EUR    30        0.7  0.243236    0.2\n",
       "3  Vendor1     Put  USD/EUR    30        0.8  0.217690    0.2\n",
       "4  Vendor1     Put  USD/EUR    30        0.9  0.209979    0.2"
      ]
     },
     "execution_count": 1,
     "metadata": {},
     "output_type": "execute_result"
    }
   ],
   "source": [
    "import pandas as pd\n",
    "import plotly.graph_objs as go\n",
    "import plotly\n",
    "from mavenworks import register_part, KernelPart\n",
    "\n",
    "df = pd.read_csv(\"./fake_volume_data.csv\")\n",
    "# Path and RowName come from the MavenScape exporter and aren't useful to us here\n",
    "del df[\"Path\"]\n",
    "del df[\"RowName\"]\n",
    "df.head()"
   ]
  },
  {
   "cell_type": "code",
   "execution_count": 2,
   "metadata": {},
   "outputs": [],
   "source": [
    "# Constants for the vendor names and asset classes available in the data\n",
    "VENDORS = [\"Vendor1\", \"Vendor2\", \"Vendor3\", \"Vendor4\"]\n",
    "ASSETS = [\"USD/EUR\", \"USD/GBP\", \"USD/JPY\", \"5 Yr. Treasury Rate\", \"10 Yr. Treasury Rate\", \"Gold\", \"Crude\"]"
   ]
  },
  {
   "cell_type": "code",
   "execution_count": 3,
   "metadata": {},
   "outputs": [],
   "source": [
    "@register_part()\n",
    "class SurfacePlotPart(KernelPart):\n",
    "    @classmethod\n",
    "    def get_metadata(cls):\n",
    "        metadata = super().get_metadata()\n",
    "        metadata.add_option(\"Table\", None, \"Table\")\n",
    "        return metadata\n",
    "    \n",
    "    def render(self, opts):\n",
    "        data = opts[\"Table\"]\n",
    "        data = data.pivot_table(columns=[\"y\"], values=[\"z\"], index=[\"x\"])\n",
    "\n",
    "        surf = go.Surface(\n",
    "            z=data[\"z\"].values\n",
    "        )\n",
    "        layout = go.Layout(\n",
    "            autosize=True,\n",
    "            scene=dict(\n",
    "                xaxis=dict(\n",
    "                    title=\"Moneyness\",\n",
    "                    nticks=11\n",
    "                ),\n",
    "                yaxis=dict(\n",
    "                    title=\"Time\",\n",
    "                    nticks=12\n",
    "                ),\n",
    "                zaxis=dict(\n",
    "                    title=\"Vol %\",\n",
    "                    tickformat=\"%\",\n",
    "                    nticks=5\n",
    "                )\n",
    "            )\n",
    "        )\n",
    "        display(go.FigureWidget([surf], layout))"
   ]
  },
  {
   "cell_type": "code",
   "execution_count": 4,
   "metadata": {
    "jupyter": {
     "source_hidden": true
    },
    "showinviewer": "true"
   },
   "outputs": [
    {
     "data": {
      "application/vnd.maven.layout+json": {
       "globals": [
        {
         "name": "VendorWts",
         "type": "String",
         "value": "value,label\n0.41,Vendor1\n0.5,Vendor2\n0.5,Vendor3\n0.5,Vendor4\n"
        },
        {
         "name": "AssetClass",
         "type": "String",
         "value": "USD/JPY"
        },
        {
         "name": "PutCall",
         "type": "String",
         "value": "Put"
        }
       ],
       "layout": {
        "attachedProperties": [
         {
          "Fixed Size (px)": null,
          "Stretch": 0.481981981981982
         },
         {
          "Fixed Size (px)": null,
          "Stretch": 1.518018018018018
         }
        ],
        "children": [
         {
          "guid": "1c564a33-09f2-4ce4-8115-b755ae05e49d",
          "properties": {
           "caption": "Volatility over Moneyness and Time",
           "showTitle": true
          },
          "typeName": 1,
          "uuid": "fdcffca6-ebc8-4eac-9aeb-abe4eb679b73"
         },
         {
          "attachedProperties": [
           {
            "Fixed Size (px)": null,
            "Stretch": 1.7581206496519721
           },
           {
            "Fixed Size (px)": 63,
            "Stretch": null
           }
          ],
          "children": [
           {
            "attachedProperties": [
             {
              "Fixed Size (px)": null,
              "Stretch": 1.1330811146093775
             },
             {
              "Fixed Size (px)": 223,
              "Stretch": null
             }
            ],
            "children": [
             {
              "attachedProperties": [
               {
                "Fixed Size (px)": null,
                "Stretch": 1
               },
               {
                "Fixed Size (px)": null,
                "Stretch": 1
               }
              ],
              "children": [
               {
                "guid": "d06473f4-7899-4f45-ab5a-a2b69c6c9ada",
                "properties": {
                 "caption": "2d Slices by Vendor",
                 "showRegion": true,
                 "showTitle": true
                },
                "typeName": 1,
                "uuid": "e793668e-7092-4569-b0bb-7b7039622826"
               },
               {
                "guid": "3b1b5d09-c7ba-4515-b060-7304f220b3fa",
                "properties": {
                 "caption": "SlickGrid",
                 "showRegion": true,
                 "showTitle": false
                },
                "typeName": 1,
                "uuid": "75641377-b0d4-4cad-80f3-6700174f7def"
               }
              ],
              "properties": {
               "horizontal": true,
               "prunable": true
              },
              "typeName": 0,
              "uuid": "8dd8b3dc-e0bd-418c-b4a2-080be55301f7"
             },
             {
              "guid": "8367dc1a-6c72-41ce-a260-470d68210bcf",
              "properties": {
               "caption": "Vendor Weights",
               "showRegion": true,
               "showTitle": true
              },
              "typeName": 1,
              "uuid": "98de16b0-f2ca-4564-b637-1a0ebaccc587"
             }
            ],
            "properties": {
             "horizontal": false,
             "prunable": true
            },
            "typeName": 0,
            "uuid": "37345abe-091c-469d-a1f8-757f3bf11954"
           },
           {
            "attachedProperties": [
             {
              "Fixed Size (px)": null,
              "Stretch": 1
             },
             {
              "Fixed Size (px)": null,
              "Stretch": 1
             }
            ],
            "children": [
             {
              "guid": "b5cb7eff-53d0-47d0-9b67-6779aa61d7c9",
              "properties": {
               "caption": "Put/Call",
               "showTitle": true
              },
              "typeName": 1,
              "uuid": "7c7ed88f-3bc0-4ab4-97f0-17ce1eadf17c"
             },
             {
              "guid": "1c38487b-029e-4f2d-8a32-357c13ec6907",
              "properties": {
               "caption": "Asset Class",
               "showRegion": true,
               "showTitle": true
              },
              "typeName": 1,
              "uuid": "5eb1871f-12c9-44cb-bb71-cd37461ad604"
             }
            ],
            "properties": {
             "horizontal": true,
             "prunable": true
            },
            "typeName": 0,
            "uuid": "584d5c13-1db0-4b0c-b398-dc0a785386cc"
           }
          ],
          "properties": {
           "flexSize": 1,
           "prunable": true
          },
          "typeName": 0,
          "uuid": "6df760e9-9981-4496-93df-81ca35bfb91a"
         }
        ],
        "properties": {
         "flexSize": 1,
         "horizontal": true
        },
        "typeName": 0,
        "uuid": "23ab1954-e7ee-4ee0-841b-36dac7ed4442"
       },
       "localParts": {},
       "metadata": {},
       "parts": {
        "1c38487b-029e-4f2d-8a32-357c13ec6907": {
         "application/vnd.maven.part+json": {
          "id": "1c38487b-029e-4f2d-8a32-357c13ec6907",
          "name": "DropdownPart",
          "options": {
           "options": {
            "expr": "ASSETS",
            "globals": [],
            "type": "Eval"
           },
           "value": {
            "expr": "AssetClass",
            "globals": [
             "AssetClass"
            ],
            "type": "Global"
           }
          }
         },
         "text/plain": "VisualEditorPart"
        },
        "1c564a33-09f2-4ce4-8115-b755ae05e49d": {
         "application/vnd.maven.part+json": {
          "id": "1c564a33-09f2-4ce4-8115-b755ae05e49d",
          "name": "SurfacePlotPart",
          "options": {
           "Table": {
            "expr": "/* @PutCall,@AssetClass */\n\nset @VendorsTable = StaticCache('VolData', KernelEval('df'))\n\nSELECT\n    first(Time) as [x],\n    avg(Moneyness) as [y],\n    wavg(vol, value) as [z]\nFROM\n    @VendorsTable\nWHERE\n    Asset = @AssetClass AND PutCall = @PutCall\nGROUP BY\n    Time,\n    avg(Moneyness)\n  WITH ROLLUP\nHAVING\n    GetLevel() = 2\nORDER BY\n    Time DESC",
            "globals": [
             "PutCall",
             "AssetClass"
            ],
            "type": "Mql"
           }
          }
         },
         "text/plain": "VisualEditorPart"
        },
        "3b1b5d09-c7ba-4515-b060-7304f220b3fa": {
         "application/vnd.maven.part+json": {
          "id": "3b1b5d09-c7ba-4515-b060-7304f220b3fa",
          "name": "SlickGrid",
          "options": {
           "Input Table": {
            "expr": "df",
            "globals": [],
            "type": "Eval"
           }
          }
         },
         "text/plain": "VisualEditorPart"
        },
        "8367dc1a-6c72-41ce-a260-470d68210bcf": {
         "application/vnd.maven.part+json": {
          "id": "8367dc1a-6c72-41ce-a260-470d68210bcf",
          "name": "GenericSlidersPart",
          "options": {
           "Names": {
            "expr": "VENDORS",
            "globals": [],
            "type": "Eval"
           },
           "namesandvalues": {
            "expr": "VendorWts",
            "globals": [
             "VendorWts"
            ],
            "type": "Global"
           },
           "values": {
            "typeName": "Any",
            "value": [
             0.41,
             0.5,
             0.5,
             0.5
            ]
           }
          }
         },
         "text/plain": "VisualEditorPart"
        },
        "b5cb7eff-53d0-47d0-9b67-6779aa61d7c9": {
         "application/vnd.maven.part+json": {
          "id": "b5cb7eff-53d0-47d0-9b67-6779aa61d7c9",
          "name": "DropdownPart",
          "options": {
           "options": {
            "typeName": "Array",
            "value": [
             {
              "typeName": "String",
              "value": "Put"
             },
             {
              "typeName": "String",
              "value": "Call"
             }
            ]
           },
           "value": {
            "expr": "PutCall",
            "globals": [
             "PutCall"
            ],
            "type": "Global"
           }
          }
         },
         "text/plain": "VisualEditorPart"
        },
        "d06473f4-7899-4f45-ab5a-a2b69c6c9ada": {
         "application/vnd.maven.part+json": {
          "id": "d06473f4-7899-4f45-ab5a-a2b69c6c9ada",
          "name": "PivotPart",
          "options": {
           "Config": {
            "typeName": "String",
            "value": "{\"class\":\"p-Widget\",\"view\":\"d3_xy_scatter\",\"row-pivots\":\"[]\",\"column-pivots\":\"[\\\"Vendor\\\",\\\"Time\\\"]\",\"filters\":\"[]\",\"sort\":\"[]\",\"style\":\"position: absolute; width: 100%; height: 100%; z-index: 0; top: 0px; left: 0px;\",\"columns\":\"[\\\"Moneyness\\\",\\\"vol\\\"]\",\"aggregates\":\"{\\\"Moneyness\\\":\\\"any\\\",\\\"vol\\\":\\\"any\\\",\\\"Vendor\\\":\\\"count\\\",\\\"Time\\\":\\\"sum\\\"}\",\"render_time\":\"38.62000000476837\",\"settings\":\"true\",\"plugin_config\":{\"hideKeys\":[\"Vendor2|30\",\"Vendor2|360\",\"Vendor3|30\",\"Vendor3|360\",\"Vendor4|30\"],\"legend\":{\"left\":\"338px\",\"top\":\"16px\"}},\"updating\":\"true\"}"
           },
           "Input Table": {
            "expr": "/* @PutCall,@AssetClass */\nset @VendorsTable = StaticCache('VolData', KernelEval('df'))\n\nSELECT\n    Time,\n    vol,\n    Moneyness,\n    Vendor\nFROM @VendorsTable\nWHERE\n    Time in (30, 360)\n    AND Asset = @AssetClass\n    AND PutCall = @PutCall",
            "globals": [
             "PutCall",
             "AssetClass"
            ],
            "type": "Mql"
           }
          }
         },
         "text/plain": "VisualEditorPart"
        }
       },
       "visual": true
      }
     },
     "metadata": {},
     "output_type": "display_data"
    }
   ],
   "source": [
    "# Auto-generated code, do not edit!\n",
    "_json = __import__(\"json\")\n",
    "display(_json.loads(\"{\\\"application/vnd.maven.layout+json\\\": {\\\"layout\\\":{\\\"properties\\\":{\\\"flexSize\\\":1,\\\"horizontal\\\":true},\\\"typeName\\\":0,\\\"uuid\\\":\\\"23ab1954-e7ee-4ee0-841b-36dac7ed4442\\\",\\\"attachedProperties\\\":[{\\\"Fixed Size (px)\\\":null,\\\"Stretch\\\":0.481981981981982},{\\\"Fixed Size (px)\\\":null,\\\"Stretch\\\":1.518018018018018}],\\\"children\\\":[{\\\"properties\\\":{\\\"caption\\\":\\\"Volatility over Moneyness and Time\\\",\\\"showTitle\\\":true},\\\"typeName\\\":1,\\\"uuid\\\":\\\"fdcffca6-ebc8-4eac-9aeb-abe4eb679b73\\\",\\\"guid\\\":\\\"1c564a33-09f2-4ce4-8115-b755ae05e49d\\\"},{\\\"properties\\\":{\\\"flexSize\\\":1,\\\"prunable\\\":true},\\\"typeName\\\":0,\\\"uuid\\\":\\\"6df760e9-9981-4496-93df-81ca35bfb91a\\\",\\\"attachedProperties\\\":[{\\\"Fixed Size (px)\\\":null,\\\"Stretch\\\":1.7581206496519721},{\\\"Fixed Size (px)\\\":63,\\\"Stretch\\\":null}],\\\"children\\\":[{\\\"properties\\\":{\\\"horizontal\\\":false,\\\"prunable\\\":true},\\\"typeName\\\":0,\\\"uuid\\\":\\\"37345abe-091c-469d-a1f8-757f3bf11954\\\",\\\"attachedProperties\\\":[{\\\"Fixed Size (px)\\\":null,\\\"Stretch\\\":1.1330811146093775},{\\\"Fixed Size (px)\\\":223,\\\"Stretch\\\":null}],\\\"children\\\":[{\\\"properties\\\":{\\\"horizontal\\\":true,\\\"prunable\\\":true},\\\"typeName\\\":0,\\\"uuid\\\":\\\"8dd8b3dc-e0bd-418c-b4a2-080be55301f7\\\",\\\"attachedProperties\\\":[{\\\"Fixed Size (px)\\\":null,\\\"Stretch\\\":1},{\\\"Fixed Size (px)\\\":null,\\\"Stretch\\\":1}],\\\"children\\\":[{\\\"properties\\\":{\\\"caption\\\":\\\"2d Slices by Vendor\\\",\\\"showRegion\\\":true,\\\"showTitle\\\":true,\\\"maximized\\\":false},\\\"typeName\\\":1,\\\"uuid\\\":\\\"e793668e-7092-4569-b0bb-7b7039622826\\\",\\\"guid\\\":\\\"d06473f4-7899-4f45-ab5a-a2b69c6c9ada\\\"},{\\\"properties\\\":{\\\"caption\\\":\\\"SlickGrid\\\",\\\"showRegion\\\":true,\\\"showTitle\\\":false},\\\"typeName\\\":1,\\\"uuid\\\":\\\"75641377-b0d4-4cad-80f3-6700174f7def\\\",\\\"guid\\\":\\\"3b1b5d09-c7ba-4515-b060-7304f220b3fa\\\"}]},{\\\"properties\\\":{\\\"caption\\\":\\\"Vendor Weights\\\",\\\"showRegion\\\":true,\\\"showTitle\\\":true},\\\"typeName\\\":1,\\\"uuid\\\":\\\"98de16b0-f2ca-4564-b637-1a0ebaccc587\\\",\\\"guid\\\":\\\"8367dc1a-6c72-41ce-a260-470d68210bcf\\\"}]},{\\\"properties\\\":{\\\"horizontal\\\":true,\\\"prunable\\\":true},\\\"typeName\\\":0,\\\"uuid\\\":\\\"584d5c13-1db0-4b0c-b398-dc0a785386cc\\\",\\\"attachedProperties\\\":[{\\\"Fixed Size (px)\\\":null,\\\"Stretch\\\":1},{\\\"Fixed Size (px)\\\":null,\\\"Stretch\\\":1}],\\\"children\\\":[{\\\"properties\\\":{\\\"caption\\\":\\\"Put/Call\\\",\\\"showTitle\\\":true},\\\"typeName\\\":1,\\\"uuid\\\":\\\"7c7ed88f-3bc0-4ab4-97f0-17ce1eadf17c\\\",\\\"guid\\\":\\\"b5cb7eff-53d0-47d0-9b67-6779aa61d7c9\\\"},{\\\"properties\\\":{\\\"caption\\\":\\\"Asset Class\\\",\\\"showRegion\\\":true,\\\"showTitle\\\":true},\\\"typeName\\\":1,\\\"uuid\\\":\\\"5eb1871f-12c9-44cb-bb71-cd37461ad604\\\",\\\"guid\\\":\\\"1c38487b-029e-4f2d-8a32-357c13ec6907\\\"}]}]}]},\\\"parts\\\":{\\\"1c38487b-029e-4f2d-8a32-357c13ec6907\\\":{\\\"application/vnd.maven.part+json\\\":{\\\"name\\\":\\\"DropdownPart\\\",\\\"id\\\":\\\"1c38487b-029e-4f2d-8a32-357c13ec6907\\\",\\\"options\\\":{\\\"value\\\":{\\\"type\\\":\\\"Global\\\",\\\"expr\\\":\\\"AssetClass\\\",\\\"globals\\\":[\\\"AssetClass\\\"]},\\\"options\\\":{\\\"type\\\":\\\"Eval\\\",\\\"expr\\\":\\\"ASSETS\\\",\\\"globals\\\":[]}}},\\\"text/plain\\\":\\\"VisualEditorPart\\\"},\\\"1c564a33-09f2-4ce4-8115-b755ae05e49d\\\":{\\\"application/vnd.maven.part+json\\\":{\\\"name\\\":\\\"SurfacePlotPart\\\",\\\"id\\\":\\\"1c564a33-09f2-4ce4-8115-b755ae05e49d\\\",\\\"options\\\":{\\\"Table\\\":{\\\"type\\\":\\\"Mql\\\",\\\"expr\\\":\\\"/* @PutCall,@AssetClass */\\\\n\\\\nset @VendorsTable = StaticCache('VolData', KernelEval('df'))\\\\n\\\\nSELECT\\\\n    first(Time) as [x],\\\\n    avg(Moneyness) as [y],\\\\n    wavg(vol, value) as [z]\\\\nFROM\\\\n    @VendorsTable\\\\nWHERE\\\\n    Asset = @AssetClass AND PutCall = @PutCall\\\\nGROUP BY\\\\n    Time,\\\\n    avg(Moneyness)\\\\n  WITH ROLLUP\\\\nHAVING\\\\n    GetLevel() = 2\\\\nORDER BY\\\\n    Time DESC\\\",\\\"globals\\\":[\\\"PutCall\\\",\\\"AssetClass\\\"]}}},\\\"text/plain\\\":\\\"VisualEditorPart\\\"},\\\"3b1b5d09-c7ba-4515-b060-7304f220b3fa\\\":{\\\"application/vnd.maven.part+json\\\":{\\\"name\\\":\\\"SlickGrid\\\",\\\"id\\\":\\\"3b1b5d09-c7ba-4515-b060-7304f220b3fa\\\",\\\"options\\\":{\\\"Input Table\\\":{\\\"type\\\":\\\"Eval\\\",\\\"expr\\\":\\\"df\\\",\\\"globals\\\":[]}}},\\\"text/plain\\\":\\\"VisualEditorPart\\\"},\\\"8367dc1a-6c72-41ce-a260-470d68210bcf\\\":{\\\"application/vnd.maven.part+json\\\":{\\\"name\\\":\\\"GenericSlidersPart\\\",\\\"id\\\":\\\"8367dc1a-6c72-41ce-a260-470d68210bcf\\\",\\\"options\\\":{\\\"Names\\\":{\\\"type\\\":\\\"Eval\\\",\\\"expr\\\":\\\"VENDORS\\\",\\\"globals\\\":[]},\\\"values\\\":{\\\"typeName\\\":\\\"Any\\\",\\\"value\\\":[0.41,0.5,0.5,0.5]},\\\"namesandvalues\\\":{\\\"type\\\":\\\"Global\\\",\\\"expr\\\":\\\"VendorWts\\\",\\\"globals\\\":[\\\"VendorWts\\\"]}}},\\\"text/plain\\\":\\\"VisualEditorPart\\\"},\\\"b5cb7eff-53d0-47d0-9b67-6779aa61d7c9\\\":{\\\"application/vnd.maven.part+json\\\":{\\\"name\\\":\\\"DropdownPart\\\",\\\"id\\\":\\\"b5cb7eff-53d0-47d0-9b67-6779aa61d7c9\\\",\\\"options\\\":{\\\"value\\\":{\\\"type\\\":\\\"Global\\\",\\\"expr\\\":\\\"PutCall\\\",\\\"globals\\\":[\\\"PutCall\\\"]},\\\"options\\\":{\\\"typeName\\\":\\\"Array\\\",\\\"value\\\":[{\\\"typeName\\\":\\\"String\\\",\\\"value\\\":\\\"Put\\\"},{\\\"typeName\\\":\\\"String\\\",\\\"value\\\":\\\"Call\\\"}]}}},\\\"text/plain\\\":\\\"VisualEditorPart\\\"},\\\"d06473f4-7899-4f45-ab5a-a2b69c6c9ada\\\":{\\\"application/vnd.maven.part+json\\\":{\\\"name\\\":\\\"PivotPart\\\",\\\"id\\\":\\\"d06473f4-7899-4f45-ab5a-a2b69c6c9ada\\\",\\\"options\\\":{\\\"Input Table\\\":{\\\"type\\\":\\\"Mql\\\",\\\"expr\\\":\\\"/* @PutCall,@AssetClass */\\\\nset @VendorsTable = StaticCache('VolData', KernelEval('df'))\\\\n\\\\nSELECT\\\\n    Time,\\\\n    vol,\\\\n    Moneyness,\\\\n    Vendor\\\\nFROM @VendorsTable\\\\nWHERE\\\\n    Time in (30, 360)\\\\n    AND Asset = @AssetClass\\\\n    AND PutCall = @PutCall\\\",\\\"globals\\\":[\\\"PutCall\\\",\\\"AssetClass\\\"]},\\\"Config\\\":{\\\"typeName\\\":\\\"String\\\",\\\"value\\\":\\\"{\\\\\\\"class\\\\\\\":\\\\\\\"p-Widget\\\\\\\",\\\\\\\"plugin\\\\\\\":\\\\\\\"d3_y_line\\\\\\\",\\\\\\\"row-pivots\\\\\\\":\\\\\\\"[\\\\\\\\\\\\\\\"Moneyness\\\\\\\\\\\\\\\"]\\\\\\\",\\\\\\\"column-pivots\\\\\\\":\\\\\\\"[\\\\\\\\\\\\\\\"Vendor\\\\\\\\\\\\\\\",\\\\\\\\\\\\\\\"Time\\\\\\\\\\\\\\\"]\\\\\\\",\\\\\\\"filters\\\\\\\":\\\\\\\"[]\\\\\\\",\\\\\\\"sort\\\\\\\":\\\\\\\"[]\\\\\\\",\\\\\\\"style\\\\\\\":\\\\\\\"position: absolute; width: 100%; height: 100%; z-index: 0; top: 0px; left: 0px;\\\\\\\",\\\\\\\"view\\\\\\\":\\\\\\\"d3_xy_scatter\\\\\\\",\\\\\\\"columns\\\\\\\":\\\\\\\"[\\\\\\\\\\\\\\\"vol\\\\\\\\\\\\\\\"]\\\\\\\",\\\\\\\"aggregates\\\\\\\":\\\\\\\"{\\\\\\\\\\\\\\\"Moneyness\\\\\\\\\\\\\\\":\\\\\\\\\\\\\\\"any\\\\\\\\\\\\\\\",\\\\\\\\\\\\\\\"vol\\\\\\\\\\\\\\\":\\\\\\\\\\\\\\\"any\\\\\\\\\\\\\\\",\\\\\\\\\\\\\\\"Vendor\\\\\\\\\\\\\\\":\\\\\\\\\\\\\\\"count\\\\\\\\\\\\\\\",\\\\\\\\\\\\\\\"Time\\\\\\\\\\\\\\\":\\\\\\\\\\\\\\\"sum\\\\\\\\\\\\\\\"}\\\\\\\",\\\\\\\"render_time\\\\\\\":\\\\\\\"29.550000093877316\\\\\\\",\\\\\\\"plugin_config\\\\\\\":{},\\\\\\\"settings\\\\\\\":\\\\\\\"true\\\\\\\"}\\\"}}},\\\"text/plain\\\":\\\"VisualEditorPart\\\"}},\\\"metadata\\\":{},\\\"globals\\\":[{\\\"name\\\":\\\"VendorWts\\\",\\\"type\\\":\\\"String\\\",\\\"value\\\":\\\"value,label\\\\n0.41,Vendor1\\\\n0.5,Vendor2\\\\n0.5,Vendor3\\\\n0.5,Vendor4\\\\n\\\"},{\\\"name\\\":\\\"AssetClass\\\",\\\"type\\\":\\\"String\\\",\\\"value\\\":\\\"USD/JPY\\\"},{\\\"name\\\":\\\"PutCall\\\",\\\"type\\\":\\\"String\\\",\\\"value\\\":\\\"Put\\\"}],\\\"localParts\\\":{},\\\"visual\\\":true}}\"), raw=True)\n",
    "del _json"
   ]
  },
  {
   "cell_type": "code",
   "execution_count": null,
   "metadata": {},
   "outputs": [],
   "source": []
  }
 ],
 "metadata": {
  "kernelspec": {
   "display_name": "Python 3",
   "language": "python",
   "name": "python3"
  },
  "language_info": {
   "codemirror_mode": {
    "name": "ipython",
    "version": 3
   },
   "file_extension": ".py",
   "mimetype": "text/x-python",
   "name": "python",
   "nbconvert_exporter": "python",
   "pygments_lexer": "ipython3",
   "version": "3.7.3"
  }
 },
 "nbformat": 4,
 "nbformat_minor": 4
}
