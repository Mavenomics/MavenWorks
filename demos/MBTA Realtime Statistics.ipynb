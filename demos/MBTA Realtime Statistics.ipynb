{
 "cells": [
  {
   "cell_type": "markdown",
   "metadata": {
    "showinviewer": "false"
   },
   "source": [
    "# <span><img src=\"./MavenomicsLogoNew.png\" alt=\"Mavenomics Logo\" style=\"margin-bottom:-15px\" />&nbsp;|&nbsp; MBTA Realtime Statistics</span>\n",
    "\n",
    "Boston's transit system, known as the MBTA, offers a [JSON API](https://www.mbta.com/developers) for buses, trains, streetcars, subways, and more. This feed is realtime, and offers positions, next stop predictions, on-time performance, and more. This dashboard allows us to see the overall performance of the system right now, with data usually being updated every 2 minutes.\n",
    "\n",
    "Requirements:\n",
    " - [An API v3 key from the MBTA](https://api-v3.mbta.com)\n",
    " - MavenWorks\n",
    " - pandas >= 0.23"
   ]
  },
  {
   "cell_type": "code",
   "execution_count": 1,
   "metadata": {},
   "outputs": [],
   "source": [
    "# Put your API key here!\n",
    "\n",
    "MBTA_API_KEY = \"76469301e6e5411db089cf6a28bebff5\"\n",
    "UPDATE_INTERVAL = 120\n",
    "API_BASE = \"https://api-v3.mbta.com\"\n",
    "# We only list these lines to limit data consumption\n",
    "LINES = [\n",
    "    \"Red\",\n",
    "    \"Orange\",\n",
    "    \"Blue\",\n",
    "    \"Silver\",\n",
    "    # The 4 branches of the Green line are represented as independent \"lines\"\n",
    "    \"Green-B\",\n",
    "    \"Green-C\",\n",
    "    \"Green-D\",\n",
    "    \"Green-E\"\n",
    "]"
   ]
  },
  {
   "cell_type": "code",
   "execution_count": 2,
   "metadata": {},
   "outputs": [],
   "source": [
    "import requests\n",
    "import pandas as pd\n",
    "import mavenworks\n",
    "import matplotlib.pyplot as plt"
   ]
  },
  {
   "cell_type": "code",
   "execution_count": 3,
   "metadata": {},
   "outputs": [],
   "source": [
    "def make_table(api_result, include_cols=None):\n",
    "    \"\"\"Make a dataframe out of a JSON-API query result\"\"\"\n",
    "    if include_cols is None:\n",
    "        include_cols = []\n",
    "    records = api_result[\"data\"]\n",
    "    includes = {}\n",
    "    for record in api_result[\"included\"]:\n",
    "        includes[record[\"id\"]] = record[\"attributes\"]\n",
    "    def make_record_for_row(row):\n",
    "        row_attrs = {}\n",
    "        row_attrs.update(row[\"attributes\"])\n",
    "        relations = row[\"relationships\"]\n",
    "        for col in include_cols:\n",
    "            if col not in relations or relations[col][\"data\"] is None:\n",
    "                continue\n",
    "            rel_id = relations[col][\"data\"][\"id\"]\n",
    "            if rel_id not in includes:\n",
    "                continue\n",
    "            include_attrs = {col + \"_\" + key: value for key, value in includes[rel_id].items()}\n",
    "            row_attrs.update(include_attrs)\n",
    "            row_attrs[col + \"_id\"] = rel_id\n",
    "        return row_attrs\n",
    "    df = pd.DataFrame.from_records(map(make_record_for_row, records))\n",
    "    return df"
   ]
  },
  {
   "cell_type": "code",
   "execution_count": 4,
   "metadata": {},
   "outputs": [],
   "source": [
    "req = requests.get(f\"{API_BASE}/vehicles?include=trip&filter[route]={','.join(LINES)}&api_key={MBTA_API_KEY}\")\n",
    "vehicles = make_table(req.json(), [\"trip\"])"
   ]
  },
  {
   "cell_type": "code",
   "execution_count": 5,
   "metadata": {},
   "outputs": [],
   "source": [
    "req = requests.get(f\"{API_BASE}/predictions?include=schedule,trip,route&filter[route]={','.join(LINES)}&api_key={MBTA_API_KEY}\")\n",
    "predictions = make_table(req.json(), [\"schedule\", \"trip\", \"route\"])"
   ]
  },
  {
   "cell_type": "code",
   "execution_count": 6,
   "metadata": {},
   "outputs": [],
   "source": [
    "predictions[\"delay_seconds\"] = pd.to_datetime(predictions[\"departure_time\"]) - pd.to_datetime(predictions[\"schedule_departure_time\"])\n",
    "predictions[\"delay_seconds\"] = predictions[\"delay_seconds\"].dt.total_seconds()\n",
    "predictions[\"Direction\"] = predictions.apply(lambda row: row[\"route_direction_names\"][row[\"trip_direction_id\"]], axis=1)\n",
    "vhc_and_pred = pd.merge(vehicles, predictions, on=\"trip_id\")"
   ]
  },
  {
   "cell_type": "code",
   "execution_count": 7,
   "metadata": {},
   "outputs": [],
   "source": [
    "def get_updated_data(rand):\n",
    "    global vhc_and_pred\n",
    "    req = requests.get(f\"{API_BASE}/vehicles?include=trip&filter[route]={','.join(LINES)}&api_key={MBTA_API_KEY}\")\n",
    "    vehicles = make_table(req.json(), [\"trip\"])\n",
    "    req = requests.get(f\"{API_BASE}/predictions?include=schedule,trip,route&filter[route]={','.join(LINES)}&api_key={MBTA_API_KEY}\")\n",
    "    predictions = make_table(req.json(), [\"schedule\", \"trip\", \"route\"])\n",
    "    predictions[\"delay_seconds\"] = pd.to_datetime(predictions[\"departure_time\"]) - pd.to_datetime(predictions[\"schedule_departure_time\"])\n",
    "    predictions[\"delay_seconds\"] = predictions[\"delay_seconds\"].dt.total_seconds()\n",
    "    predictions[\"Direction\"] = predictions.apply(lambda row: row[\"route_direction_names\"][row[\"trip_direction_id\"]], axis=1)\n",
    "    vhc_and_pred = pd.merge(vehicles, predictions, on=\"trip_id\")\n",
    "    return vhc_and_pred"
   ]
  },
  {
   "cell_type": "code",
   "execution_count": 8,
   "metadata": {
    "jupyter": {
     "source_hidden": true
    },
    "showinviewer": "true"
   },
   "outputs": [
    {
     "data": {
      "application/vnd.maven.layout+json": {
       "globals": [
        {
         "name": "AutoUpdate",
         "type": "Boolean",
         "value": null
        },
        {
         "name": "rand",
         "type": "Number",
         "value": 5
        }
       ],
       "layout": {
        "attachedProperties": [
         {
          "Fixed Size (px)": 100,
          "Stretch": null
         },
         {
          "Fixed Size (px)": null,
          "Stretch": 1.6169762137504073
         }
        ],
        "children": [
         {
          "attachedProperties": [
           {
            "Fixed Size (px)": 630,
            "Stretch": null
           },
           {
            "Fixed Size (px)": null,
            "Stretch": 0.5669934640522876
           }
          ],
          "children": [
           {
            "guid": "fc4bec04-9659-455c-b7f2-c5b217b22ed4",
            "properties": {
             "caption": "MavenTitlePart",
             "flexSize": 1,
             "showRegion": true,
             "showTitle": false
            },
            "typeName": 1,
            "uuid": "f89ff16b-bfd9-4c5a-b719-1c29d0814451"
           },
           {
            "guid": "4482072c-7d80-4e38-9d37-52c525ee70fa",
            "properties": {
             "caption": "CheckboxPart",
             "showRegion": true,
             "showTitle": false
            },
            "typeName": 1,
            "uuid": "b3f49fbc-baec-4213-93ac-c86033bcdb0b"
           }
          ],
          "properties": {
           "horizontal": true,
           "prunable": true
          },
          "typeName": 0,
          "uuid": "fe2a90a5-8b7e-405e-8511-b6cd2b572adf"
         },
         {
          "attachedProperties": [
           {
            "Fixed Size (px)": null,
            "Stretch": 1.469387755102041
           },
           {
            "Fixed Size (px)": null,
            "Stretch": 0.5306122448979592
           }
          ],
          "children": [
           {
            "attachedProperties": [
             {
              "Fixed Size (px)": null,
              "Stretch": 1
             },
             {
              "Fixed Size (px)": null,
              "Stretch": 1
             }
            ],
            "children": [
             {
              "guid": "2dc1fe45-1933-4a46-9b3c-e31f0ee77d10",
              "properties": {
               "caption": "Delay (seconds) By Line and Direction",
               "showTitle": true
              },
              "typeName": 1,
              "uuid": "8a1e7d38-a82c-48a7-9c9e-a6c42f8eb379"
             },
             {
              "guid": "03e008a8-676b-43df-8f45-5005906a59d9",
              "properties": {
               "caption": "PivotPart",
               "showRegion": true
              },
              "typeName": 1,
              "uuid": "b795bbc5-c21a-4b76-a77c-66d00ea53066"
             }
            ],
            "properties": {
             "horizontal": true,
             "prunable": true
            },
            "typeName": 0,
            "uuid": "dee9bef9-e466-4704-ba9d-6adc3b2155ae"
           },
           {
            "guid": "b85c483d-96a8-4295-9370-ae1d34cf72f7",
            "properties": {
             "caption": "AnimationSliderPart"
            },
            "typeName": 1,
            "uuid": "116a78d7-686a-4c50-93bd-6d9ab3b4f0e6"
           }
          ],
          "properties": {
           "flexSize": 1,
           "prunable": true
          },
          "typeName": 0,
          "uuid": "4c248aaa-4e53-4ce0-b62d-d06a25aa2b7c"
         }
        ],
        "properties": {
         "flexSize": 1,
         "horizontal": false
        },
        "typeName": 0,
        "uuid": "76c23bcd-c93b-4dcc-b1bb-56cc1bcbcb5d"
       },
       "localParts": {},
       "metadata": {},
       "parts": {
        "03e008a8-676b-43df-8f45-5005906a59d9": {
         "application/vnd.maven.part+json": {
          "id": "03e008a8-676b-43df-8f45-5005906a59d9",
          "name": "PivotPart",
          "options": {
           "Config": {
            "typeName": "String",
            "value": "{\"class\":\"p-Widget\",\"view\":\"d3_xy_scatter\",\"row-pivots\":\"[]\",\"column-pivots\":\"[\\\"route_long_name\\\"]\",\"filters\":\"[]\",\"sort\":\"[]\",\"style\":\"position: absolute; z-index: 0; top: 0px; left: 0px; width: 100%; height: 100%;\",\"columns\":\"[\\\"latitude\\\",\\\"longitude\\\"]\",\"aggregates\":\"{\\\"route_long_name\\\":\\\"count\\\",\\\"latitude\\\":\\\"sum\\\",\\\"longitude\\\":\\\"sum\\\"}\",\"render_time\":\"80.74499992653728\",\"updating\":\"true\",\"plugin_config\":{\"zoom\":{\"k\":1,\"x\":0,\"y\":0}}}"
           },
           "Input Table": {
            "expr": "/* @rand */\nawait new Promise(res => setTimeout(res, 5000));\n\nreturn mql`SELECT\n    route_long_name,\n    longitude,\n    latitude\nFROM KernelEval('vhc_and_pred')`;",
            "globals": [
             "rand"
            ],
            "type": "JavaScript"
           }
          }
         },
         "text/plain": "VisualEditorPart"
        },
        "2dc1fe45-1933-4a46-9b3c-e31f0ee77d10": {
         "application/vnd.maven.part+json": {
          "id": "2dc1fe45-1933-4a46-9b3c-e31f0ee77d10",
          "name": "PivotPart",
          "options": {
           "Config": {
            "typeName": "String",
            "value": "{\"class\":\"p-Widget\",\"view\":\"d3_heatmap\",\"row-pivots\":\"[\\\"route_long_name\\\"]\",\"column-pivots\":\"[\\\"Direction\\\"]\",\"filters\":\"[]\",\"sort\":\"[]\",\"style\":\"position: absolute; z-index: 0; top: 0px; left: 0px; width: 100%; height: 100%;\",\"columns\":\"[\\\"delay_seconds\\\"]\",\"aggregates\":\"{\\\"current_status\\\":\\\"distinct count\\\",\\\"delay_seconds\\\":\\\"avg\\\",\\\"label\\\":\\\"distinct count\\\",\\\"route_color\\\":\\\"distinct count\\\",\\\"route_description\\\":\\\"distinct count\\\",\\\"route_direction_destinations\\\":\\\"distinct count\\\",\\\"route_direction_names\\\":\\\"distinct count\\\",\\\"route_fare_class\\\":\\\"distinct count\\\",\\\"route_id\\\":\\\"distinct count\\\",\\\"route_long_name\\\":\\\"distinct count\\\",\\\"route_short_name\\\":\\\"distinct count\\\",\\\"route_text_color\\\":\\\"distinct count\\\",\\\"schedule_arrival_time\\\":\\\"distinct count\\\",\\\"schedule_departure_time\\\":\\\"distinct count\\\",\\\"schedule_direction_id\\\":\\\"distinct count\\\",\\\"schedule_drop_off_type\\\":\\\"distinct count\\\",\\\"schedule_id\\\":\\\"distinct count\\\",\\\"schedule_pickup_type\\\":\\\"distinct count\\\",\\\"schedule_relationship\\\":\\\"distinct count\\\",\\\"schedule_stop_sequence\\\":\\\"distinct count\\\",\\\"schedule_timepoint\\\":\\\"distinct count\\\",\\\"speed\\\":\\\"count\\\",\\\"status\\\":\\\"distinct count\\\",\\\"trip_block_id_x\\\":\\\"distinct count\\\",\\\"trip_block_id_y\\\":\\\"distinct count\\\",\\\"trip_headsign_x\\\":\\\"dominant\\\",\\\"trip_headsign_y\\\":\\\"distinct count\\\",\\\"trip_id\\\":\\\"distinct count\\\",\\\"trip_name_x\\\":\\\"distinct count\\\",\\\"trip_name_y\\\":\\\"distinct count\\\",\\\"arrival_time\\\":\\\"distinct count\\\",\\\"departure_time\\\":\\\"distinct count\\\",\\\"updated_at\\\":\\\"distinct count\\\",\\\"bearing\\\":\\\"avg\\\",\\\"current_stop_sequence\\\":\\\"sum\\\",\\\"direction_id_x\\\":\\\"sum\\\",\\\"direction_id_y\\\":\\\"sum\\\",\\\"route_type\\\":\\\"sum\\\",\\\"stop_sequence\\\":\\\"sum\\\",\\\"trip_direction_id_x\\\":\\\"sum\\\",\\\"trip_direction_id_y\\\":\\\"sum\\\",\\\"latitude\\\":\\\"sum\\\",\\\"longitude\\\":\\\"sum\\\",\\\"route_sort_order\\\":\\\"sum\\\",\\\"trip_bikes_allowed_x\\\":\\\"sum\\\",\\\"trip_bikes_allowed_y\\\":\\\"sum\\\",\\\"trip_wheelchair_accessible_x\\\":\\\"sum\\\",\\\"trip_wheelchair_accessible_y\\\":\\\"sum\\\",\\\"Direction\\\":\\\"count\\\"}\",\"render_time\":\"20.53499990142882\",\"plugin_config\":{},\"updating\":\"true\"}"
           },
           "Input Table": {
            "expr": "get_updated_data(@rand)",
            "globals": [
             "rand"
            ],
            "type": "Eval"
           }
          }
         },
         "text/plain": "VisualEditorPart"
        },
        "4482072c-7d80-4e38-9d37-52c525ee70fa": {
         "application/vnd.maven.part+json": {
          "id": "4482072c-7d80-4e38-9d37-52c525ee70fa",
          "name": "CheckboxPart",
          "options": {
           "Checked": {
            "expr": "AutoUpdate",
            "globals": [
             "AutoUpdate"
            ],
            "type": "Global"
           },
           "Label": {
            "typeName": "String",
            "value": "Auto-update?"
           }
          }
         },
         "text/plain": "VisualEditorPart"
        },
        "b85c483d-96a8-4295-9370-ae1d34cf72f7": {
         "application/vnd.maven.part+json": {
          "id": "b85c483d-96a8-4295-9370-ae1d34cf72f7",
          "name": "AnimationSliderPart",
          "options": {
           "Loop": {
            "typeName": "Boolean",
            "value": true
           },
           "Timestep (ms)": {
            "typeName": "Number",
            "value": 12000
           },
           "Value": {
            "expr": "rand",
            "globals": [
             "rand"
            ],
            "type": "Global"
           }
          }
         },
         "text/plain": "VisualEditorPart"
        },
        "f9d93dd1-8e8d-452f-92dd-1283b9c17764": {
         "application/vnd.maven.part+json": {
          "id": "f9d93dd1-8e8d-452f-92dd-1283b9c17764",
          "name": "PivotPart",
          "options": {
           "Config": {
            "typeName": "String",
            "value": "{\"class\":\"p-Widget\",\"view\":\"hypergrid\",\"row-pivots\":\"[]\",\"column-pivots\":\"[]\",\"filters\":\"[]\",\"sort\":\"[]\",\"style\":\"position: absolute; z-index: 0; top: 0px; left: 0px; width: 100%; height: 100%;\",\"updating\":\"true\",\"columns\":\"[\\\"null\\\"]\",\"aggregates\":\"{\\\"null\\\":\\\"count\\\"}\"}"
           }
          }
         },
         "text/plain": "VisualEditorPart"
        },
        "fc4bec04-9659-455c-b7f2-c5b217b22ed4": {
         "application/vnd.maven.part+json": {
          "id": "fc4bec04-9659-455c-b7f2-c5b217b22ed4",
          "name": "MavenTitlePart",
          "options": {
           "Name": {
            "typeName": "String",
            "value": "MBTA Live System Dashboard"
           }
          }
         },
         "text/plain": "VisualEditorPart"
        }
       },
       "visual": true
      }
     },
     "metadata": {},
     "output_type": "display_data"
    }
   ],
   "source": [
    "# Auto-generated code, do not edit!\n",
    "_json = __import__(\"json\")\n",
    "display(_json.loads(\"{\\\"application/vnd.maven.layout+json\\\": {\\\"layout\\\":{\\\"properties\\\":{\\\"flexSize\\\":1,\\\"horizontal\\\":false},\\\"typeName\\\":0,\\\"uuid\\\":\\\"76c23bcd-c93b-4dcc-b1bb-56cc1bcbcb5d\\\",\\\"attachedProperties\\\":[{\\\"Fixed Size (px)\\\":100,\\\"Stretch\\\":null},{\\\"Fixed Size (px)\\\":null,\\\"Stretch\\\":1.6169762137504073}],\\\"children\\\":[{\\\"properties\\\":{\\\"horizontal\\\":true,\\\"prunable\\\":true},\\\"typeName\\\":0,\\\"uuid\\\":\\\"fe2a90a5-8b7e-405e-8511-b6cd2b572adf\\\",\\\"attachedProperties\\\":[{\\\"Fixed Size (px)\\\":630,\\\"Stretch\\\":null},{\\\"Fixed Size (px)\\\":null,\\\"Stretch\\\":0.5669934640522876}],\\\"children\\\":[{\\\"properties\\\":{\\\"caption\\\":\\\"MavenTitlePart\\\",\\\"flexSize\\\":1,\\\"showRegion\\\":true,\\\"showTitle\\\":false},\\\"typeName\\\":1,\\\"uuid\\\":\\\"f89ff16b-bfd9-4c5a-b719-1c29d0814451\\\",\\\"guid\\\":\\\"fc4bec04-9659-455c-b7f2-c5b217b22ed4\\\"},{\\\"properties\\\":{\\\"caption\\\":\\\"CheckboxPart\\\",\\\"showRegion\\\":true,\\\"showTitle\\\":false},\\\"typeName\\\":1,\\\"uuid\\\":\\\"b3f49fbc-baec-4213-93ac-c86033bcdb0b\\\",\\\"guid\\\":\\\"4482072c-7d80-4e38-9d37-52c525ee70fa\\\"}]},{\\\"properties\\\":{\\\"flexSize\\\":1,\\\"prunable\\\":true},\\\"typeName\\\":0,\\\"uuid\\\":\\\"4c248aaa-4e53-4ce0-b62d-d06a25aa2b7c\\\",\\\"attachedProperties\\\":[{\\\"Fixed Size (px)\\\":null,\\\"Stretch\\\":1.469387755102041},{\\\"Fixed Size (px)\\\":null,\\\"Stretch\\\":0.5306122448979592}],\\\"children\\\":[{\\\"properties\\\":{\\\"horizontal\\\":true,\\\"prunable\\\":true},\\\"typeName\\\":0,\\\"uuid\\\":\\\"dee9bef9-e466-4704-ba9d-6adc3b2155ae\\\",\\\"attachedProperties\\\":[{\\\"Fixed Size (px)\\\":null,\\\"Stretch\\\":1},{\\\"Fixed Size (px)\\\":null,\\\"Stretch\\\":1}],\\\"children\\\":[{\\\"properties\\\":{\\\"caption\\\":\\\"Delay (seconds) By Line and Direction\\\",\\\"showTitle\\\":true},\\\"typeName\\\":1,\\\"uuid\\\":\\\"8a1e7d38-a82c-48a7-9c9e-a6c42f8eb379\\\",\\\"guid\\\":\\\"2dc1fe45-1933-4a46-9b3c-e31f0ee77d10\\\"},{\\\"properties\\\":{\\\"caption\\\":\\\"PivotPart\\\",\\\"showRegion\\\":true},\\\"typeName\\\":1,\\\"uuid\\\":\\\"b795bbc5-c21a-4b76-a77c-66d00ea53066\\\",\\\"guid\\\":\\\"03e008a8-676b-43df-8f45-5005906a59d9\\\"}]},{\\\"properties\\\":{\\\"caption\\\":\\\"AnimationSliderPart\\\"},\\\"typeName\\\":1,\\\"uuid\\\":\\\"116a78d7-686a-4c50-93bd-6d9ab3b4f0e6\\\",\\\"guid\\\":\\\"b85c483d-96a8-4295-9370-ae1d34cf72f7\\\"}]}]},\\\"parts\\\":{\\\"03e008a8-676b-43df-8f45-5005906a59d9\\\":{\\\"application/vnd.maven.part+json\\\":{\\\"name\\\":\\\"PivotPart\\\",\\\"id\\\":\\\"03e008a8-676b-43df-8f45-5005906a59d9\\\",\\\"options\\\":{\\\"Input Table\\\":{\\\"type\\\":\\\"JavaScript\\\",\\\"expr\\\":\\\"/* @rand */\\\\nawait new Promise(res => setTimeout(res, 5000));\\\\n\\\\nreturn mql`SELECT\\\\n    route_long_name,\\\\n    longitude,\\\\n    latitude\\\\nFROM KernelEval('vhc_and_pred')`;\\\",\\\"globals\\\":[\\\"rand\\\"]},\\\"Config\\\":{\\\"typeName\\\":\\\"String\\\",\\\"value\\\":\\\"{\\\\\\\"class\\\\\\\":\\\\\\\"p-Widget\\\\\\\",\\\\\\\"plugin\\\\\\\":\\\\\\\"d3_xy_scatter\\\\\\\",\\\\\\\"row-pivots\\\\\\\":\\\\\\\"[]\\\\\\\",\\\\\\\"column-pivots\\\\\\\":\\\\\\\"[\\\\\\\\\\\\\\\"route_long_name\\\\\\\\\\\\\\\"]\\\\\\\",\\\\\\\"filters\\\\\\\":\\\\\\\"[]\\\\\\\",\\\\\\\"sort\\\\\\\":\\\\\\\"[]\\\\\\\",\\\\\\\"style\\\\\\\":\\\\\\\"position: absolute; z-index: 0; top: 0px; left: 0px; width: 100%; height: 100%;\\\\\\\",\\\\\\\"view\\\\\\\":\\\\\\\"d3_xy_scatter\\\\\\\",\\\\\\\"columns\\\\\\\":\\\\\\\"[\\\\\\\\\\\\\\\"latitude\\\\\\\\\\\\\\\",\\\\\\\\\\\\\\\"longitude\\\\\\\\\\\\\\\"]\\\\\\\",\\\\\\\"aggregates\\\\\\\":\\\\\\\"{\\\\\\\\\\\\\\\"route_long_name\\\\\\\\\\\\\\\":\\\\\\\\\\\\\\\"count\\\\\\\\\\\\\\\",\\\\\\\\\\\\\\\"latitude\\\\\\\\\\\\\\\":\\\\\\\\\\\\\\\"sum\\\\\\\\\\\\\\\",\\\\\\\\\\\\\\\"longitude\\\\\\\\\\\\\\\":\\\\\\\\\\\\\\\"sum\\\\\\\\\\\\\\\"}\\\\\\\",\\\\\\\"render_time\\\\\\\":\\\\\\\"40.13499990105629\\\\\\\",\\\\\\\"settings\\\\\\\":\\\\\\\"true\\\\\\\"}\\\"}}},\\\"text/plain\\\":\\\"VisualEditorPart\\\"},\\\"2dc1fe45-1933-4a46-9b3c-e31f0ee77d10\\\":{\\\"application/vnd.maven.part+json\\\":{\\\"name\\\":\\\"PivotPart\\\",\\\"id\\\":\\\"2dc1fe45-1933-4a46-9b3c-e31f0ee77d10\\\",\\\"options\\\":{\\\"Input Table\\\":{\\\"type\\\":\\\"Eval\\\",\\\"expr\\\":\\\"get_updated_data(@rand)\\\",\\\"globals\\\":[\\\"rand\\\"]},\\\"Config\\\":{\\\"typeName\\\":\\\"String\\\",\\\"value\\\":\\\"{\\\\\\\"class\\\\\\\":\\\\\\\"p-Widget\\\\\\\",\\\\\\\"plugin\\\\\\\":\\\\\\\"d3_heatmap\\\\\\\",\\\\\\\"row-pivots\\\\\\\":\\\\\\\"[\\\\\\\\\\\\\\\"route_long_name\\\\\\\\\\\\\\\"]\\\\\\\",\\\\\\\"column-pivots\\\\\\\":\\\\\\\"[\\\\\\\\\\\\\\\"Direction\\\\\\\\\\\\\\\"]\\\\\\\",\\\\\\\"filters\\\\\\\":\\\\\\\"[]\\\\\\\",\\\\\\\"sort\\\\\\\":\\\\\\\"[]\\\\\\\",\\\\\\\"style\\\\\\\":\\\\\\\"position: absolute; z-index: 0; top: 0px; left: 0px; width: 100%; height: 100%;\\\\\\\",\\\\\\\"view\\\\\\\":\\\\\\\"d3_heatmap\\\\\\\",\\\\\\\"columns\\\\\\\":\\\\\\\"[\\\\\\\\\\\\\\\"delay_seconds\\\\\\\\\\\\\\\"]\\\\\\\",\\\\\\\"aggregates\\\\\\\":\\\\\\\"{\\\\\\\\\\\\\\\"current_status\\\\\\\\\\\\\\\":\\\\\\\\\\\\\\\"distinct count\\\\\\\\\\\\\\\",\\\\\\\\\\\\\\\"delay_seconds\\\\\\\\\\\\\\\":\\\\\\\\\\\\\\\"avg\\\\\\\\\\\\\\\",\\\\\\\\\\\\\\\"label\\\\\\\\\\\\\\\":\\\\\\\\\\\\\\\"distinct count\\\\\\\\\\\\\\\",\\\\\\\\\\\\\\\"route_color\\\\\\\\\\\\\\\":\\\\\\\\\\\\\\\"distinct count\\\\\\\\\\\\\\\",\\\\\\\\\\\\\\\"route_description\\\\\\\\\\\\\\\":\\\\\\\\\\\\\\\"distinct count\\\\\\\\\\\\\\\",\\\\\\\\\\\\\\\"route_direction_destinations\\\\\\\\\\\\\\\":\\\\\\\\\\\\\\\"distinct count\\\\\\\\\\\\\\\",\\\\\\\\\\\\\\\"route_direction_names\\\\\\\\\\\\\\\":\\\\\\\\\\\\\\\"distinct count\\\\\\\\\\\\\\\",\\\\\\\\\\\\\\\"route_fare_class\\\\\\\\\\\\\\\":\\\\\\\\\\\\\\\"distinct count\\\\\\\\\\\\\\\",\\\\\\\\\\\\\\\"route_id\\\\\\\\\\\\\\\":\\\\\\\\\\\\\\\"distinct count\\\\\\\\\\\\\\\",\\\\\\\\\\\\\\\"route_long_name\\\\\\\\\\\\\\\":\\\\\\\\\\\\\\\"distinct count\\\\\\\\\\\\\\\",\\\\\\\\\\\\\\\"route_short_name\\\\\\\\\\\\\\\":\\\\\\\\\\\\\\\"distinct count\\\\\\\\\\\\\\\",\\\\\\\\\\\\\\\"route_text_color\\\\\\\\\\\\\\\":\\\\\\\\\\\\\\\"distinct count\\\\\\\\\\\\\\\",\\\\\\\\\\\\\\\"schedule_arrival_time\\\\\\\\\\\\\\\":\\\\\\\\\\\\\\\"distinct count\\\\\\\\\\\\\\\",\\\\\\\\\\\\\\\"schedule_departure_time\\\\\\\\\\\\\\\":\\\\\\\\\\\\\\\"distinct count\\\\\\\\\\\\\\\",\\\\\\\\\\\\\\\"schedule_direction_id\\\\\\\\\\\\\\\":\\\\\\\\\\\\\\\"distinct count\\\\\\\\\\\\\\\",\\\\\\\\\\\\\\\"schedule_drop_off_type\\\\\\\\\\\\\\\":\\\\\\\\\\\\\\\"distinct count\\\\\\\\\\\\\\\",\\\\\\\\\\\\\\\"schedule_id\\\\\\\\\\\\\\\":\\\\\\\\\\\\\\\"distinct count\\\\\\\\\\\\\\\",\\\\\\\\\\\\\\\"schedule_pickup_type\\\\\\\\\\\\\\\":\\\\\\\\\\\\\\\"distinct count\\\\\\\\\\\\\\\",\\\\\\\\\\\\\\\"schedule_relationship\\\\\\\\\\\\\\\":\\\\\\\\\\\\\\\"distinct count\\\\\\\\\\\\\\\",\\\\\\\\\\\\\\\"schedule_stop_sequence\\\\\\\\\\\\\\\":\\\\\\\\\\\\\\\"distinct count\\\\\\\\\\\\\\\",\\\\\\\\\\\\\\\"schedule_timepoint\\\\\\\\\\\\\\\":\\\\\\\\\\\\\\\"distinct count\\\\\\\\\\\\\\\",\\\\\\\\\\\\\\\"speed\\\\\\\\\\\\\\\":\\\\\\\\\\\\\\\"count\\\\\\\\\\\\\\\",\\\\\\\\\\\\\\\"status\\\\\\\\\\\\\\\":\\\\\\\\\\\\\\\"distinct count\\\\\\\\\\\\\\\",\\\\\\\\\\\\\\\"trip_block_id_x\\\\\\\\\\\\\\\":\\\\\\\\\\\\\\\"distinct count\\\\\\\\\\\\\\\",\\\\\\\\\\\\\\\"trip_block_id_y\\\\\\\\\\\\\\\":\\\\\\\\\\\\\\\"distinct count\\\\\\\\\\\\\\\",\\\\\\\\\\\\\\\"trip_headsign_x\\\\\\\\\\\\\\\":\\\\\\\\\\\\\\\"dominant\\\\\\\\\\\\\\\",\\\\\\\\\\\\\\\"trip_headsign_y\\\\\\\\\\\\\\\":\\\\\\\\\\\\\\\"distinct count\\\\\\\\\\\\\\\",\\\\\\\\\\\\\\\"trip_id\\\\\\\\\\\\\\\":\\\\\\\\\\\\\\\"distinct count\\\\\\\\\\\\\\\",\\\\\\\\\\\\\\\"trip_name_x\\\\\\\\\\\\\\\":\\\\\\\\\\\\\\\"distinct count\\\\\\\\\\\\\\\",\\\\\\\\\\\\\\\"trip_name_y\\\\\\\\\\\\\\\":\\\\\\\\\\\\\\\"distinct count\\\\\\\\\\\\\\\",\\\\\\\\\\\\\\\"arrival_time\\\\\\\\\\\\\\\":\\\\\\\\\\\\\\\"distinct count\\\\\\\\\\\\\\\",\\\\\\\\\\\\\\\"departure_time\\\\\\\\\\\\\\\":\\\\\\\\\\\\\\\"distinct count\\\\\\\\\\\\\\\",\\\\\\\\\\\\\\\"updated_at\\\\\\\\\\\\\\\":\\\\\\\\\\\\\\\"distinct count\\\\\\\\\\\\\\\",\\\\\\\\\\\\\\\"bearing\\\\\\\\\\\\\\\":\\\\\\\\\\\\\\\"avg\\\\\\\\\\\\\\\",\\\\\\\\\\\\\\\"current_stop_sequence\\\\\\\\\\\\\\\":\\\\\\\\\\\\\\\"sum\\\\\\\\\\\\\\\",\\\\\\\\\\\\\\\"direction_id_x\\\\\\\\\\\\\\\":\\\\\\\\\\\\\\\"sum\\\\\\\\\\\\\\\",\\\\\\\\\\\\\\\"direction_id_y\\\\\\\\\\\\\\\":\\\\\\\\\\\\\\\"sum\\\\\\\\\\\\\\\",\\\\\\\\\\\\\\\"route_type\\\\\\\\\\\\\\\":\\\\\\\\\\\\\\\"sum\\\\\\\\\\\\\\\",\\\\\\\\\\\\\\\"stop_sequence\\\\\\\\\\\\\\\":\\\\\\\\\\\\\\\"sum\\\\\\\\\\\\\\\",\\\\\\\\\\\\\\\"trip_direction_id_x\\\\\\\\\\\\\\\":\\\\\\\\\\\\\\\"sum\\\\\\\\\\\\\\\",\\\\\\\\\\\\\\\"trip_direction_id_y\\\\\\\\\\\\\\\":\\\\\\\\\\\\\\\"sum\\\\\\\\\\\\\\\",\\\\\\\\\\\\\\\"latitude\\\\\\\\\\\\\\\":\\\\\\\\\\\\\\\"sum\\\\\\\\\\\\\\\",\\\\\\\\\\\\\\\"longitude\\\\\\\\\\\\\\\":\\\\\\\\\\\\\\\"sum\\\\\\\\\\\\\\\",\\\\\\\\\\\\\\\"route_sort_order\\\\\\\\\\\\\\\":\\\\\\\\\\\\\\\"sum\\\\\\\\\\\\\\\",\\\\\\\\\\\\\\\"trip_bikes_allowed_x\\\\\\\\\\\\\\\":\\\\\\\\\\\\\\\"sum\\\\\\\\\\\\\\\",\\\\\\\\\\\\\\\"trip_bikes_allowed_y\\\\\\\\\\\\\\\":\\\\\\\\\\\\\\\"sum\\\\\\\\\\\\\\\",\\\\\\\\\\\\\\\"trip_wheelchair_accessible_x\\\\\\\\\\\\\\\":\\\\\\\\\\\\\\\"sum\\\\\\\\\\\\\\\",\\\\\\\\\\\\\\\"trip_wheelchair_accessible_y\\\\\\\\\\\\\\\":\\\\\\\\\\\\\\\"sum\\\\\\\\\\\\\\\",\\\\\\\\\\\\\\\"Direction\\\\\\\\\\\\\\\":\\\\\\\\\\\\\\\"count\\\\\\\\\\\\\\\"}\\\\\\\",\\\\\\\"render_time\\\\\\\":\\\\\\\"73.06500012427568\\\\\\\",\\\\\\\"settings\\\\\\\":\\\\\\\"true\\\\\\\"}\\\"}}},\\\"text/plain\\\":\\\"VisualEditorPart\\\"},\\\"4482072c-7d80-4e38-9d37-52c525ee70fa\\\":{\\\"application/vnd.maven.part+json\\\":{\\\"name\\\":\\\"CheckboxPart\\\",\\\"id\\\":\\\"4482072c-7d80-4e38-9d37-52c525ee70fa\\\",\\\"options\\\":{\\\"Checked\\\":{\\\"type\\\":\\\"Global\\\",\\\"expr\\\":\\\"AutoUpdate\\\",\\\"globals\\\":[\\\"AutoUpdate\\\"]},\\\"Label\\\":{\\\"typeName\\\":\\\"String\\\",\\\"value\\\":\\\"Auto-update?\\\"}}},\\\"text/plain\\\":\\\"VisualEditorPart\\\"},\\\"b85c483d-96a8-4295-9370-ae1d34cf72f7\\\":{\\\"application/vnd.maven.part+json\\\":{\\\"name\\\":\\\"AnimationSliderPart\\\",\\\"id\\\":\\\"b85c483d-96a8-4295-9370-ae1d34cf72f7\\\",\\\"options\\\":{\\\"Value\\\":{\\\"type\\\":\\\"Global\\\",\\\"expr\\\":\\\"rand\\\",\\\"globals\\\":[\\\"rand\\\"]},\\\"Timestep (ms)\\\":{\\\"typeName\\\":\\\"Number\\\",\\\"value\\\":12000},\\\"Loop\\\":{\\\"typeName\\\":\\\"Boolean\\\",\\\"value\\\":true}}},\\\"text/plain\\\":\\\"VisualEditorPart\\\"},\\\"f9d93dd1-8e8d-452f-92dd-1283b9c17764\\\":{\\\"application/vnd.maven.part+json\\\":{\\\"name\\\":\\\"PivotPart\\\",\\\"id\\\":\\\"f9d93dd1-8e8d-452f-92dd-1283b9c17764\\\",\\\"options\\\":{\\\"Config\\\":{\\\"typeName\\\":\\\"String\\\",\\\"value\\\":\\\"{\\\\\\\"class\\\\\\\":\\\\\\\"p-Widget\\\\\\\",\\\\\\\"view\\\\\\\":\\\\\\\"hypergrid\\\\\\\",\\\\\\\"row-pivots\\\\\\\":\\\\\\\"[]\\\\\\\",\\\\\\\"column-pivots\\\\\\\":\\\\\\\"[]\\\\\\\",\\\\\\\"filters\\\\\\\":\\\\\\\"[]\\\\\\\",\\\\\\\"sort\\\\\\\":\\\\\\\"[]\\\\\\\",\\\\\\\"style\\\\\\\":\\\\\\\"position: absolute; z-index: 0; top: 0px; left: 0px; width: 100%; height: 100%;\\\\\\\",\\\\\\\"updating\\\\\\\":\\\\\\\"true\\\\\\\",\\\\\\\"columns\\\\\\\":\\\\\\\"[\\\\\\\\\\\\\\\"null\\\\\\\\\\\\\\\"]\\\\\\\",\\\\\\\"aggregates\\\\\\\":\\\\\\\"{\\\\\\\\\\\\\\\"null\\\\\\\\\\\\\\\":\\\\\\\\\\\\\\\"count\\\\\\\\\\\\\\\"}\\\\\\\"}\\\"}}},\\\"text/plain\\\":\\\"VisualEditorPart\\\"},\\\"fc4bec04-9659-455c-b7f2-c5b217b22ed4\\\":{\\\"application/vnd.maven.part+json\\\":{\\\"name\\\":\\\"MavenTitlePart\\\",\\\"id\\\":\\\"fc4bec04-9659-455c-b7f2-c5b217b22ed4\\\",\\\"options\\\":{\\\"Name\\\":{\\\"typeName\\\":\\\"String\\\",\\\"value\\\":\\\"MBTA Live System Dashboard\\\"}}},\\\"text/plain\\\":\\\"VisualEditorPart\\\"}},\\\"metadata\\\":{},\\\"globals\\\":[{\\\"name\\\":\\\"AutoUpdate\\\",\\\"type\\\":\\\"Boolean\\\",\\\"value\\\":null},{\\\"name\\\":\\\"rand\\\",\\\"type\\\":\\\"Number\\\",\\\"value\\\":5}],\\\"localParts\\\":{},\\\"visual\\\":true}}\"), raw=True)\n",
    "del _json"
   ]
  },
  {
   "cell_type": "code",
   "execution_count": null,
   "metadata": {},
   "outputs": [],
   "source": []
  }
 ],
 "metadata": {
  "kernelspec": {
   "display_name": "Python 3",
   "language": "python",
   "name": "python3"
  },
  "language_info": {
   "codemirror_mode": {
    "name": "ipython",
    "version": 3
   },
   "file_extension": ".py",
   "mimetype": "text/x-python",
   "name": "python",
   "nbconvert_exporter": "python",
   "pygments_lexer": "ipython3",
   "version": "3.7.3"
  }
 },
 "nbformat": 4,
 "nbformat_minor": 4
}
