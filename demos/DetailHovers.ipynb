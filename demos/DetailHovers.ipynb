{
 "cells": [
  {
   "cell_type": "markdown",
   "metadata": {},
   "source": [
    "# Visualization w/ Detail Hovers\n",
    "\n",
    "This dashboard demonstrates the use of hovers, and requires a separate notebook named `VizDetailHover.ipynb`."
   ]
  },
  {
   "cell_type": "code",
   "execution_count": 1,
   "metadata": {},
   "outputs": [],
   "source": [
    "from mavenworks import Part, Dashboard, Bind\n",
    "import pandas as pd"
   ]
  },
  {
   "cell_type": "code",
   "execution_count": 2,
   "metadata": {},
   "outputs": [
    {
     "data": {
      "text/html": [
       "<div>\n",
       "<style scoped>\n",
       "    .dataframe tbody tr th:only-of-type {\n",
       "        vertical-align: middle;\n",
       "    }\n",
       "\n",
       "    .dataframe tbody tr th {\n",
       "        vertical-align: top;\n",
       "    }\n",
       "\n",
       "    .dataframe thead th {\n",
       "        text-align: right;\n",
       "    }\n",
       "</style>\n",
       "<table border=\"1\" class=\"dataframe\">\n",
       "  <thead>\n",
       "    <tr style=\"text-align: right;\">\n",
       "      <th></th>\n",
       "      <th>Price</th>\n",
       "      <th>Count</th>\n",
       "      <th>zip</th>\n",
       "    </tr>\n",
       "    <tr>\n",
       "      <th>zipcode</th>\n",
       "      <th></th>\n",
       "      <th></th>\n",
       "      <th></th>\n",
       "    </tr>\n",
       "  </thead>\n",
       "  <tbody>\n",
       "    <tr>\n",
       "      <td>98001</td>\n",
       "      <td>2.808047e+05</td>\n",
       "      <td>362</td>\n",
       "      <td>98001</td>\n",
       "    </tr>\n",
       "    <tr>\n",
       "      <td>98002</td>\n",
       "      <td>2.342840e+05</td>\n",
       "      <td>199</td>\n",
       "      <td>98002</td>\n",
       "    </tr>\n",
       "    <tr>\n",
       "      <td>98003</td>\n",
       "      <td>2.941113e+05</td>\n",
       "      <td>280</td>\n",
       "      <td>98003</td>\n",
       "    </tr>\n",
       "    <tr>\n",
       "      <td>98004</td>\n",
       "      <td>1.355927e+06</td>\n",
       "      <td>317</td>\n",
       "      <td>98004</td>\n",
       "    </tr>\n",
       "    <tr>\n",
       "      <td>98005</td>\n",
       "      <td>8.101649e+05</td>\n",
       "      <td>168</td>\n",
       "      <td>98005</td>\n",
       "    </tr>\n",
       "    <tr>\n",
       "      <td>...</td>\n",
       "      <td>...</td>\n",
       "      <td>...</td>\n",
       "      <td>...</td>\n",
       "    </tr>\n",
       "    <tr>\n",
       "      <td>98177</td>\n",
       "      <td>6.761854e+05</td>\n",
       "      <td>255</td>\n",
       "      <td>98177</td>\n",
       "    </tr>\n",
       "    <tr>\n",
       "      <td>98178</td>\n",
       "      <td>3.106128e+05</td>\n",
       "      <td>262</td>\n",
       "      <td>98178</td>\n",
       "    </tr>\n",
       "    <tr>\n",
       "      <td>98188</td>\n",
       "      <td>2.890783e+05</td>\n",
       "      <td>136</td>\n",
       "      <td>98188</td>\n",
       "    </tr>\n",
       "    <tr>\n",
       "      <td>98198</td>\n",
       "      <td>3.028789e+05</td>\n",
       "      <td>280</td>\n",
       "      <td>98198</td>\n",
       "    </tr>\n",
       "    <tr>\n",
       "      <td>98199</td>\n",
       "      <td>7.918208e+05</td>\n",
       "      <td>317</td>\n",
       "      <td>98199</td>\n",
       "    </tr>\n",
       "  </tbody>\n",
       "</table>\n",
       "<p>70 rows × 3 columns</p>\n",
       "</div>"
      ],
      "text/plain": [
       "                Price  Count    zip\n",
       "zipcode                            \n",
       "98001    2.808047e+05    362  98001\n",
       "98002    2.342840e+05    199  98002\n",
       "98003    2.941113e+05    280  98003\n",
       "98004    1.355927e+06    317  98004\n",
       "98005    8.101649e+05    168  98005\n",
       "...               ...    ...    ...\n",
       "98177    6.761854e+05    255  98177\n",
       "98178    3.106128e+05    262  98178\n",
       "98188    2.890783e+05    136  98188\n",
       "98198    3.028789e+05    280  98198\n",
       "98199    7.918208e+05    317  98199\n",
       "\n",
       "[70 rows x 3 columns]"
      ]
     },
     "execution_count": 2,
     "metadata": {},
     "output_type": "execute_result"
    }
   ],
   "source": [
    "df = pd.read_csv(\"kc_house_data.csv\")\n",
    "df_grouped = df.set_index([\"zipcode\", \"id\"]).sort_index()\n",
    "df = df.groupby(\"zipcode\")\n",
    "df_tree = pd.concat((df[\"price\"].mean(), df.size()), axis=1)\n",
    "df_tree.rename(columns={\"price\": \"Price\", 0: \"Count\"}, inplace=True)\n",
    "df_tree[\"zip\"] = df_tree.index\n",
    "df_tree"
   ]
  },
  {
   "cell_type": "code",
   "execution_count": 3,
   "metadata": {
    "showinviewer": "true"
   },
   "outputs": [
    {
     "data": {
      "application/vnd.maven.layout+json": {
       "globals": [],
       "layout": {
        "attachedProperties": [
         {
          "Fixed Size (px)": 130
         },
         {}
        ],
        "children": [
         {
          "guid": "2f6f1f21-45c3-480f-94b1-d2c81bae98ce",
          "id": "1a357437-a935-4562-938a-8d2bf1cce090",
          "properties": {
           "showTitle": false
          },
          "typeName": 1,
          "uuid": "49d704f6-00d0-4c79-aee4-c74efd4e0f5d"
         },
         {
          "guid": "a7be190d-4355-480a-bc5f-435225ca0f33",
          "id": "553f79f4-ab8f-4efc-b14d-2bbf0109b5c9",
          "properties": {
           "showTitle": false
          },
          "typeName": 1,
          "uuid": "2cf60f60-a971-4647-bd05-fcfe7634826b"
         }
        ],
        "properties": {
         "horizontal": false
        },
        "typeName": 0,
        "uuid": "6e380a35-b7d9-4728-a457-4d2c9b0bcd44"
       },
       "metadata": {},
       "parts": {
        "2f6f1f21-45c3-480f-94b1-d2c81bae98ce": {
         "application/vnd.maven.part+json": {
          "id": "2f6f1f21-45c3-480f-94b1-d2c81bae98ce",
          "name": "MavenTitlePart",
          "options": {
           "Name": {
            "typeName": "String",
            "value": "King County House Prices by Zipcode"
           }
          }
         },
         "text/plain": "MavenTitlePart Part Model"
        },
        "a7be190d-4355-480a-bc5f-435225ca0f33": {
         "application/vnd.maven.part+json": {
          "id": "a7be190d-4355-480a-bc5f-435225ca0f33",
          "name": "KingCountyChoroplethPart",
          "options": {
           "Data Input": {
            "__detect_globals": true,
            "expr": "df_tree",
            "globals": [],
            "type": "Eval"
           }
          }
         },
         "text/plain": "KingCountyChoroplethPart Part Model"
        }
       },
       "visual": false
      },
      "text/plain": [
       "Dashboard Layout (if you see this, check your  plugin install!)"
      ]
     },
     "execution_count": 3,
     "metadata": {},
     "output_type": "execute_result"
    }
   ],
   "source": [
    "dash = Dashboard()\n",
    "\n",
    "title = Part(\"MavenTitlePart\", {\"Name\": \"King County House Prices by Zipcode\"}, show_title=False, Stack_FixedSize=130)\n",
    "kc_choropleth = Part(\"KingCountyChoroplethPart\", {\"Data Input\": Bind.Py(\"df_tree\")}, show_title=False)\n",
    "\n",
    "dash.root.add(title, kc_choropleth)\n",
    "dash.root.properties[\"horizontal\"] = False\n",
    "\n",
    "dash"
   ]
  },
  {
   "cell_type": "code",
   "execution_count": null,
   "metadata": {},
   "outputs": [],
   "source": []
  }
 ],
 "metadata": {
  "kernelspec": {
   "display_name": "Python 3",
   "language": "python",
   "name": "python3"
  },
  "language_info": {
   "codemirror_mode": {
    "name": "ipython",
    "version": 3
   },
   "file_extension": ".py",
   "mimetype": "text/x-python",
   "name": "python",
   "nbconvert_exporter": "python",
   "pygments_lexer": "ipython3",
   "version": "3.7.3"
  }
 },
 "nbformat": 4,
 "nbformat_minor": 4
}
