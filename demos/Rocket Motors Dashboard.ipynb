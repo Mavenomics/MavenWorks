{
 "cells": [
  {
   "cell_type": "markdown",
   "metadata": {
    "showinviewer": "true"
   },
   "source": [
    "# <span><img src=\"./MavenomicsLogoNew.png\" alt=\"Mavenomics Logo\" style=\"margin-bottom:-15px\" />&nbsp;&nbsp;|&nbsp; Rocket Motors</span>\n",
    "\n",
    "Imagine a hypothetical mission where you had a roll of duct tape, a couple of rocket engines that you bought off the internet, and a complete lack of common sense. Where could you go?\n",
    "\n",
    "This dashboard answers that by letting you explore the efficiency and power of various rocket engines, and plan a theoretical mission to visit various celestial bodies by duct taping those rockets together. Data for this dashboard is collected from [ThrustCurve](http://thrustcurve.org), a hobbyist database of consumer rocket engines.\n",
    "\n",
    "Definitions: \n",
    "\n",
    " - $I_{sp}$, or _Specific Impulse_, is a sort of space mileage- it measures how efficient a rocket engine is at turning fuel into thrust. $I_{sp}$ can vary based on pressure, so we assume that you're already in space. Most space engines generally achieve about 300-350s of $I_{sp}$, but the engines we'll be using are at around half that.\n",
    " \n",
    " - $\\Delta V$, or _Delta-V_, measures how much a spacecraft can change it's orbital velocity- a way of judging how far it can go. It takes about 10,000 $\\Delta V$ to achieve Earth orbit, and a further 6,000 to get from there to the Moon. As you'll see in this dashboard, that is a staggering amount of energy!\n",
    " \n",
    "Given some information about the rocket's weight, we can calculate $\\Delta V$ using the [Tsiolkovsky rocket equation](https://en.wikipedia.org/wiki/Tsiolkovsky_rocket_equation):\n",
    "\n",
    " #### $\\Delta V = g * I_{sp} * ln \\frac{m_0}{m_f}$\n",
    " \n",
    "Where $m_0$ is the rocket's \"wet\" mass (rocket + fuel), $m_f$ is the rocket's \"dry\" mass (rocket alone, minus the fuel), and $g$ is the accelleration due to Earth's gravity."
   ]
  },
  {
   "cell_type": "code",
   "execution_count": null,
   "metadata": {},
   "outputs": [],
   "source": [
    "# Prereqs that aren't already included in the MavenWorks environment:\n",
    "import sys\n",
    "!{sys.executable} -m pip install lxml"
   ]
  },
  {
   "cell_type": "code",
   "execution_count": 2,
   "metadata": {},
   "outputs": [],
   "source": [
    "import requests\n",
    "import pandas\n",
    "import math\n",
    "import numpy as np\n",
    "import ipywidgets as widgets\n",
    "import mavenworks\n",
    "from lxml import html\n",
    "import xml.etree.ElementTree as ET"
   ]
  },
  {
   "cell_type": "code",
   "execution_count": 3,
   "metadata": {},
   "outputs": [],
   "source": [
    "# ThrustCurve.org has a public XML API for querying rocket engines\n",
    "url = \"http://www.thrustcurve.org/servlets/search\"\n",
    "\n",
    "def get_motor_data(eng_diam, eng_mfr):\n",
    "    request = ET.Element(\"search-request\")\n",
    "    manufacturer = ET.SubElement(request, \"manufacturer\")\n",
    "    diameter = ET.SubElement(request, \"diameter\")\n",
    "\n",
    "    manufacturer.text = eng_mfr;\n",
    "\n",
    "    diameter.text = str(eng_diam) # millimeters\n",
    "\n",
    "    result = requests.post(url, data=ET.tostring(request, encoding=\"ascii\"))\n",
    "    \n",
    "    if result.status_code != 200:\n",
    "        print(result.text)\n",
    "        return pandas.DataFrame.from_dict([])\n",
    "\n",
    "    result_data = ET.fromstring(result.text)\n",
    "    result_table = []\n",
    "\n",
    "    for motor in result_data[1]:\n",
    "        motor_entry = {}\n",
    "        for detail in motor:\n",
    "            col = detail.tag.split(\"}\")[1]\n",
    "            motor_entry[col] = detail.text\n",
    "        result_table.append(motor_entry)\n",
    "\n",
    "    return pandas.DataFrame.from_dict(result_table)"
   ]
  },
  {
   "cell_type": "code",
   "execution_count": 4,
   "metadata": {},
   "outputs": [
    {
     "data": {
      "text/html": [
       "<div>\n",
       "<style scoped>\n",
       "    .dataframe tbody tr th:only-of-type {\n",
       "        vertical-align: middle;\n",
       "    }\n",
       "\n",
       "    .dataframe tbody tr th {\n",
       "        vertical-align: top;\n",
       "    }\n",
       "\n",
       "    .dataframe thead th {\n",
       "        text-align: right;\n",
       "    }\n",
       "</style>\n",
       "<table border=\"1\" class=\"dataframe\">\n",
       "  <thead>\n",
       "    <tr style=\"text-align: right;\">\n",
       "      <th></th>\n",
       "      <th>motor-id</th>\n",
       "      <th>manufacturer</th>\n",
       "      <th>manufacturer-abbrev</th>\n",
       "      <th>designation</th>\n",
       "      <th>brand-name</th>\n",
       "      <th>common-name</th>\n",
       "      <th>impulse-class</th>\n",
       "      <th>diameter</th>\n",
       "      <th>length</th>\n",
       "      <th>type</th>\n",
       "      <th>...</th>\n",
       "      <th>data-files</th>\n",
       "      <th>info-url</th>\n",
       "      <th>total-weight-g</th>\n",
       "      <th>prop-weight-g</th>\n",
       "      <th>case-info</th>\n",
       "      <th>prop-info</th>\n",
       "      <th>updated-on</th>\n",
       "      <th>availability</th>\n",
       "      <th>delays</th>\n",
       "      <th>sparky</th>\n",
       "    </tr>\n",
       "  </thead>\n",
       "  <tbody>\n",
       "    <tr>\n",
       "      <td>0</td>\n",
       "      <td>509</td>\n",
       "      <td>Cesaroni Technology</td>\n",
       "      <td>Cesaroni</td>\n",
       "      <td>10133M795-P</td>\n",
       "      <td>Pro98 M795</td>\n",
       "      <td>M795</td>\n",
       "      <td>M</td>\n",
       "      <td>98.0</td>\n",
       "      <td>702.0</td>\n",
       "      <td>reload</td>\n",
       "      <td>...</td>\n",
       "      <td>2</td>\n",
       "      <td>http://www.thrustcurve.org/motorsearch.jsp?id=509</td>\n",
       "      <td>8492.0</td>\n",
       "      <td>4892.0</td>\n",
       "      <td>Pro98-4G</td>\n",
       "      <td>Classic</td>\n",
       "      <td>2019-04-16</td>\n",
       "      <td>regular</td>\n",
       "      <td>NaN</td>\n",
       "      <td>NaN</td>\n",
       "    </tr>\n",
       "    <tr>\n",
       "      <td>1</td>\n",
       "      <td>897</td>\n",
       "      <td>Cesaroni Technology</td>\n",
       "      <td>Cesaroni</td>\n",
       "      <td>10347N10000-P</td>\n",
       "      <td>Pro98-6G Vmax</td>\n",
       "      <td>N10000</td>\n",
       "      <td>N</td>\n",
       "      <td>98.0</td>\n",
       "      <td>1010.0</td>\n",
       "      <td>reload</td>\n",
       "      <td>...</td>\n",
       "      <td>2</td>\n",
       "      <td>http://www.thrustcurve.org/motorsearch.jsp?id=897</td>\n",
       "      <td>9918.5</td>\n",
       "      <td>5200.0</td>\n",
       "      <td>Pro98-6G</td>\n",
       "      <td>Vmax</td>\n",
       "      <td>2019-04-16</td>\n",
       "      <td>regular</td>\n",
       "      <td>NaN</td>\n",
       "      <td>NaN</td>\n",
       "    </tr>\n",
       "    <tr>\n",
       "      <td>2</td>\n",
       "      <td>947</td>\n",
       "      <td>Cesaroni Technology</td>\n",
       "      <td>Cesaroni</td>\n",
       "      <td>10367N1800-P</td>\n",
       "      <td>CTI, Cesaroni, Pro-X</td>\n",
       "      <td>N1800</td>\n",
       "      <td>N</td>\n",
       "      <td>98.0</td>\n",
       "      <td>702.0</td>\n",
       "      <td>reload</td>\n",
       "      <td>...</td>\n",
       "      <td>2</td>\n",
       "      <td>http://www.thrustcurve.org/motorsearch.jsp?id=947</td>\n",
       "      <td>9180.0</td>\n",
       "      <td>5727.0</td>\n",
       "      <td>Pro98-4G</td>\n",
       "      <td>White</td>\n",
       "      <td>2019-04-16</td>\n",
       "      <td>regular</td>\n",
       "      <td>P</td>\n",
       "      <td>NaN</td>\n",
       "    </tr>\n",
       "    <tr>\n",
       "      <td>3</td>\n",
       "      <td>760</td>\n",
       "      <td>Cesaroni Technology</td>\n",
       "      <td>Cesaroni</td>\n",
       "      <td>11077N2600-P</td>\n",
       "      <td>Pro98-6G 11077N2600 Skidmark</td>\n",
       "      <td>N2600</td>\n",
       "      <td>N</td>\n",
       "      <td>98.0</td>\n",
       "      <td>1010.0</td>\n",
       "      <td>reload</td>\n",
       "      <td>...</td>\n",
       "      <td>2</td>\n",
       "      <td>http://www.thrustcurve.org/motorsearch.jsp?id=760</td>\n",
       "      <td>11482.0</td>\n",
       "      <td>6618.0</td>\n",
       "      <td>Pro98-6G</td>\n",
       "      <td>Skidmark</td>\n",
       "      <td>2019-04-16</td>\n",
       "      <td>regular</td>\n",
       "      <td>NaN</td>\n",
       "      <td>true</td>\n",
       "    </tr>\n",
       "    <tr>\n",
       "      <td>4</td>\n",
       "      <td>1003</td>\n",
       "      <td>Cesaroni Technology</td>\n",
       "      <td>Cesaroni</td>\n",
       "      <td>12066N2200-P</td>\n",
       "      <td>CTI N2200-PK-P</td>\n",
       "      <td>N2200</td>\n",
       "      <td>N</td>\n",
       "      <td>98.0</td>\n",
       "      <td>1010.0</td>\n",
       "      <td>reload</td>\n",
       "      <td>...</td>\n",
       "      <td>2</td>\n",
       "      <td>http://www.thrustcurve.org/motorsearch.jsp?id=...</td>\n",
       "      <td>11356.0</td>\n",
       "      <td>6122.0</td>\n",
       "      <td>Pro98-5G</td>\n",
       "      <td>Pink</td>\n",
       "      <td>2019-04-16</td>\n",
       "      <td>regular</td>\n",
       "      <td>P</td>\n",
       "      <td>NaN</td>\n",
       "    </tr>\n",
       "  </tbody>\n",
       "</table>\n",
       "<p>5 rows × 25 columns</p>\n",
       "</div>"
      ],
      "text/plain": [
       "  motor-id         manufacturer manufacturer-abbrev    designation  \\\n",
       "0      509  Cesaroni Technology            Cesaroni    10133M795-P   \n",
       "1      897  Cesaroni Technology            Cesaroni  10347N10000-P   \n",
       "2      947  Cesaroni Technology            Cesaroni   10367N1800-P   \n",
       "3      760  Cesaroni Technology            Cesaroni   11077N2600-P   \n",
       "4     1003  Cesaroni Technology            Cesaroni   12066N2200-P   \n",
       "\n",
       "                     brand-name common-name impulse-class diameter  length  \\\n",
       "0                    Pro98 M795        M795             M     98.0   702.0   \n",
       "1                 Pro98-6G Vmax      N10000             N     98.0  1010.0   \n",
       "2          CTI, Cesaroni, Pro-X       N1800             N     98.0   702.0   \n",
       "3  Pro98-6G 11077N2600 Skidmark       N2600             N     98.0  1010.0   \n",
       "4                CTI N2200-PK-P       N2200             N     98.0  1010.0   \n",
       "\n",
       "     type  ... data-files                                           info-url  \\\n",
       "0  reload  ...          2  http://www.thrustcurve.org/motorsearch.jsp?id=509   \n",
       "1  reload  ...          2  http://www.thrustcurve.org/motorsearch.jsp?id=897   \n",
       "2  reload  ...          2  http://www.thrustcurve.org/motorsearch.jsp?id=947   \n",
       "3  reload  ...          2  http://www.thrustcurve.org/motorsearch.jsp?id=760   \n",
       "4  reload  ...          2  http://www.thrustcurve.org/motorsearch.jsp?id=...   \n",
       "\n",
       "  total-weight-g prop-weight-g case-info prop-info  updated-on availability  \\\n",
       "0         8492.0        4892.0  Pro98-4G   Classic  2019-04-16      regular   \n",
       "1         9918.5        5200.0  Pro98-6G      Vmax  2019-04-16      regular   \n",
       "2         9180.0        5727.0  Pro98-4G     White  2019-04-16      regular   \n",
       "3        11482.0        6618.0  Pro98-6G  Skidmark  2019-04-16      regular   \n",
       "4        11356.0        6122.0  Pro98-5G      Pink  2019-04-16      regular   \n",
       "\n",
       "  delays sparky  \n",
       "0    NaN    NaN  \n",
       "1    NaN    NaN  \n",
       "2      P    NaN  \n",
       "3    NaN   true  \n",
       "4      P    NaN  \n",
       "\n",
       "[5 rows x 25 columns]"
      ]
     },
     "execution_count": 4,
     "metadata": {},
     "output_type": "execute_result"
    }
   ],
   "source": [
    "motors_table = get_motor_data(\"98\", \"Cesaroni\")\n",
    "motors_table.head()"
   ]
  },
  {
   "cell_type": "code",
   "execution_count": 5,
   "metadata": {},
   "outputs": [],
   "source": [
    "def GetEngineDetail(info_url: str):\n",
    "    # ThrustCurve's API doesn't expose Isp as it's not available on every engine\n",
    "    # Therefore we have to mine the data from the engine's info page\n",
    "    \n",
    "    data_table = requests.get(info_url);\n",
    "\n",
    "    result_data = html.fromstring(data_table.content)\n",
    "    result_table = []\n",
    "\n",
    "    headers = result_data.xpath(\"//table[@class='listing']/tr[@class='listing']/*[1]/text()\")\n",
    "    data = result_data.xpath(\"//table[@class='listing']/tr[@class='listing']/*[2]/text()\")\n",
    "\n",
    "    return pandas.DataFrame([list(map(lambda d: d.strip(), data))[1:]], columns=headers[0:(len(data)-1)])"
   ]
  },
  {
   "cell_type": "code",
   "execution_count": 6,
   "metadata": {},
   "outputs": [
    {
     "data": {
      "text/plain": [
       "'M795'"
      ]
     },
     "execution_count": 6,
     "metadata": {},
     "output_type": "execute_result"
    }
   ],
   "source": [
    "# Testing things out...\n",
    "GetEngineDetail(motors_table.iloc[0][\"info-url\"]).iloc[0][\"Common Name:\"]"
   ]
  },
  {
   "cell_type": "code",
   "execution_count": 7,
   "metadata": {},
   "outputs": [],
   "source": [
    "# Consumer rocket engines come in a set of standard sizes, so we'll use this array to hold them\n",
    "# There are more, but they're either too small to worry about or non-standard\n",
    "engine_diams = [\n",
    "    \"29\",\n",
    "    \"38\",\n",
    "    \"54\",\n",
    "    \"75\",\n",
    "    \"98\",\n",
    "    \"132\",\n",
    "    \"152\",\n",
    "    \"161\"\n",
    "]\n",
    "\n",
    "# There's plenty of manufacturers, but not many of them test Isp. as it's not often useful (except to us)\n",
    "engine_mfrs = [\n",
    "    \"Cesaroni Technology\",\n",
    "    \"Aerotech\",\n",
    "    \"Animal Motor Works\", # Makes reloads for CTI casings\n",
    "]"
   ]
  },
  {
   "cell_type": "code",
   "execution_count": 8,
   "metadata": {},
   "outputs": [],
   "source": [
    "def format_info_str(selected_motor):\n",
    "    motor_info = GetEngineDetail(selected_motor).iloc[0]\n",
    "    if \"Isp:\" not in motor_info:\n",
    "        return f\"{motor_info['Common Name:']}: No Data\"\n",
    "    wet_mass = float(motor_info[\"Total Weight:\"][:-1])\n",
    "    dry_mass = wet_mass - float(motor_info[\"Prop. Weight:\"][:-1])\n",
    "    i_sp = float(motor_info[\"Isp:\"][:-1])\n",
    "    dV = (i_sp * 9.8) * math.log(wet_mass / dry_mass)\n",
    "    return f\"{motor_info['Common Name:']}: Isp={i_sp}s dV={dV} m/s\""
   ]
  },
  {
   "cell_type": "code",
   "execution_count": 9,
   "metadata": {},
   "outputs": [],
   "source": [
    "def calculate_dv_with_mass_ratios(selected_motor):\n",
    "    motor_info = GetEngineDetail(selected_motor).iloc[0]\n",
    "    if \"Isp:\" not in motor_info:\n",
    "        return pandas.DataFrame(columns=[\"Dry Mass\", \"Delta V\"])\n",
    "    wet_mass = float(motor_info[\"Total Weight:\"][:-1])\n",
    "    dry_mass = wet_mass - float(motor_info[\"Prop. Weight:\"][:-1])\n",
    "    i_sp = float(motor_info[\"Isp:\"][:-1])\n",
    "    dV_calc = lambda dead_mass: (i_sp * 9.8) * math.log((wet_mass + dead_mass) / (dry_mass + dead_mass))\n",
    "    samples = np.arange(0, 10000, 50)\n",
    "    data = np.fromiter((dV_calc(i) for i in samples), samples.dtype, count=len(samples))\n",
    "    return pandas.DataFrame({\"Dry Mass\": samples, \"Delta V\":data})"
   ]
  },
  {
   "cell_type": "code",
   "execution_count": 10,
   "metadata": {},
   "outputs": [],
   "source": [
    "def format_question(celestial_body, dry_mass):\n",
    "    return f\"How many engines would you need to go from Low Earth Orbit to {celestial_body} Orbit, with a {dry_mass}g payload?\"\n",
    "\n",
    "CELESTIAL_BODIES = {\n",
    "    \"Lunar\": 7150,\n",
    "    \"Martian\": 5710,\n",
    "    \"Jovian\": 23770,  # _low_ jovian orbit\n",
    "    \"Saturnian\": 17940\n",
    "}\n",
    "\n",
    "def format_answer(celestial_body, extra_dry_mass, selected_motor):\n",
    "    motor_info = GetEngineDetail(selected_motor).iloc[0]\n",
    "    if \"Isp:\" not in motor_info:\n",
    "        return f\"Try it and find out! (there's no Isp data for {motor_info['Common Name:']})\"\n",
    "    wet_mass = float(motor_info[\"Total Weight:\"][:-1])\n",
    "    dry_mass = wet_mass - float(motor_info[\"Prop. Weight:\"][:-1])\n",
    "    i_sp = float(motor_info[\"Isp:\"][:-1])\n",
    "    dV_calc = lambda dead_mass: (i_sp * 9.8) * math.log((wet_mass + dead_mass) / (dry_mass + dead_mass))\n",
    "    dV = dV_calc(extra_dry_mass)\n",
    "    required = CELESTIAL_BODIES[celestial_body]\n",
    "    return f\"You'd need {math.ceil(required / dV)} {motor_info['Common Name:']} engines duct-taped together!\""
   ]
  },
  {
   "cell_type": "code",
   "execution_count": 11,
   "metadata": {
    "jupyter": {
     "source_hidden": true
    },
    "showinviewer": "true"
   },
   "outputs": [
    {
     "data": {
      "application/vnd.maven.layout+json": {
       "globals": [
        {
         "name": "EngineDiameter",
         "type": "String",
         "value": "98"
        },
        {
         "name": "EngineMfr",
         "type": "String",
         "value": "Cesaroni Technology"
        },
        {
         "name": "SelectedMotor",
         "type": "String",
         "value": "http://www.thrustcurve.org/motorsearch.jsp?id=964"
        },
        {
         "name": "ExtraDryMass",
         "type": "Number",
         "value": 100
        },
        {
         "name": "OrbitalBody",
         "type": "String",
         "value": "Lunar"
        }
       ],
       "layout": {
        "attachedProperties": [
         {
          "Fixed Size (px)": null,
          "Stretch": 0.16801385125760737
         },
         {
          "Fixed Size (px)": null,
          "Stretch": 1.1953772368164197
         }
        ],
        "children": [
         {
          "attachedProperties": [
           {
            "Fixed Size (px)": null,
            "Stretch": 1
           },
           {
            "Fixed Size (px)": null,
            "Stretch": 1
           }
          ],
          "children": [
           {
            "guid": "c1c44d79-323f-460b-b6e8-ed89a34fd7de",
            "properties": {
             "caption": "Engine Manufacturer"
            },
            "typeName": 1,
            "uuid": "526b7c2e-6cb4-4daa-92a0-15ed652f119e"
           },
           {
            "guid": "29900262-2904-43e5-8d5c-2aed0e241e4d",
            "properties": {
             "caption": "Engine Diameter (mm)",
             "showRegion": true
            },
            "typeName": 1,
            "uuid": "210c539a-6426-40eb-b26c-367d65f9a17f"
           }
          ],
          "properties": {
           "horizontal": true,
           "prunable": true
          },
          "typeName": 0,
          "uuid": "a0ab8701-a7d7-4729-b754-a87a822c7563"
         },
         {
          "attachedProperties": [
           {},
           {},
           {}
          ],
          "children": [
           {
            "attachedProperties": [
             {
              "Fixed Size (px)": null,
              "Stretch": 1.797424208260572
             },
             {
              "Fixed Size (px)": null,
              "Stretch": 0.823170731707317
             }
            ],
            "children": [
             {
              "guid": "b7af02c4-5f5f-4e95-b007-f070481663cf",
              "properties": {
               "caption": "SlickGrid",
               "showTitle": false
              },
              "typeName": 1,
              "uuid": "0dbf7381-8fc4-4648-b65e-7c70ee09aa0b"
             },
             {
              "guid": "78152a6d-5bcb-4e7c-a60d-a24252335b36",
              "properties": {
               "caption": "LabelPart",
               "showTitle": false
              },
              "typeName": 1,
              "uuid": "79e28a8f-aee5-4088-b626-35d9b74f08b0"
             }
            ],
            "properties": {
             "caption": "Select Rocket Engine",
             "prunable": true
            },
            "typeName": 0,
            "uuid": "8a95a7e2-5c5e-426a-ba57-9d6e7d74fe8f"
           },
           {
            "guid": "284f576a-a153-4ea7-aa16-dda73b942e30",
            "properties": {
             "caption": "Efficiency Loss over Dry Mass (g) from 0 to 10 kg"
            },
            "typeName": 1,
            "uuid": "b7d24b72-798a-4e99-a034-2b8993025dba"
           },
           {
            "attachedProperties": [
             {
              "Fixed Size (px)": null,
              "Stretch": 0.7395348837209302
             },
             {
              "Fixed Size (px)": null,
              "Stretch": 1.2604651162790699
             }
            ],
            "children": [
             {
              "attachedProperties": [
               {
                "Fixed Size (px)": null,
                "Stretch": 1.4334082765404341
               },
               {
                "Fixed Size (px)": null,
                "Stretch": 0.3048127590810089
               }
              ],
              "children": [
               {
                "guid": "e2c607db-19d5-4c21-9d47-dc0f1930559b",
                "properties": {
                 "caption": "Extra Dry Mass, in grams"
                },
                "typeName": 1,
                "uuid": "0f9a1dcb-9e4b-479e-82df-d4f723c9a4b8"
               },
               {
                "guid": "7a423c20-4014-4ed0-8aa4-228b25603b8e",
                "properties": {
                 "caption": "Body to Orbit",
                 "showRegion": true
                },
                "typeName": 1,
                "uuid": "b138d2a5-4838-4a3a-8822-7a3388b6a3c2"
               }
              ],
              "properties": {
               "horizontal": true,
               "prunable": true
              },
              "typeName": 0,
              "uuid": "35070f43-b62e-499b-b815-0efcbbc32351"
             },
             {
              "guid": "146bd90e-cf16-4613-9e9c-fc133ce857e4",
              "properties": {
               "caption": "LabelPart",
               "showTitle": false
              },
              "typeName": 1,
              "uuid": "eef88c3a-2b24-4de0-9879-3c5ad2cfc6ef"
             }
            ],
            "properties": {
             "caption": "Plan your mission!",
             "prunable": false
            },
            "typeName": 0,
            "uuid": "02e93b4c-7a14-459c-a28e-f042c75dc9f1"
           }
          ],
          "properties": {
           "ForegroundIndex": 2,
           "prunable": false
          },
          "typeName": 2,
          "uuid": "e6228ed8-2902-402d-ae83-8a179d00f8c9"
         }
        ],
        "properties": {
         "flexSize": 1
        },
        "typeName": 0,
        "uuid": "76c23bcd-c93b-4dcc-b1bb-56cc1bcbcb5d"
       },
       "localParts": {},
       "metadata": {},
       "parts": {
        "146bd90e-cf16-4613-9e9c-fc133ce857e4": {
         "application/vnd.maven.part+json": {
          "id": "146bd90e-cf16-4613-9e9c-fc133ce857e4",
          "name": "LabelPart",
          "options": {
           "Caption": {
            "expr": "format_question(@OrbitalBody, @ExtraDryMass)",
            "globals": [
             "OrbitalBody",
             "ExtraDryMass"
            ],
            "type": "Eval"
           },
           "Value": {
            "expr": "format_answer(@OrbitalBody, @ExtraDryMass, @SelectedMotor)",
            "globals": [
             "OrbitalBody",
             "ExtraDryMass",
             "SelectedMotor"
            ],
            "type": "Eval"
           }
          }
         },
         "text/plain": "VisualEditorPart"
        },
        "284f576a-a153-4ea7-aa16-dda73b942e30": {
         "application/vnd.maven.part+json": {
          "id": "284f576a-a153-4ea7-aa16-dda73b942e30",
          "name": "PivotPart",
          "options": {
           "Config": {
            "typeName": "String",
            "value": "{\"class\":\"p-Widget\",\"view\":\"d3_y_line\",\"row-pivots\":\"[\\\"Dry Mass\\\"]\",\"column-pivots\":\"[]\",\"filters\":\"[]\",\"sort\":\"[]\",\"style\":\"position: absolute; width: 100%; height: 100%; z-index: 0; top: 0px; left: 0px;\",\"columns\":\"[\\\"Delta V\\\"]\",\"aggregates\":\"{\\\"Delta V\\\":\\\"sum\\\",\\\"Dry Mass\\\":\\\"sum\\\"}\",\"render_time\":\"26.745000039227307\",\"updating\":\"true\",\"plugin_config\":{}}"
           },
           "Input Table": {
            "expr": "calculate_dv_with_mass_ratios(@SelectedMotor)",
            "globals": [
             "SelectedMotor"
            ],
            "type": "Eval"
           }
          }
         },
         "text/plain": "VisualEditorPart"
        },
        "29900262-2904-43e5-8d5c-2aed0e241e4d": {
         "application/vnd.maven.part+json": {
          "id": "29900262-2904-43e5-8d5c-2aed0e241e4d",
          "name": "DropdownPart",
          "options": {
           "options": {
            "expr": "engine_diams",
            "globals": [],
            "type": "Eval"
           },
           "value": {
            "expr": "EngineDiameter",
            "globals": [
             "EngineDiameter"
            ],
            "type": "Global"
           }
          }
         },
         "text/plain": "VisualEditorPart"
        },
        "78152a6d-5bcb-4e7c-a60d-a24252335b36": {
         "application/vnd.maven.part+json": {
          "id": "78152a6d-5bcb-4e7c-a60d-a24252335b36",
          "name": "LabelPart",
          "options": {
           "Caption": {
            "typeName": "String",
            "value": "Engine Detail"
           },
           "Value": {
            "expr": "format_info_str(@SelectedMotor)",
            "globals": [
             "SelectedMotor"
            ],
            "type": "Eval"
           }
          }
         },
         "text/plain": "VisualEditorPart"
        },
        "7a423c20-4014-4ed0-8aa4-228b25603b8e": {
         "application/vnd.maven.part+json": {
          "id": "7a423c20-4014-4ed0-8aa4-228b25603b8e",
          "name": "DropdownPart",
          "options": {
           "options": {
            "expr": "list(CELESTIAL_BODIES.keys())",
            "globals": [],
            "type": "Eval"
           },
           "value": {
            "expr": "OrbitalBody",
            "globals": [
             "OrbitalBody"
            ],
            "type": "Global"
           }
          }
         },
         "text/plain": "VisualEditorPart"
        },
        "b7af02c4-5f5f-4e95-b007-f070481663cf": {
         "application/vnd.maven.part+json": {
          "id": "b7af02c4-5f5f-4e95-b007-f070481663cf",
          "name": "SlickGrid",
          "options": {
           "Formatting": {
            "typeName": "String",
            "value": "{\n    \" \": {\n        \"General.ColumnWidthPixels\": \"0\"\n    },\n    \"Common Name\": {\n        \"General.ColumnWidthPixels\": \"100\"\n    },\n    \"Stats.Average Thrust\": {\n        \"General.ColumnWidthPixels\": \"90\"\n    },\n    \"Stats.Burn Time\": {\n        \"General.ColumnWidthPixels\": \"65\"\n    },\n    \"Stats.Max Thrust\": {\n        \"General.ColumnWidthPixels\": \"70\"\n    },\n    \"Stats.Propellant Weight\": {\n        \"General.ColumnWidthPixels\": \"105\"\n    },\n    \"Stats.Total Impulse\": {\n        \"General.ColumnWidthPixels\": \"80\"\n    },\n    \"Propellant Brand\": {\n        \"General.ColumnWidthPixels\": \"100\"\n    },\n    \"Impulse Letter Class\": {\n        \"General.ColumnWidthPixels\": \"120\"\n    },\n    \"Engine Diameter\": {\n        \"General.ColumnWidthPixels\": \"100\"\n    }\n}\n"
           },
           "Input Table": {
            "expr": "/* @EngineDiameter,@EngineMfr */\nset @cacheKey = 'eng' + @EngineDiameter + @EngineMfr\nset @table = StaticCache(@cacheKey, KernelEval('get_motor_data(\"' + @EngineDiameter + '\", \"' + @EngineMfr + '\")'))\n\nSELECT \n    [common-name] as [Common Name],\n    [avg-thrust-n] as [Stats.Average Thrust],\n    [burn-time-s] as [Stats.Burn Time],\n    [max-thrust-n] as [Stats.Max Thrust],\n    [prop-weight-g] as [Stats.Propellant Weight],\n    [tot-impulse-ns] as [Stats.Total Impulse],\n    [prop-info] as [Propellant Brand],\n    [impulse-class] as [Impulse Letter Class],\n    [diameter] as [Engine Diameter],\n    [info-url] as [ ]\nFROM ChangeRowName(@table, [designation])\nGROUP BY \n    [prop-info],\n    [impulse-class]\nWITH ROLLUP\nHAVING GetLevel() > 0",
            "globals": [
             "EngineDiameter",
             "EngineMfr"
            ],
            "type": "Mql"
           },
           "RadioButtonList. Enabled": {
            "typeName": "Boolean",
            "value": true
           },
           "RadioButtonList.Column for Radio Buttons": {
            "typeName": "Number",
            "value": 0
           },
           "RadioButtonList.Column for Values": {
            "typeName": "Number",
            "value": 10
           },
           "RadioButtonList.Last Selection": {
            "expr": "SelectedMotor",
            "globals": [
             "SelectedMotor"
            ],
            "type": "Global"
           },
           "Show Path Column": {
            "typeName": "Boolean",
            "value": true
           }
          }
         },
         "text/plain": "VisualEditorPart"
        },
        "c1c44d79-323f-460b-b6e8-ed89a34fd7de": {
         "application/vnd.maven.part+json": {
          "id": "c1c44d79-323f-460b-b6e8-ed89a34fd7de",
          "name": "DropdownPart",
          "options": {
           "options": {
            "expr": "engine_mfrs",
            "globals": [],
            "type": "Eval"
           },
           "value": {
            "expr": "EngineMfr",
            "globals": [
             "EngineMfr"
            ],
            "type": "Global"
           }
          }
         },
         "text/plain": "VisualEditorPart"
        },
        "e2c607db-19d5-4c21-9d47-dc0f1930559b": {
         "application/vnd.maven.part+json": {
          "id": "e2c607db-19d5-4c21-9d47-dc0f1930559b",
          "name": "SliderPart",
          "options": {
           "Max": {
            "typeName": "Number",
            "value": 10000
           },
           "Step": {
            "typeName": "Number",
            "value": 100
           },
           "Value": {
            "expr": "ExtraDryMass",
            "globals": [
             "ExtraDryMass"
            ],
            "type": "Global"
           }
          }
         },
         "text/plain": "VisualEditorPart"
        }
       },
       "visual": true
      }
     },
     "metadata": {},
     "output_type": "display_data"
    }
   ],
   "source": [
    "# Auto-generated code, do not edit!\n",
    "_json = __import__(\"json\")\n",
    "display(_json.loads(\"{\\\"application/vnd.maven.layout+json\\\": {\\\"layout\\\":{\\\"properties\\\":{\\\"flexSize\\\":1},\\\"typeName\\\":0,\\\"uuid\\\":\\\"76c23bcd-c93b-4dcc-b1bb-56cc1bcbcb5d\\\",\\\"attachedProperties\\\":[{\\\"Fixed Size (px)\\\":null,\\\"Stretch\\\":0.16801385125760737},{\\\"Fixed Size (px)\\\":null,\\\"Stretch\\\":1.1953772368164197}],\\\"children\\\":[{\\\"properties\\\":{\\\"horizontal\\\":true,\\\"prunable\\\":true},\\\"typeName\\\":0,\\\"uuid\\\":\\\"a0ab8701-a7d7-4729-b754-a87a822c7563\\\",\\\"attachedProperties\\\":[{\\\"Fixed Size (px)\\\":null,\\\"Stretch\\\":1},{\\\"Fixed Size (px)\\\":null,\\\"Stretch\\\":1}],\\\"children\\\":[{\\\"properties\\\":{\\\"caption\\\":\\\"Engine Manufacturer\\\"},\\\"typeName\\\":1,\\\"uuid\\\":\\\"526b7c2e-6cb4-4daa-92a0-15ed652f119e\\\",\\\"guid\\\":\\\"c1c44d79-323f-460b-b6e8-ed89a34fd7de\\\"},{\\\"properties\\\":{\\\"caption\\\":\\\"Engine Diameter (mm)\\\",\\\"showRegion\\\":true},\\\"typeName\\\":1,\\\"uuid\\\":\\\"210c539a-6426-40eb-b26c-367d65f9a17f\\\",\\\"guid\\\":\\\"29900262-2904-43e5-8d5c-2aed0e241e4d\\\"}]},{\\\"properties\\\":{\\\"ForegroundIndex\\\":0,\\\"prunable\\\":false},\\\"typeName\\\":2,\\\"uuid\\\":\\\"e6228ed8-2902-402d-ae83-8a179d00f8c9\\\",\\\"attachedProperties\\\":[{},{},{}],\\\"children\\\":[{\\\"properties\\\":{\\\"caption\\\":\\\"Select Rocket Engine\\\",\\\"prunable\\\":true},\\\"typeName\\\":0,\\\"uuid\\\":\\\"8a95a7e2-5c5e-426a-ba57-9d6e7d74fe8f\\\",\\\"attachedProperties\\\":[{\\\"Fixed Size (px)\\\":null,\\\"Stretch\\\":1.797424208260572},{\\\"Fixed Size (px)\\\":null,\\\"Stretch\\\":0.823170731707317}],\\\"children\\\":[{\\\"properties\\\":{\\\"caption\\\":\\\"SlickGrid\\\",\\\"showTitle\\\":false},\\\"typeName\\\":1,\\\"uuid\\\":\\\"0dbf7381-8fc4-4648-b65e-7c70ee09aa0b\\\",\\\"guid\\\":\\\"b7af02c4-5f5f-4e95-b007-f070481663cf\\\"},{\\\"properties\\\":{\\\"caption\\\":\\\"LabelPart\\\",\\\"showTitle\\\":false},\\\"typeName\\\":1,\\\"uuid\\\":\\\"79e28a8f-aee5-4088-b626-35d9b74f08b0\\\",\\\"guid\\\":\\\"78152a6d-5bcb-4e7c-a60d-a24252335b36\\\"}]},{\\\"properties\\\":{\\\"caption\\\":\\\"Efficiency Loss over Dry Mass (g) from 0 to 10 kg\\\"},\\\"typeName\\\":1,\\\"uuid\\\":\\\"b7d24b72-798a-4e99-a034-2b8993025dba\\\",\\\"guid\\\":\\\"284f576a-a153-4ea7-aa16-dda73b942e30\\\"},{\\\"properties\\\":{\\\"caption\\\":\\\"Plan your mission!\\\",\\\"prunable\\\":false},\\\"typeName\\\":0,\\\"uuid\\\":\\\"02e93b4c-7a14-459c-a28e-f042c75dc9f1\\\",\\\"attachedProperties\\\":[{\\\"Fixed Size (px)\\\":null,\\\"Stretch\\\":0.7395348837209302},{\\\"Fixed Size (px)\\\":null,\\\"Stretch\\\":1.2604651162790699}],\\\"children\\\":[{\\\"properties\\\":{\\\"horizontal\\\":true,\\\"prunable\\\":true},\\\"typeName\\\":0,\\\"uuid\\\":\\\"35070f43-b62e-499b-b815-0efcbbc32351\\\",\\\"attachedProperties\\\":[{\\\"Fixed Size (px)\\\":null,\\\"Stretch\\\":1.4334082765404341},{\\\"Fixed Size (px)\\\":null,\\\"Stretch\\\":0.3048127590810089}],\\\"children\\\":[{\\\"properties\\\":{\\\"caption\\\":\\\"Extra Dry Mass, in grams\\\"},\\\"typeName\\\":1,\\\"uuid\\\":\\\"0f9a1dcb-9e4b-479e-82df-d4f723c9a4b8\\\",\\\"guid\\\":\\\"e2c607db-19d5-4c21-9d47-dc0f1930559b\\\"},{\\\"properties\\\":{\\\"caption\\\":\\\"Body to Orbit\\\",\\\"showRegion\\\":true},\\\"typeName\\\":1,\\\"uuid\\\":\\\"b138d2a5-4838-4a3a-8822-7a3388b6a3c2\\\",\\\"guid\\\":\\\"7a423c20-4014-4ed0-8aa4-228b25603b8e\\\"}]},{\\\"properties\\\":{\\\"caption\\\":\\\"LabelPart\\\",\\\"showTitle\\\":false},\\\"typeName\\\":1,\\\"uuid\\\":\\\"eef88c3a-2b24-4de0-9879-3c5ad2cfc6ef\\\",\\\"guid\\\":\\\"146bd90e-cf16-4613-9e9c-fc133ce857e4\\\"}]}]}]},\\\"parts\\\":{\\\"146bd90e-cf16-4613-9e9c-fc133ce857e4\\\":{\\\"application/vnd.maven.part+json\\\":{\\\"name\\\":\\\"LabelPart\\\",\\\"id\\\":\\\"146bd90e-cf16-4613-9e9c-fc133ce857e4\\\",\\\"options\\\":{\\\"Value\\\":{\\\"type\\\":\\\"Eval\\\",\\\"expr\\\":\\\"format_answer(@OrbitalBody, @ExtraDryMass, @SelectedMotor)\\\",\\\"globals\\\":[\\\"OrbitalBody\\\",\\\"ExtraDryMass\\\",\\\"SelectedMotor\\\"]},\\\"Caption\\\":{\\\"type\\\":\\\"Eval\\\",\\\"expr\\\":\\\"format_question(@OrbitalBody, @ExtraDryMass)\\\",\\\"globals\\\":[\\\"OrbitalBody\\\",\\\"ExtraDryMass\\\"]}}},\\\"text/plain\\\":\\\"VisualEditorPart\\\"},\\\"284f576a-a153-4ea7-aa16-dda73b942e30\\\":{\\\"application/vnd.maven.part+json\\\":{\\\"name\\\":\\\"PivotPart\\\",\\\"id\\\":\\\"284f576a-a153-4ea7-aa16-dda73b942e30\\\",\\\"options\\\":{\\\"Input Table\\\":{\\\"type\\\":\\\"Eval\\\",\\\"expr\\\":\\\"calculate_dv_with_mass_ratios(@SelectedMotor)\\\",\\\"globals\\\":[\\\"SelectedMotor\\\"]},\\\"Config\\\":{\\\"typeName\\\":\\\"String\\\",\\\"value\\\":\\\"{\\\\\\\"class\\\\\\\":\\\\\\\"p-Widget\\\\\\\",\\\\\\\"plugin\\\\\\\":\\\\\\\"hypergrid\\\\\\\",\\\\\\\"row-pivots\\\\\\\":\\\\\\\"[\\\\\\\\\\\\\\\"Dry Mass\\\\\\\\\\\\\\\"]\\\\\\\",\\\\\\\"column-pivots\\\\\\\":\\\\\\\"[]\\\\\\\",\\\\\\\"filters\\\\\\\":\\\\\\\"[]\\\\\\\",\\\\\\\"sort\\\\\\\":\\\\\\\"[]\\\\\\\",\\\\\\\"style\\\\\\\":\\\\\\\"position: absolute; width: 100%; height: 100%; z-index: 0; top: 0px; left: 0px;\\\\\\\",\\\\\\\"view\\\\\\\":\\\\\\\"d3_y_line\\\\\\\",\\\\\\\"columns\\\\\\\":\\\\\\\"[\\\\\\\\\\\\\\\"Delta V\\\\\\\\\\\\\\\"]\\\\\\\",\\\\\\\"aggregates\\\\\\\":\\\\\\\"{\\\\\\\\\\\\\\\"Delta V\\\\\\\\\\\\\\\":\\\\\\\\\\\\\\\"sum\\\\\\\\\\\\\\\",\\\\\\\\\\\\\\\"Dry Mass\\\\\\\\\\\\\\\":\\\\\\\\\\\\\\\"sum\\\\\\\\\\\\\\\"}\\\\\\\",\\\\\\\"render_time\\\\\\\":\\\\\\\"26.745000039227307\\\\\\\",\\\\\\\"updating\\\\\\\":\\\\\\\"true\\\\\\\",\\\\\\\"plugin_config\\\\\\\":\\\\\\\"{}\\\\\\\"}\\\"}}},\\\"text/plain\\\":\\\"VisualEditorPart\\\"},\\\"29900262-2904-43e5-8d5c-2aed0e241e4d\\\":{\\\"application/vnd.maven.part+json\\\":{\\\"name\\\":\\\"DropdownPart\\\",\\\"id\\\":\\\"29900262-2904-43e5-8d5c-2aed0e241e4d\\\",\\\"options\\\":{\\\"value\\\":{\\\"type\\\":\\\"Global\\\",\\\"expr\\\":\\\"EngineDiameter\\\",\\\"globals\\\":[\\\"EngineDiameter\\\"]},\\\"options\\\":{\\\"type\\\":\\\"Eval\\\",\\\"expr\\\":\\\"engine_diams\\\",\\\"globals\\\":[]}}},\\\"text/plain\\\":\\\"VisualEditorPart\\\"},\\\"78152a6d-5bcb-4e7c-a60d-a24252335b36\\\":{\\\"application/vnd.maven.part+json\\\":{\\\"name\\\":\\\"LabelPart\\\",\\\"id\\\":\\\"78152a6d-5bcb-4e7c-a60d-a24252335b36\\\",\\\"options\\\":{\\\"Value\\\":{\\\"type\\\":\\\"Eval\\\",\\\"expr\\\":\\\"format_info_str(@SelectedMotor)\\\",\\\"globals\\\":[\\\"SelectedMotor\\\"]},\\\"Caption\\\":{\\\"typeName\\\":\\\"String\\\",\\\"value\\\":\\\"Engine Detail\\\"}}},\\\"text/plain\\\":\\\"VisualEditorPart\\\"},\\\"7a423c20-4014-4ed0-8aa4-228b25603b8e\\\":{\\\"application/vnd.maven.part+json\\\":{\\\"name\\\":\\\"DropdownPart\\\",\\\"id\\\":\\\"7a423c20-4014-4ed0-8aa4-228b25603b8e\\\",\\\"options\\\":{\\\"value\\\":{\\\"type\\\":\\\"Global\\\",\\\"expr\\\":\\\"OrbitalBody\\\",\\\"globals\\\":[\\\"OrbitalBody\\\"]},\\\"options\\\":{\\\"type\\\":\\\"Eval\\\",\\\"expr\\\":\\\"list(CELESTIAL_BODIES.keys())\\\",\\\"globals\\\":[]}}},\\\"text/plain\\\":\\\"VisualEditorPart\\\"},\\\"b7af02c4-5f5f-4e95-b007-f070481663cf\\\":{\\\"application/vnd.maven.part+json\\\":{\\\"name\\\":\\\"SlickGrid\\\",\\\"id\\\":\\\"b7af02c4-5f5f-4e95-b007-f070481663cf\\\",\\\"options\\\":{\\\"Input Table\\\":{\\\"type\\\":\\\"Mql\\\",\\\"expr\\\":\\\"/* @EngineDiameter,@EngineMfr */\\\\nset @cacheKey = 'eng' + @EngineDiameter + @EngineMfr\\\\nset @table = StaticCache(@cacheKey, KernelEval('get_motor_data(\\\\\\\"' + @EngineDiameter + '\\\\\\\", \\\\\\\"' + @EngineMfr + '\\\\\\\")'))\\\\n\\\\nSELECT \\\\n    [common-name] as [Common Name],\\\\n    [avg-thrust-n] as [Stats.Average Thrust],\\\\n    [burn-time-s] as [Stats.Burn Time],\\\\n    [max-thrust-n] as [Stats.Max Thrust],\\\\n    [prop-weight-g] as [Stats.Propellant Weight],\\\\n    [tot-impulse-ns] as [Stats.Total Impulse],\\\\n    [prop-info] as [Propellant Brand],\\\\n    [impulse-class] as [Impulse Letter Class],\\\\n    [diameter] as [Engine Diameter],\\\\n    [info-url] as [ ]\\\\nFROM ChangeRowName(@table, [designation])\\\\nGROUP BY \\\\n    [prop-info],\\\\n    [impulse-class]\\\\nWITH ROLLUP\\\\nHAVING GetLevel() > 0\\\",\\\"globals\\\":[\\\"EngineDiameter\\\",\\\"EngineMfr\\\"]},\\\"Formatting\\\":{\\\"typeName\\\":\\\"String\\\",\\\"value\\\":\\\"{\\\\n    \\\\\\\" \\\\\\\": {\\\\n        \\\\\\\"General.ColumnWidthPixels\\\\\\\": \\\\\\\"0\\\\\\\"\\\\n    },\\\\n    \\\\\\\"Common Name\\\\\\\": {\\\\n        \\\\\\\"General.ColumnWidthPixels\\\\\\\": \\\\\\\"100\\\\\\\"\\\\n    },\\\\n    \\\\\\\"Stats.Average Thrust\\\\\\\": {\\\\n        \\\\\\\"General.ColumnWidthPixels\\\\\\\": \\\\\\\"90\\\\\\\"\\\\n    },\\\\n    \\\\\\\"Stats.Burn Time\\\\\\\": {\\\\n        \\\\\\\"General.ColumnWidthPixels\\\\\\\": \\\\\\\"65\\\\\\\"\\\\n    },\\\\n    \\\\\\\"Stats.Max Thrust\\\\\\\": {\\\\n        \\\\\\\"General.ColumnWidthPixels\\\\\\\": \\\\\\\"70\\\\\\\"\\\\n    },\\\\n    \\\\\\\"Stats.Propellant Weight\\\\\\\": {\\\\n        \\\\\\\"General.ColumnWidthPixels\\\\\\\": \\\\\\\"105\\\\\\\"\\\\n    },\\\\n    \\\\\\\"Stats.Total Impulse\\\\\\\": {\\\\n        \\\\\\\"General.ColumnWidthPixels\\\\\\\": \\\\\\\"80\\\\\\\"\\\\n    },\\\\n    \\\\\\\"Propellant Brand\\\\\\\": {\\\\n        \\\\\\\"General.ColumnWidthPixels\\\\\\\": \\\\\\\"100\\\\\\\"\\\\n    },\\\\n    \\\\\\\"Impulse Letter Class\\\\\\\": {\\\\n        \\\\\\\"General.ColumnWidthPixels\\\\\\\": \\\\\\\"120\\\\\\\"\\\\n    },\\\\n    \\\\\\\"Engine Diameter\\\\\\\": {\\\\n        \\\\\\\"General.ColumnWidthPixels\\\\\\\": \\\\\\\"100\\\\\\\"\\\\n    }\\\\n}\\\\n\\\"},\\\"RadioButtonList. Enabled\\\":{\\\"typeName\\\":\\\"Boolean\\\",\\\"value\\\":true},\\\"RadioButtonList.Column for Radio Buttons\\\":{\\\"typeName\\\":\\\"Number\\\",\\\"value\\\":0},\\\"RadioButtonList.Column for Values\\\":{\\\"typeName\\\":\\\"Number\\\",\\\"value\\\":10},\\\"RadioButtonList.Last Selection\\\":{\\\"type\\\":\\\"Global\\\",\\\"expr\\\":\\\"SelectedMotor\\\",\\\"globals\\\":[\\\"SelectedMotor\\\"]},\\\"Show Path Column\\\":{\\\"typeName\\\":\\\"Boolean\\\",\\\"value\\\":true}}},\\\"text/plain\\\":\\\"VisualEditorPart\\\"},\\\"c1c44d79-323f-460b-b6e8-ed89a34fd7de\\\":{\\\"application/vnd.maven.part+json\\\":{\\\"name\\\":\\\"DropdownPart\\\",\\\"id\\\":\\\"c1c44d79-323f-460b-b6e8-ed89a34fd7de\\\",\\\"options\\\":{\\\"value\\\":{\\\"type\\\":\\\"Global\\\",\\\"expr\\\":\\\"EngineMfr\\\",\\\"globals\\\":[\\\"EngineMfr\\\"]},\\\"options\\\":{\\\"type\\\":\\\"Eval\\\",\\\"expr\\\":\\\"engine_mfrs\\\",\\\"globals\\\":[]}}},\\\"text/plain\\\":\\\"VisualEditorPart\\\"},\\\"e2c607db-19d5-4c21-9d47-dc0f1930559b\\\":{\\\"application/vnd.maven.part+json\\\":{\\\"name\\\":\\\"SliderPart\\\",\\\"id\\\":\\\"e2c607db-19d5-4c21-9d47-dc0f1930559b\\\",\\\"options\\\":{\\\"Value\\\":{\\\"type\\\":\\\"Global\\\",\\\"expr\\\":\\\"ExtraDryMass\\\",\\\"globals\\\":[\\\"ExtraDryMass\\\"]},\\\"Max\\\":{\\\"typeName\\\":\\\"Number\\\",\\\"value\\\":10000},\\\"Step\\\":{\\\"typeName\\\":\\\"Number\\\",\\\"value\\\":100}}},\\\"text/plain\\\":\\\"VisualEditorPart\\\"}},\\\"metadata\\\":{},\\\"globals\\\":[{\\\"name\\\":\\\"EngineDiameter\\\",\\\"type\\\":\\\"String\\\",\\\"value\\\":\\\"98\\\"},{\\\"name\\\":\\\"EngineMfr\\\",\\\"type\\\":\\\"String\\\",\\\"value\\\":\\\"Cesaroni Technology\\\"},{\\\"name\\\":\\\"SelectedMotor\\\",\\\"type\\\":\\\"String\\\",\\\"value\\\":\\\"http://www.thrustcurve.org/motorsearch.jsp?id=964\\\"},{\\\"name\\\":\\\"ExtraDryMass\\\",\\\"type\\\":\\\"Number\\\",\\\"value\\\":100},{\\\"name\\\":\\\"OrbitalBody\\\",\\\"type\\\":\\\"String\\\",\\\"value\\\":\\\"Lunar\\\"}],\\\"localParts\\\":{},\\\"visual\\\":true}}\"), raw=True)\n",
    "del _json"
   ]
  },
  {
   "cell_type": "code",
   "execution_count": null,
   "metadata": {},
   "outputs": [],
   "source": []
  }
 ],
 "metadata": {
  "globals": {
   "EngineDiameter": {
    "name": "EngineDiameter",
    "type": "String",
    "value": {
     "typeName": "String",
     "value": {
      "boxed": false,
      "val": "98"
     }
    }
   },
   "EngineMfr": {
    "name": "EngineMfr",
    "type": "String",
    "value": {
     "typeName": "String",
     "value": {
      "boxed": false,
      "val": "Cesaroni Technology"
     }
    }
   },
   "SelectedMotor": {
    "name": "SelectedMotor",
    "type": "String",
    "value": {
     "typeName": "String",
     "value": {
      "boxed": false,
      "val": "http://www.thrustcurve.org/motorsearch.jsp?id=897"
     }
    }
   }
  },
  "kernelspec": {
   "display_name": "Python 3",
   "language": "python",
   "name": "python3"
  },
  "language_info": {
   "codemirror_mode": {
    "name": "ipython",
    "version": 3
   },
   "file_extension": ".py",
   "mimetype": "text/x-python",
   "name": "python",
   "nbconvert_exporter": "python",
   "pygments_lexer": "ipython3",
   "version": "3.7.3"
  }
 },
 "nbformat": 4,
 "nbformat_minor": 4
}
