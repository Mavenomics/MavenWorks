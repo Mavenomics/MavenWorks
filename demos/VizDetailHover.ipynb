{
 "cells": [
  {
   "cell_type": "code",
   "execution_count": 1,
   "metadata": {},
   "outputs": [],
   "source": [
    "import pandas as pd\n",
    "import mavenworks"
   ]
  },
  {
   "cell_type": "code",
   "execution_count": 2,
   "metadata": {},
   "outputs": [],
   "source": [
    "df = pd.read_csv(\"./kc_house_data.csv\")\n",
    "df = df.set_index([\"zipcode\", \"id\"]).sort_index()\n",
    "\n",
    "filtered_df = None\n",
    "\n",
    "def filter_frame(zipcode):\n",
    "    return df.loc[zipcode][[\"price\", \"sqft_living\"]]"
   ]
  },
  {
   "cell_type": "code",
   "execution_count": 3,
   "metadata": {
    "jupyter": {
     "source_hidden": true
    },
    "showinviewer": "true"
   },
   "outputs": [
    {
     "data": {
      "application/vnd.maven.layout+json": {
       "globals": [
        {
         "name": "SelectedZip",
         "type": "Number",
         "value": 98001
        }
       ],
       "layout": {
        "attachedProperties": [
         {
          "Fixed Size (px)": 96,
          "Stretch": null
         },
         {
          "Fixed Size (px)": null,
          "Stretch": 0.9259259259259259
         }
        ],
        "children": [
         {
          "guid": "b939010b-28d4-4719-8b78-8363f80250fd",
          "properties": {
           "caption": "MavenTitlePart",
           "fixedSize.px": 96,
           "showTitle": false
          },
          "typeName": 1,
          "uuid": "2845fce1-4603-4809-b4fd-20a3bab506ed"
         },
         {
          "guid": "0ab68713-7d35-436a-bc34-6bbb6fba32ed",
          "properties": {
           "caption": "JSScatterPart",
           "flexSize": 0.9259259259259259,
           "showTitle": false
          },
          "typeName": 1,
          "uuid": "697b968f-eadf-4ae4-80ad-9b546b38d9ce"
         }
        ],
        "properties": {
         "flexSize": 1
        },
        "typeName": 0,
        "uuid": "fdc83613-675d-4c63-8646-695cee330173"
       },
       "localParts": {},
       "metadata": {},
       "parts": {
        "0ab68713-7d35-436a-bc34-6bbb6fba32ed": {
         "application/vnd.maven.part+json": {
          "id": "0ab68713-7d35-436a-bc34-6bbb6fba32ed",
          "name": "JSScatterPart",
          "options": {
           "Data": {
            "expr": "filter_frame(@SelectedZip)",
            "globals": [
             "SelectedZip"
            ],
            "type": "Eval"
           },
           "Selected Point": null,
           "X Column": {
            "typeName": "String",
            "value": "sqft_living"
           },
           "Y Column": {
            "typeName": "String",
            "value": "price"
           }
          }
         },
         "text/plain": "VisualEditorPart"
        },
        "b939010b-28d4-4719-8b78-8363f80250fd": {
         "application/vnd.maven.part+json": {
          "id": "b939010b-28d4-4719-8b78-8363f80250fd",
          "name": "MavenTitlePart",
          "options": {
           "Name": {
            "expr": "f\"Pricing for {@SelectedZip}\"",
            "globals": [
             "SelectedZip"
            ],
            "type": "Eval"
           }
          }
         },
         "text/plain": "VisualEditorPart"
        }
       },
       "visual": true
      }
     },
     "metadata": {},
     "output_type": "display_data"
    }
   ],
   "source": [
    "# Auto-generated code, do not edit!\n",
    "_json = __import__(\"json\")\n",
    "display(_json.loads(\"{\\\"application/vnd.maven.layout+json\\\": {\\\"layout\\\":{\\\"properties\\\":{\\\"flexSize\\\":1},\\\"typeName\\\":0,\\\"uuid\\\":\\\"fdc83613-675d-4c63-8646-695cee330173\\\",\\\"attachedProperties\\\":[{\\\"Fixed Size (px)\\\":96,\\\"Stretch\\\":null},{\\\"Fixed Size (px)\\\":null,\\\"Stretch\\\":0.9259259259259259}],\\\"children\\\":[{\\\"properties\\\":{\\\"fixedSize.px\\\":96,\\\"showTitle\\\":false,\\\"caption\\\":\\\"MavenTitlePart\\\"},\\\"typeName\\\":1,\\\"uuid\\\":\\\"2845fce1-4603-4809-b4fd-20a3bab506ed\\\",\\\"guid\\\":\\\"b939010b-28d4-4719-8b78-8363f80250fd\\\"},{\\\"properties\\\":{\\\"flexSize\\\":0.9259259259259259,\\\"showTitle\\\":false,\\\"caption\\\":\\\"JSScatterPart\\\"},\\\"typeName\\\":1,\\\"uuid\\\":\\\"697b968f-eadf-4ae4-80ad-9b546b38d9ce\\\",\\\"guid\\\":\\\"0ab68713-7d35-436a-bc34-6bbb6fba32ed\\\"}]},\\\"parts\\\":{\\\"0ab68713-7d35-436a-bc34-6bbb6fba32ed\\\":{\\\"application/vnd.maven.part+json\\\":{\\\"name\\\":\\\"JSScatterPart\\\",\\\"id\\\":\\\"0ab68713-7d35-436a-bc34-6bbb6fba32ed\\\",\\\"options\\\":{\\\"Data\\\":{\\\"type\\\":\\\"Eval\\\",\\\"expr\\\":\\\"filter_frame(@SelectedZip)\\\",\\\"globals\\\":[\\\"SelectedZip\\\"]},\\\"X Column\\\":{\\\"typeName\\\":\\\"String\\\",\\\"value\\\":\\\"sqft_living\\\"},\\\"Y Column\\\":{\\\"typeName\\\":\\\"String\\\",\\\"value\\\":\\\"price\\\"},\\\"Selected Point\\\":null}},\\\"text/plain\\\":\\\"VisualEditorPart\\\"},\\\"b939010b-28d4-4719-8b78-8363f80250fd\\\":{\\\"application/vnd.maven.part+json\\\":{\\\"name\\\":\\\"MavenTitlePart\\\",\\\"id\\\":\\\"b939010b-28d4-4719-8b78-8363f80250fd\\\",\\\"options\\\":{\\\"Name\\\":{\\\"type\\\":\\\"Eval\\\",\\\"expr\\\":\\\"f\\\\\\\"Pricing for {@SelectedZip}\\\\\\\"\\\",\\\"globals\\\":[\\\"SelectedZip\\\"]}}},\\\"text/plain\\\":\\\"VisualEditorPart\\\"}},\\\"metadata\\\":{},\\\"globals\\\":[{\\\"name\\\":\\\"SelectedZip\\\",\\\"type\\\":\\\"Number\\\",\\\"value\\\":98001}],\\\"localParts\\\":{},\\\"visual\\\":true}}\"), raw=True)\n",
    "del _json"
   ]
  },
  {
   "cell_type": "code",
   "execution_count": null,
   "metadata": {},
   "outputs": [],
   "source": []
  }
 ],
 "metadata": {
  "globals": {
   "SelectedZip": {
    "name": "SelectedZip",
    "type": "Number",
    "value": {
     "typeName": "Number",
     "value": {
      "boxed": false,
      "val": 98001
     }
    }
   }
  },
  "kernelspec": {
   "display_name": "Python 3",
   "language": "python",
   "name": "python3"
  },
  "language_info": {
   "codemirror_mode": {
    "name": "ipython",
    "version": 3
   },
   "file_extension": ".py",
   "mimetype": "text/x-python",
   "name": "python",
   "nbconvert_exporter": "python",
   "pygments_lexer": "ipython3",
   "version": "3.7.3"
  }
 },
 "nbformat": 4,
 "nbformat_minor": 4
}
