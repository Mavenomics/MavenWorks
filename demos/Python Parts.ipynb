{
 "cells": [
  {
   "cell_type": "markdown",
   "metadata": {},
   "source": [
    "# MavenWorks Parts\n",
    "\n",
    "Parts are re-usable components that can be written in a few different languages. Here, we demonstrate a Python Part. Python Parts can be written anywhere- modules, scripts, even inside a notebook. ScatterPart is a built-in to demonstrate the API."
   ]
  },
  {
   "cell_type": "code",
   "execution_count": 1,
   "metadata": {},
   "outputs": [],
   "source": [
    "import mavenworks\n",
    "import pandas as pd\n",
    "import ipywidgets as widgets"
   ]
  },
  {
   "cell_type": "markdown",
   "metadata": {},
   "source": [
    "Load the King's County house pricing dataset. This is a set of house sales prices in the Seattle, WA area."
   ]
  },
  {
   "cell_type": "code",
   "execution_count": 2,
   "metadata": {},
   "outputs": [
    {
     "data": {
      "text/html": [
       "<div>\n",
       "<style scoped>\n",
       "    .dataframe tbody tr th:only-of-type {\n",
       "        vertical-align: middle;\n",
       "    }\n",
       "\n",
       "    .dataframe tbody tr th {\n",
       "        vertical-align: top;\n",
       "    }\n",
       "\n",
       "    .dataframe thead th {\n",
       "        text-align: right;\n",
       "    }\n",
       "</style>\n",
       "<table border=\"1\" class=\"dataframe\">\n",
       "  <thead>\n",
       "    <tr style=\"text-align: right;\">\n",
       "      <th></th>\n",
       "      <th>id</th>\n",
       "      <th>date</th>\n",
       "      <th>price</th>\n",
       "      <th>bedrooms</th>\n",
       "      <th>bathrooms</th>\n",
       "      <th>sqft_living</th>\n",
       "      <th>sqft_lot</th>\n",
       "      <th>floors</th>\n",
       "      <th>waterfront</th>\n",
       "      <th>view</th>\n",
       "      <th>...</th>\n",
       "      <th>grade</th>\n",
       "      <th>sqft_above</th>\n",
       "      <th>sqft_basement</th>\n",
       "      <th>yr_built</th>\n",
       "      <th>yr_renovated</th>\n",
       "      <th>zipcode</th>\n",
       "      <th>lat</th>\n",
       "      <th>long</th>\n",
       "      <th>sqft_living15</th>\n",
       "      <th>sqft_lot15</th>\n",
       "    </tr>\n",
       "  </thead>\n",
       "  <tbody>\n",
       "    <tr>\n",
       "      <td>0</td>\n",
       "      <td>7129300520</td>\n",
       "      <td>20141013T000000</td>\n",
       "      <td>221900.0</td>\n",
       "      <td>3</td>\n",
       "      <td>1.00</td>\n",
       "      <td>1180</td>\n",
       "      <td>5650</td>\n",
       "      <td>1.0</td>\n",
       "      <td>0</td>\n",
       "      <td>0</td>\n",
       "      <td>...</td>\n",
       "      <td>7</td>\n",
       "      <td>1180</td>\n",
       "      <td>0</td>\n",
       "      <td>1955</td>\n",
       "      <td>0</td>\n",
       "      <td>98178</td>\n",
       "      <td>47.5112</td>\n",
       "      <td>-122.257</td>\n",
       "      <td>1340</td>\n",
       "      <td>5650</td>\n",
       "    </tr>\n",
       "    <tr>\n",
       "      <td>1</td>\n",
       "      <td>6414100192</td>\n",
       "      <td>20141209T000000</td>\n",
       "      <td>538000.0</td>\n",
       "      <td>3</td>\n",
       "      <td>2.25</td>\n",
       "      <td>2570</td>\n",
       "      <td>7242</td>\n",
       "      <td>2.0</td>\n",
       "      <td>0</td>\n",
       "      <td>0</td>\n",
       "      <td>...</td>\n",
       "      <td>7</td>\n",
       "      <td>2170</td>\n",
       "      <td>400</td>\n",
       "      <td>1951</td>\n",
       "      <td>1991</td>\n",
       "      <td>98125</td>\n",
       "      <td>47.7210</td>\n",
       "      <td>-122.319</td>\n",
       "      <td>1690</td>\n",
       "      <td>7639</td>\n",
       "    </tr>\n",
       "    <tr>\n",
       "      <td>2</td>\n",
       "      <td>5631500400</td>\n",
       "      <td>20150225T000000</td>\n",
       "      <td>180000.0</td>\n",
       "      <td>2</td>\n",
       "      <td>1.00</td>\n",
       "      <td>770</td>\n",
       "      <td>10000</td>\n",
       "      <td>1.0</td>\n",
       "      <td>0</td>\n",
       "      <td>0</td>\n",
       "      <td>...</td>\n",
       "      <td>6</td>\n",
       "      <td>770</td>\n",
       "      <td>0</td>\n",
       "      <td>1933</td>\n",
       "      <td>0</td>\n",
       "      <td>98028</td>\n",
       "      <td>47.7379</td>\n",
       "      <td>-122.233</td>\n",
       "      <td>2720</td>\n",
       "      <td>8062</td>\n",
       "    </tr>\n",
       "    <tr>\n",
       "      <td>3</td>\n",
       "      <td>2487200875</td>\n",
       "      <td>20141209T000000</td>\n",
       "      <td>604000.0</td>\n",
       "      <td>4</td>\n",
       "      <td>3.00</td>\n",
       "      <td>1960</td>\n",
       "      <td>5000</td>\n",
       "      <td>1.0</td>\n",
       "      <td>0</td>\n",
       "      <td>0</td>\n",
       "      <td>...</td>\n",
       "      <td>7</td>\n",
       "      <td>1050</td>\n",
       "      <td>910</td>\n",
       "      <td>1965</td>\n",
       "      <td>0</td>\n",
       "      <td>98136</td>\n",
       "      <td>47.5208</td>\n",
       "      <td>-122.393</td>\n",
       "      <td>1360</td>\n",
       "      <td>5000</td>\n",
       "    </tr>\n",
       "    <tr>\n",
       "      <td>4</td>\n",
       "      <td>1954400510</td>\n",
       "      <td>20150218T000000</td>\n",
       "      <td>510000.0</td>\n",
       "      <td>3</td>\n",
       "      <td>2.00</td>\n",
       "      <td>1680</td>\n",
       "      <td>8080</td>\n",
       "      <td>1.0</td>\n",
       "      <td>0</td>\n",
       "      <td>0</td>\n",
       "      <td>...</td>\n",
       "      <td>8</td>\n",
       "      <td>1680</td>\n",
       "      <td>0</td>\n",
       "      <td>1987</td>\n",
       "      <td>0</td>\n",
       "      <td>98074</td>\n",
       "      <td>47.6168</td>\n",
       "      <td>-122.045</td>\n",
       "      <td>1800</td>\n",
       "      <td>7503</td>\n",
       "    </tr>\n",
       "  </tbody>\n",
       "</table>\n",
       "<p>5 rows × 21 columns</p>\n",
       "</div>"
      ],
      "text/plain": [
       "           id             date     price  bedrooms  bathrooms  sqft_living  \\\n",
       "0  7129300520  20141013T000000  221900.0         3       1.00         1180   \n",
       "1  6414100192  20141209T000000  538000.0         3       2.25         2570   \n",
       "2  5631500400  20150225T000000  180000.0         2       1.00          770   \n",
       "3  2487200875  20141209T000000  604000.0         4       3.00         1960   \n",
       "4  1954400510  20150218T000000  510000.0         3       2.00         1680   \n",
       "\n",
       "   sqft_lot  floors  waterfront  view  ...  grade  sqft_above  sqft_basement  \\\n",
       "0      5650     1.0           0     0  ...      7        1180              0   \n",
       "1      7242     2.0           0     0  ...      7        2170            400   \n",
       "2     10000     1.0           0     0  ...      6         770              0   \n",
       "3      5000     1.0           0     0  ...      7        1050            910   \n",
       "4      8080     1.0           0     0  ...      8        1680              0   \n",
       "\n",
       "   yr_built  yr_renovated  zipcode      lat     long  sqft_living15  \\\n",
       "0      1955             0    98178  47.5112 -122.257           1340   \n",
       "1      1951          1991    98125  47.7210 -122.319           1690   \n",
       "2      1933             0    98028  47.7379 -122.233           2720   \n",
       "3      1965             0    98136  47.5208 -122.393           1360   \n",
       "4      1987             0    98074  47.6168 -122.045           1800   \n",
       "\n",
       "   sqft_lot15  \n",
       "0        5650  \n",
       "1        7639  \n",
       "2        8062  \n",
       "3        5000  \n",
       "4        7503  \n",
       "\n",
       "[5 rows x 21 columns]"
      ]
     },
     "execution_count": 2,
     "metadata": {},
     "output_type": "execute_result"
    }
   ],
   "source": [
    "data = pd.read_csv(\"./kc_house_data.csv\")\n",
    "data.head()"
   ]
  },
  {
   "cell_type": "code",
   "execution_count": 3,
   "metadata": {
    "jupyter": {
     "source_hidden": true
    },
    "showinviewer": "true"
   },
   "outputs": [
    {
     "data": {
      "application/vnd.maven.layout+json": {
       "globals": [
        {
         "name": "LimitFloors",
         "type": "Number",
         "value": 2
        }
       ],
       "layout": {
        "attachedProperties": [
         {
          "Fixed Size (px)": null,
          "Stretch": 0.20161290322580644
         },
         {
          "Fixed Size (px)": null,
          "Stretch": 1.7983870967741935
         }
        ],
        "children": [
         {
          "guid": "f9bb78a5-7e5d-46f1-a4a1-9e777259a5a7",
          "properties": {
           "caption": "IntSliderPart",
           "showTitle": false
          },
          "typeName": 1,
          "uuid": "f92db785-205d-4bcc-b12d-318991e5aac1"
         },
         {
          "guid": "b8ca54cd-f41f-4cba-a50f-9b9fa5df7fc1",
          "properties": {
           "caption": "Sq. ft. by Price for home sales in King County, WA",
           "showTitle": true
          },
          "typeName": 1,
          "uuid": "11831403-b81f-491a-8e94-15d233f10a70"
         }
        ],
        "properties": {
         "flexSize": 1
        },
        "typeName": 0,
        "uuid": "c91b0998-78e2-4bcc-b792-859312bfdafd"
       },
       "localParts": {},
       "metadata": {},
       "parts": {
        "b8ca54cd-f41f-4cba-a50f-9b9fa5df7fc1": {
         "application/vnd.maven.part+json": {
          "id": "b8ca54cd-f41f-4cba-a50f-9b9fa5df7fc1",
          "name": "PyScatterPart",
          "options": {
           "Input Data": {
            "expr": "data[data['floors'] == @LimitFloors][[\"sqft_living\", \"price\"]]",
            "globals": [
             "LimitFloors"
            ],
            "type": "Eval"
           },
           "X Column": {
            "typeName": "String",
            "value": "sqft_living"
           },
           "Y Column": {
            "typeName": "String",
            "value": "price"
           }
          }
         },
         "text/plain": "VisualEditorPart"
        },
        "f9bb78a5-7e5d-46f1-a4a1-9e777259a5a7": {
         "application/vnd.maven.part+json": {
          "id": "f9bb78a5-7e5d-46f1-a4a1-9e777259a5a7",
          "name": "IntSliderPart",
          "options": {
           "description": {
            "typeName": "String",
            "value": "@LimitFloors"
           },
           "max": {
            "expr": "int(data[\"floors\"].max())",
            "globals": [],
            "type": "Eval"
           },
           "min": {
            "typeName": "Number",
            "value": 1
           },
           "value": {
            "expr": "LimitFloors",
            "globals": [
             "LimitFloors"
            ],
            "type": "Global"
           }
          }
         },
         "text/plain": "VisualEditorPart"
        }
       },
       "visual": true
      }
     },
     "metadata": {},
     "output_type": "display_data"
    }
   ],
   "source": [
    "# Auto-generated code, do not edit!\n",
    "_json = __import__(\"json\")\n",
    "display(_json.loads(\"{\\\"application/vnd.maven.layout+json\\\": {\\\"layout\\\":{\\\"properties\\\":{\\\"flexSize\\\":1},\\\"typeName\\\":0,\\\"uuid\\\":\\\"c91b0998-78e2-4bcc-b792-859312bfdafd\\\",\\\"attachedProperties\\\":[{\\\"Fixed Size (px)\\\":null,\\\"Stretch\\\":0.20161290322580644},{\\\"Fixed Size (px)\\\":null,\\\"Stretch\\\":1.7983870967741935}],\\\"children\\\":[{\\\"properties\\\":{\\\"caption\\\":\\\"IntSliderPart\\\",\\\"showTitle\\\":false},\\\"typeName\\\":1,\\\"uuid\\\":\\\"f92db785-205d-4bcc-b12d-318991e5aac1\\\",\\\"guid\\\":\\\"f9bb78a5-7e5d-46f1-a4a1-9e777259a5a7\\\"},{\\\"properties\\\":{\\\"caption\\\":\\\"Sq. ft. by Price for home sales in King County, WA\\\",\\\"showTitle\\\":true},\\\"typeName\\\":1,\\\"uuid\\\":\\\"11831403-b81f-491a-8e94-15d233f10a70\\\",\\\"guid\\\":\\\"b8ca54cd-f41f-4cba-a50f-9b9fa5df7fc1\\\"}]},\\\"parts\\\":{\\\"b8ca54cd-f41f-4cba-a50f-9b9fa5df7fc1\\\":{\\\"application/vnd.maven.part+json\\\":{\\\"name\\\":\\\"PyScatterPart\\\",\\\"id\\\":\\\"b8ca54cd-f41f-4cba-a50f-9b9fa5df7fc1\\\",\\\"options\\\":{\\\"Input Data\\\":{\\\"type\\\":\\\"Eval\\\",\\\"expr\\\":\\\"data[data['floors'] == @LimitFloors][[\\\\\\\"sqft_living\\\\\\\", \\\\\\\"price\\\\\\\"]]\\\",\\\"globals\\\":[\\\"LimitFloors\\\"]},\\\"X Column\\\":{\\\"typeName\\\":\\\"String\\\",\\\"value\\\":\\\"sqft_living\\\"},\\\"Y Column\\\":{\\\"typeName\\\":\\\"String\\\",\\\"value\\\":\\\"price\\\"}}},\\\"text/plain\\\":\\\"VisualEditorPart\\\"},\\\"f9bb78a5-7e5d-46f1-a4a1-9e777259a5a7\\\":{\\\"application/vnd.maven.part+json\\\":{\\\"name\\\":\\\"IntSliderPart\\\",\\\"id\\\":\\\"f9bb78a5-7e5d-46f1-a4a1-9e777259a5a7\\\",\\\"options\\\":{\\\"value\\\":{\\\"type\\\":\\\"Global\\\",\\\"expr\\\":\\\"LimitFloors\\\",\\\"globals\\\":[\\\"LimitFloors\\\"]},\\\"min\\\":{\\\"typeName\\\":\\\"Number\\\",\\\"value\\\":1},\\\"max\\\":{\\\"type\\\":\\\"Eval\\\",\\\"expr\\\":\\\"int(data[\\\\\\\"floors\\\\\\\"].max())\\\",\\\"globals\\\":[]},\\\"description\\\":{\\\"typeName\\\":\\\"String\\\",\\\"value\\\":\\\"@LimitFloors\\\"}}},\\\"text/plain\\\":\\\"VisualEditorPart\\\"}},\\\"metadata\\\":{},\\\"globals\\\":[{\\\"name\\\":\\\"LimitFloors\\\",\\\"type\\\":\\\"Number\\\",\\\"value\\\":2}],\\\"localParts\\\":{},\\\"visual\\\":true}}\"), raw=True)\n",
    "del _json"
   ]
  },
  {
   "cell_type": "code",
   "execution_count": null,
   "metadata": {},
   "outputs": [],
   "source": []
  }
 ],
 "metadata": {
  "kernelspec": {
   "display_name": "Python 3",
   "language": "python",
   "name": "python3"
  },
  "language_info": {
   "codemirror_mode": {
    "name": "ipython",
    "version": 3
   },
   "file_extension": ".py",
   "mimetype": "text/x-python",
   "name": "python",
   "nbconvert_exporter": "python",
   "pygments_lexer": "ipython3",
   "version": "3.7.3"
  }
 },
 "nbformat": 4,
 "nbformat_minor": 4
}
